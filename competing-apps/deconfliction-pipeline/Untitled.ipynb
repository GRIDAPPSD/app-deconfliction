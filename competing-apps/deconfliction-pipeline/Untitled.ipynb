{
 "cells": [
  {
   "cell_type": "code",
   "execution_count": 1,
   "id": "5db7a5be",
   "metadata": {},
   "outputs": [],
   "source": [
    "import json"
   ]
  },
  {
   "cell_type": "code",
   "execution_count": 11,
   "id": "585479cb",
   "metadata": {},
   "outputs": [],
   "source": [
    "\n",
    "# with open('../deconfliction-methods/mean-setpoint/resolutionResults.json', encoding='utf-8') as inputfile:\n",
    "with open('../deconfliction-methods/rbdm/resolutionResults.json', encoding='utf-8') as inputfile:\n",
    "    resolutionResult = json.load(inputfile)"
   ]
  },
  {
   "cell_type": "code",
   "execution_count": 12,
   "id": "47936684",
   "metadata": {},
   "outputs": [],
   "source": [
    "rheader = ['time','solver', 'failed', 'BatteryUnit.battery1', 'BatteryUnit.battery2', 'BatteryUnit.battery3',\n",
    "   'BatteryUnit.battery4',\n",
    "   'BatteryUnit.battery5',\n",
    "   'RatioTapChanger.reg1a',\n",
    "   'RatioTapChanger.reg2a',\n",
    "   'RatioTapChanger.reg3a',\n",
    "   'RatioTapChanger.reg3c',\n",
    "   'RatioTapChanger.reg4a',\n",
    "   'RatioTapChanger.reg4c']\n",
    "\n",
    "with open('results.csv', 'w') as csv_file:\n",
    "    r = \",\".join(rheader)\n",
    "    csv_file.write(f\"{r}\\n\")"
   ]
  },
  {
   "cell_type": "code",
   "execution_count": 13,
   "id": "d6a57ed2",
   "metadata": {},
   "outputs": [],
   "source": [
    "for time in list(resolutionResult.keys()):\n",
    "    row = ['']*14\n",
    "\n",
    "    row[0] = str(time)\n",
    "    row[1] = str(resolutionResult[time]['deconflictTime'])\n",
    "    row[2] = str(resolutionResult[time]['deconflictionFailed'])\n",
    "    for index in range(3, len(rheader)):\n",
    "        if rheader[index] in resolutionResult[time]['setpoints']:\n",
    "            row[index] = str(resolutionResult[time]['setpoints'][rheader[index]])\n",
    "    with open('results.csv', 'a') as csv_file:\n",
    "        r = \",\".join(row)\n",
    "        csv_file.write(f\"{r}\\n\")"
   ]
  },
  {
   "cell_type": "code",
   "execution_count": 14,
   "id": "91a62600",
   "metadata": {},
   "outputs": [],
   "source": [
    "# with open('../deconfliction-methods/mean-setpoint/conflictResults.json', encoding='utf-8') as inputfile:\n",
    "with open('../deconfliction-methods/rbdm/conflictResults.json', encoding='utf-8') as inputfile:\n",
    "    conflictResult = json.load(inputfile)"
   ]
  },
  {
   "cell_type": "code",
   "execution_count": 15,
   "id": "b1f772c7",
   "metadata": {},
   "outputs": [],
   "source": [
    "# header = ['time',\n",
    "#           'BatteryUnit.battery1',\"decarbonization-app\",  \"resilience-app\",\n",
    "#           'BatteryUnit.battery2',\"decarbonization-app\",  \"resilience-app\",\n",
    "#           'BatteryUnit.battery3',\"decarbonization-app\",  \"resilience-app\",\n",
    "#    'BatteryUnit.battery4',\"decarbonization-app\",  \"resilience-app\",\n",
    "#    'BatteryUnit.battery5',\"decarbonization-app\",  \"resilience-app\",\n",
    "#    'RatioTapChanger.reg1a',\"decarbonization-app\",  \"resilience-app\",\n",
    "#    'RatioTapChanger.reg2a',\"decarbonization-app\",  \"resilience-app\",\n",
    "#    'RatioTapChanger.reg3a',\"decarbonization-app\",  \"resilience-app\",\n",
    "#    'RatioTapChanger.reg3c',\"decarbonization-app\",  \"resilience-app\",\n",
    "#    'RatioTapChanger.reg4a',\"decarbonization-app\",  \"resilience-app\",\n",
    "#    'RatioTapChanger.reg4c', \"decarbonization-app\",  \"resilience-app\"]"
   ]
  },
  {
   "cell_type": "code",
   "execution_count": 16,
   "id": "eead8ba5",
   "metadata": {},
   "outputs": [],
   "source": [
    "header = ['time',\n",
    "          'BatteryUnit.battery1',\"decarbonization-app\",  \"resilience-app\",\n",
    "          'BatteryUnit.battery2',\"decarbonization-app\",  \"resilience-app\",\n",
    "          'BatteryUnit.battery3',\"decarbonization-app\",  \"resilience-app\",\n",
    "   'BatteryUnit.battery4',\"decarbonization-app\",  \"resilience-app\",\n",
    "   'BatteryUnit.battery5',\"decarbonization-app\",  \"resilience-app\",\n",
    "   'RatioTapChanger.reg1a',\"decarbonization-app\",  \"resilience-app\",\n",
    "   'RatioTapChanger.reg2a',\"decarbonization-app\",  \"resilience-app\",\n",
    "   'RatioTapChanger.reg3a',\"decarbonization-app\",  \"resilience-app\",\n",
    "   'RatioTapChanger.reg3c',\"decarbonization-app\",  \"resilience-app\",\n",
    "   'RatioTapChanger.reg4a',\"decarbonization-app\",  \"resilience-app\",\n",
    "   'RatioTapChanger.reg4c', \"decarbonization-app\",  \"resilience-app\"]"
   ]
  },
  {
   "cell_type": "code",
   "execution_count": 17,
   "id": "c339432b",
   "metadata": {},
   "outputs": [],
   "source": [
    "with open('conflicts.csv', 'w') as csv_file:\n",
    "    r = \",\".join(header)\n",
    "    csv_file.write(f\"{r}\\n\")"
   ]
  },
  {
   "cell_type": "code",
   "execution_count": 18,
   "id": "662771a8",
   "metadata": {},
   "outputs": [],
   "source": [
    "for time in list(conflictResult.keys()):\n",
    "    row = ['']*45\n",
    "\n",
    "    row[0] = str(float(time)*0.0104166666666667)\n",
    "    for index in range(1, len(header),3):\n",
    "        if header[index] in conflictResult[time]['setpoints']:\n",
    "            try:\n",
    "                row[index] = str(resolutionResult[time]['setpoints'][rheader[(round(index/4)+3)]])\n",
    "            except:\n",
    "                row[index] = str(conflictResult[time]['setpoints'][header[index]][header[index+1]])\n",
    "            row[index+1] = str(conflictResult[time]['setpoints'][header[index]][header[index+1]])\n",
    "            row[index+2] = str(conflictResult[time]['setpoints'][header[index]][header[index+2]])\n",
    "            # row[index+3] = str(conflictResult[time]['setpoints'][header[index]][header[index+3]])\n",
    "            \n",
    "    with open('conflicts.csv', 'a') as csv_file:\n",
    "        r = \",\".join(row)\n",
    "        csv_file.write(f\"{r}\\n\")"
   ]
  },
  {
   "cell_type": "code",
   "execution_count": null,
   "id": "ad3c167a",
   "metadata": {},
   "outputs": [],
   "source": []
  },
  {
   "cell_type": "code",
   "execution_count": null,
   "id": "96f3ec23",
   "metadata": {},
   "outputs": [],
   "source": []
  }
 ],
 "metadata": {
  "kernelspec": {
   "display_name": "Python 3 (ipykernel)",
   "language": "python",
   "name": "python3"
  },
  "language_info": {
   "codemirror_mode": {
    "name": "ipython",
    "version": 3
   },
   "file_extension": ".py",
   "mimetype": "text/x-python",
   "name": "python",
   "nbconvert_exporter": "python",
   "pygments_lexer": "ipython3",
   "version": "3.10.12"
  }
 },
 "nbformat": 4,
 "nbformat_minor": 5
}
