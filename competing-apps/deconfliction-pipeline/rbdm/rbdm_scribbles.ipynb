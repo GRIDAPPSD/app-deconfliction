{
 "cells": [
  {
   "cell_type": "code",
   "execution_count": 1,
   "id": "9664de71",
   "metadata": {},
   "outputs": [],
   "source": [
    "import json\n",
    "import opendssdirect as dss\n",
    "import time\n",
    "import math\n",
    "import re"
   ]
  },
  {
   "cell_type": "code",
   "execution_count": 2,
   "id": "ca7e2a16",
   "metadata": {},
   "outputs": [
    {
     "data": {
      "text/plain": [
       "{'123.1': {'RatioTapChanger.reg4a': {'decarbonization-app': 3,\n",
       "   'profit_cvr-app': 0,\n",
       "   'resilience-app': 3},\n",
       "  'RatioTapChanger.reg4b': {'decarbonization-app': 3,\n",
       "   'profit_cvr-app': 0,\n",
       "   'resilience-app': 5},\n",
       "  'RatioTapChanger.reg4c': {'decarbonization-app': -9,\n",
       "   'profit_cvr-app': 4,\n",
       "   'resilience-app': -1},\n",
       "  'BatteryUnit.battery4': {'decarbonization-app': -150000.0,\n",
       "   'profit_cvr-app': -150000.0,\n",
       "   'resilience-app': 150000.0}},\n",
       " '123.2': {'BatteryUnit.battery5': {'decarbonization-app': -250000.0,\n",
       "   'profit_cvr-app': -221526.5,\n",
       "   'resilience-app': 250000.0}},\n",
       " '123.3': {'BatteryUnit.battery3': {'decarbonization-app': -100000.0,\n",
       "   'profit_cvr-app': -100000.0,\n",
       "   'resilience-app': 100000.0}},\n",
       " '123.4': {'RatioTapChanger.reg1a': {'decarbonization-app': 6,\n",
       "   'profit_cvr-app': -5,\n",
       "   'resilience-app': 0},\n",
       "  'RatioTapChanger.reg2a': {'decarbonization-app': -12,\n",
       "   'profit_cvr-app': -1,\n",
       "   'resilience-app': 2},\n",
       "  'RatioTapChanger.reg3a': {'decarbonization-app': -12,\n",
       "   'profit_cvr-app': 1,\n",
       "   'resilience-app': 6},\n",
       "  'RatioTapChanger.reg3c': {'decarbonization-app': -10,\n",
       "   'profit_cvr-app': 6,\n",
       "   'resilience-app': -5},\n",
       "  'BatteryUnit.battery1': {'decarbonization-app': -125000.0,\n",
       "   'profit_cvr-app': -62176.602,\n",
       "   'resilience-app': 125000.0}}}"
      ]
     },
     "execution_count": 2,
     "metadata": {},
     "output_type": "execute_result"
    }
   ],
   "source": [
    "#open conflict matrix\n",
    "fcm = open(\"ConflictMatrix.json\", \"r\")\n",
    "ConflictMatrix = json.loads(fcm.read())\n",
    "\n",
    "#open dist_equip_map\n",
    "fcm = open(\"AddressableEquipment.json\", \"r\")\n",
    "AddressableEquipment = json.loads(fcm.read())\n",
    "\n",
    "DistributedConflictMatrix = {}\n",
    "for area_id in list(AddressableEquipment.keys()):\n",
    "    DistributedConflictMatrix[area_id] = {}\n",
    "    for eq_id in AddressableEquipment[area_id]:\n",
    "        DistributedConflictMatrix[area_id][eq_id] = ConflictMatrix['setpoints'][eq_id]\n",
    "        \n",
    "DistributedConflictMatrix"
   ]
  },
  {
   "cell_type": "code",
   "execution_count": 3,
   "id": "540cb8c9",
   "metadata": {},
   "outputs": [
    {
     "ename": "NameError",
     "evalue": "name 'self' is not defined",
     "output_type": "error",
     "traceback": [
      "\u001b[0;31m---------------------------------------------------------------------------\u001b[0m",
      "\u001b[0;31mNameError\u001b[0m                                 Traceback (most recent call last)",
      "\u001b[0;32m/tmp/ipykernel_1665716/752467188.py\u001b[0m in \u001b[0;36m<module>\u001b[0;34m\u001b[0m\n\u001b[1;32m      5\u001b[0m \u001b[0;34m\u001b[0m\u001b[0m\n\u001b[1;32m      6\u001b[0m \u001b[0mxfmr_id\u001b[0m \u001b[0;34m=\u001b[0m \u001b[0mdss\u001b[0m\u001b[0;34m.\u001b[0m\u001b[0mTransformers\u001b[0m\u001b[0;34m.\u001b[0m\u001b[0mFirst\u001b[0m\u001b[0;34m(\u001b[0m\u001b[0;34m)\u001b[0m\u001b[0;34m\u001b[0m\u001b[0;34m\u001b[0m\u001b[0m\n\u001b[0;32m----> 7\u001b[0;31m \u001b[0mself\u001b[0m\u001b[0;34m.\u001b[0m\u001b[0mtap_vals\u001b[0m \u001b[0;34m=\u001b[0m \u001b[0;34m{\u001b[0m\u001b[0;34m}\u001b[0m\u001b[0;34m\u001b[0m\u001b[0;34m\u001b[0m\u001b[0m\n\u001b[0m\u001b[1;32m      8\u001b[0m \u001b[0;32mwhile\u001b[0m \u001b[0mxfmr_id\u001b[0m\u001b[0;34m:\u001b[0m\u001b[0;34m\u001b[0m\u001b[0;34m\u001b[0m\u001b[0m\n\u001b[1;32m      9\u001b[0m     \u001b[0mtap_vals\u001b[0m\u001b[0;34m[\u001b[0m\u001b[0mdss\u001b[0m\u001b[0;34m.\u001b[0m\u001b[0mTransformers\u001b[0m\u001b[0;34m.\u001b[0m\u001b[0mName\u001b[0m\u001b[0;34m(\u001b[0m\u001b[0;34m)\u001b[0m\u001b[0;34m]\u001b[0m \u001b[0;34m=\u001b[0m \u001b[0mround\u001b[0m\u001b[0;34m(\u001b[0m\u001b[0;34m(\u001b[0m\u001b[0mdss\u001b[0m\u001b[0;34m.\u001b[0m\u001b[0mTransformers\u001b[0m\u001b[0;34m.\u001b[0m\u001b[0mTap\u001b[0m\u001b[0;34m(\u001b[0m\u001b[0;34m)\u001b[0m\u001b[0;34m-\u001b[0m\u001b[0;36m1\u001b[0m\u001b[0;34m)\u001b[0m\u001b[0;34m*\u001b[0m\u001b[0;36m160\u001b[0m\u001b[0;34m)\u001b[0m\u001b[0;34m\u001b[0m\u001b[0;34m\u001b[0m\u001b[0m\n",
      "\u001b[0;31mNameError\u001b[0m: name 'self' is not defined"
     ]
    }
   ],
   "source": [
    "# This should be part of init\n",
    "dss.run_command('Redirect ./123Bus/Run_IEEE123Bus.dss')\n",
    "dss.run_command('Compile ./123Bus/Run_IEEE123Bus.dss')\n",
    "dss.Solution.Solve()\n",
    "\n",
    "xfmr_id = dss.Transformers.First()\n",
    "self.tap_vals = {}\n",
    "while xfmr_id:\n",
    "    tap_vals[dss.Transformers.Name()] = round((dss.Transformers.Tap()-1)*160)\n",
    "    xfmr_id = dss.Transformers.Next()\n",
    "\n"
   ]
  },
  {
   "cell_type": "code",
   "execution_count": 4,
   "id": "2002345e",
   "metadata": {},
   "outputs": [
    {
     "ename": "NameError",
     "evalue": "name 'self' is not defined",
     "output_type": "error",
     "traceback": [
      "\u001b[0;31m---------------------------------------------------------------------------\u001b[0m",
      "\u001b[0;31mNameError\u001b[0m                                 Traceback (most recent call last)",
      "\u001b[0;32m/tmp/ipykernel_1665716/4001155189.py\u001b[0m in \u001b[0;36m<module>\u001b[0;34m\u001b[0m\n\u001b[1;32m      6\u001b[0m         \u001b[0meq_name\u001b[0m \u001b[0;34m=\u001b[0m \u001b[0meq_str\u001b[0m\u001b[0;34m.\u001b[0m\u001b[0mgroup\u001b[0m\u001b[0;34m(\u001b[0m\u001b[0;36m1\u001b[0m\u001b[0;34m)\u001b[0m\u001b[0;34m\u001b[0m\u001b[0;34m\u001b[0m\u001b[0m\n\u001b[1;32m      7\u001b[0m \u001b[0;34m\u001b[0m\u001b[0m\n\u001b[0;32m----> 8\u001b[0;31m         \u001b[0mmax_budget_tap\u001b[0m \u001b[0;34m=\u001b[0m \u001b[0mself\u001b[0m\u001b[0;34m.\u001b[0m\u001b[0mtap_vals\u001b[0m\u001b[0;34m[\u001b[0m\u001b[0meq_name\u001b[0m\u001b[0;34m]\u001b[0m \u001b[0;34m+\u001b[0m \u001b[0;36m2\u001b[0m\u001b[0;34m\u001b[0m\u001b[0;34m\u001b[0m\u001b[0m\n\u001b[0m\u001b[1;32m      9\u001b[0m         \u001b[0mmin_budget_tap\u001b[0m \u001b[0;34m=\u001b[0m \u001b[0mself\u001b[0m\u001b[0;34m.\u001b[0m\u001b[0mtap_vals\u001b[0m\u001b[0;34m[\u001b[0m\u001b[0meq_name\u001b[0m\u001b[0;34m]\u001b[0m \u001b[0;34m-\u001b[0m \u001b[0;36m2\u001b[0m\u001b[0;34m\u001b[0m\u001b[0;34m\u001b[0m\u001b[0m\n\u001b[1;32m     10\u001b[0m         \u001b[0mprint\u001b[0m\u001b[0;34m(\u001b[0m\u001b[0meq_name\u001b[0m\u001b[0;34m,\u001b[0m \u001b[0mmax_budget_tap\u001b[0m\u001b[0;34m,\u001b[0m \u001b[0mmin_budget_tap\u001b[0m\u001b[0;34m)\u001b[0m\u001b[0;34m\u001b[0m\u001b[0;34m\u001b[0m\u001b[0m\n",
      "\u001b[0;31mNameError\u001b[0m: name 'self' is not defined"
     ]
    }
   ],
   "source": [
    "# this should be used to eliminate alternatives\n",
    "\n",
    "for setpoint in list(ConflictMatrix[\"setpoints\"].keys()):\n",
    "    if \"Tap\" in setpoint:\n",
    "        eq_str = re.match(r'RatioTapChanger\\.(.*)', setpoint)\n",
    "        eq_name = eq_str.group(1)\n",
    "        \n",
    "        max_budget_tap = self.tap_vals[eq_name] + 2\n",
    "        min_budget_tap = self.tap_vals[eq_name] - 2\n",
    "        print(eq_name, max_budget_tap, min_budget_tap)   \n",
    "        \n",
    "# After resolution, we update self.tap_vals with final value"
   ]
  },
  {
   "cell_type": "code",
   "execution_count": 5,
   "id": "d949ae2d",
   "metadata": {},
   "outputs": [],
   "source": [
    "feeder_mrid = \"_C1C3E687-6FFD-C753-582B-632A27E28507\"  # 123 bus\n",
    "# feeder_mrid = \"_49AD8E07-3BF9-A4E2-CB8F-C3722F837B62\"  # 13 bus\n",
    "# feeder_mrid = \"_5B816B93-7A5F-B64C-8460-47C17D6E4B0F\" # 13 bus asets\n",
    "#feeder_mrid = \"_4F76A5F9-271D-9EB8-5E31-AA362D86F2C3\"  # 8500 node\n",
    "#feeder_mrid = \"_67AB291F-DCCD-31B7-B499-338206B9828F\" # J1\n",
    "#feeder_mrid = \"_9CE150A8-8CC5-A0F9-B67E-BBD8C79D3095\"  # R2 12.47 3\n",
    "#feeder_mrid = \"_EE71F6C9-56F0-4167-A14E-7F4C71F10EAA\" #9500 node"
   ]
  },
  {
   "cell_type": "code",
   "execution_count": 6,
   "id": "ecef4378",
   "metadata": {},
   "outputs": [
    {
     "ename": "KeyboardInterrupt",
     "evalue": "",
     "output_type": "error",
     "traceback": [
      "\u001b[0;31m---------------------------------------------------------------------------\u001b[0m",
      "\u001b[0;31mKeyboardInterrupt\u001b[0m                         Traceback (most recent call last)",
      "\u001b[0;32m/tmp/ipykernel_1665716/1435197774.py\u001b[0m in \u001b[0;36m<module>\u001b[0;34m\u001b[0m\n\u001b[1;32m     12\u001b[0m \u001b[0mparams\u001b[0m \u001b[0;34m=\u001b[0m \u001b[0mConnectionParameters\u001b[0m\u001b[0;34m(\u001b[0m\u001b[0;34m[\u001b[0m\u001b[0mParameter\u001b[0m\u001b[0;34m(\u001b[0m\u001b[0mkey\u001b[0m\u001b[0;34m=\u001b[0m\u001b[0;34m\"url\"\u001b[0m\u001b[0;34m,\u001b[0m \u001b[0mvalue\u001b[0m\u001b[0;34m=\u001b[0m\u001b[0;34m\"http://localhost:8889/bigdata/namespace/kb/sparql\"\u001b[0m\u001b[0;34m)\u001b[0m\u001b[0;34m]\u001b[0m\u001b[0;34m)\u001b[0m\u001b[0;34m\u001b[0m\u001b[0;34m\u001b[0m\u001b[0m\n\u001b[1;32m     13\u001b[0m \u001b[0mbg\u001b[0m \u001b[0;34m=\u001b[0m \u001b[0mBlazegraphConnection\u001b[0m\u001b[0;34m(\u001b[0m\u001b[0mparams\u001b[0m\u001b[0;34m,\u001b[0m \u001b[0;34m'rc4_2021'\u001b[0m\u001b[0;34m)\u001b[0m\u001b[0;34m\u001b[0m\u001b[0;34m\u001b[0m\u001b[0m\n\u001b[0;32m---> 14\u001b[0;31m \u001b[0mtopology_response\u001b[0m \u001b[0;34m=\u001b[0m \u001b[0mget_topology_response\u001b[0m\u001b[0;34m(\u001b[0m\u001b[0mfeeder_mrid\u001b[0m\u001b[0;34m)\u001b[0m\u001b[0;34m\u001b[0m\u001b[0;34m\u001b[0m\u001b[0m\n\u001b[0m",
      "\u001b[0;32m~/.local/lib/python3.10/site-packages/cimgraph/loaders/gridappsd/__init__.py\u001b[0m in \u001b[0;36mget_topology_response\u001b[0;34m(feeder_mrid)\u001b[0m\n\u001b[1;32m    234\u001b[0m     }\n\u001b[1;32m    235\u001b[0m \u001b[0;34m\u001b[0m\u001b[0m\n\u001b[0;32m--> 236\u001b[0;31m     \u001b[0mtopo_response\u001b[0m \u001b[0;34m=\u001b[0m \u001b[0mgapps\u001b[0m\u001b[0;34m.\u001b[0m\u001b[0mget_response\u001b[0m\u001b[0;34m(\u001b[0m\u001b[0mtopic\u001b[0m\u001b[0;34m=\u001b[0m\u001b[0mtopic\u001b[0m\u001b[0;34m,\u001b[0m \u001b[0mmessage\u001b[0m\u001b[0;34m=\u001b[0m\u001b[0mmessage\u001b[0m\u001b[0;34m,\u001b[0m \u001b[0mtimeout\u001b[0m\u001b[0;34m=\u001b[0m\u001b[0;36m30\u001b[0m\u001b[0;34m)\u001b[0m\u001b[0;34m\u001b[0m\u001b[0;34m\u001b[0m\u001b[0m\n\u001b[0m\u001b[1;32m    237\u001b[0m     \u001b[0;32mreturn\u001b[0m \u001b[0mtopo_response\u001b[0m\u001b[0;34m\u001b[0m\u001b[0;34m\u001b[0m\u001b[0m\n\u001b[1;32m    238\u001b[0m \u001b[0;34m\u001b[0m\u001b[0m\n",
      "\u001b[0;32m~/.local/lib/python3.10/site-packages/gridappsd/goss.py\u001b[0m in \u001b[0;36mget_response\u001b[0;34m(self, topic, message, timeout)\u001b[0m\n\u001b[1;32m    206\u001b[0m                 \u001b[0;32mbreak\u001b[0m\u001b[0;34m\u001b[0m\u001b[0;34m\u001b[0m\u001b[0m\n\u001b[1;32m    207\u001b[0m \u001b[0;34m\u001b[0m\u001b[0m\n\u001b[0;32m--> 208\u001b[0;31m             \u001b[0msleep\u001b[0m\u001b[0;34m(\u001b[0m\u001b[0;36m1\u001b[0m\u001b[0;34m)\u001b[0m\u001b[0;34m\u001b[0m\u001b[0;34m\u001b[0m\u001b[0m\n\u001b[0m\u001b[1;32m    209\u001b[0m             \u001b[0mcount\u001b[0m \u001b[0;34m+=\u001b[0m \u001b[0;36m1\u001b[0m\u001b[0;34m\u001b[0m\u001b[0;34m\u001b[0m\u001b[0m\n\u001b[1;32m    210\u001b[0m \u001b[0;34m\u001b[0m\u001b[0m\n",
      "\u001b[0;31mKeyboardInterrupt\u001b[0m: "
     ]
    }
   ],
   "source": [
    "import importlib\n",
    "cim_profile = 'rc4_2021'\n",
    "cim = importlib.import_module('cimgraph.data_profile.' + cim_profile)\n",
    "sparql = importlib.import_module('cimgraph.loaders.sparql.' + cim_profile)\n",
    "\n",
    "from cimgraph.loaders import Parameter, ConnectionParameters\n",
    "from cimgraph.loaders.blazegraph.blazegraph import BlazegraphConnection\n",
    "from cimgraph.loaders.gridappsd import GridappsdConnection, get_topology_response\n",
    "from cimgraph.models import DistributedModel\n",
    "\n",
    "# Blazegraph connection for running outside the container\n",
    "params = ConnectionParameters([Parameter(key=\"url\", value=\"http://localhost:8889/bigdata/namespace/kb/sparql\")])\n",
    "bg = BlazegraphConnection(params, 'rc4_2021')\n",
    "topology_response = get_topology_response(feeder_mrid)"
   ]
  },
  {
   "cell_type": "code",
   "execution_count": null,
   "id": "9c1f419c",
   "metadata": {},
   "outputs": [],
   "source": [
    "feeder = cim.Feeder(mRID=feeder_mrid)\n",
    "network = DistributedModel(connection=bg, feeder=feeder, topology=topology_response['feeders'])"
   ]
  },
  {
   "cell_type": "code",
   "execution_count": null,
   "id": "fa48c943",
   "metadata": {},
   "outputs": [],
   "source": [
    "node_list = []\n",
    "for node in network.switch_areas[2].typed_catalog[cim.ConnectivityNode].values():\n",
    "    node_list.append(node.name)"
   ]
  },
  {
   "cell_type": "code",
   "execution_count": null,
   "id": "481b0981",
   "metadata": {},
   "outputs": [],
   "source": [
    "node_list"
   ]
  },
  {
   "cell_type": "code",
   "execution_count": null,
   "id": "c02dfaed",
   "metadata": {},
   "outputs": [],
   "source": [
    "dist_eqip =\n",
    "\n"
   ]
  },
  {
   "cell_type": "code",
   "execution_count": null,
   "id": "bdb77d1a",
   "metadata": {},
   "outputs": [],
   "source": [
    "alt = {}\n",
    "alt['a1'] = {}\n",
    "alt['a1']['RatioTapChanger:reg1a'] =  -2\n",
    "alt['a1']['RatioTapChanger:reg2a'] =  -1\n",
    "alt['a1']['RatioTapChanger:reg3a'] =  4\n",
    "\n",
    "alt['a2'] = {}\n",
    "alt['a2']['RatioTapChanger:reg1a'] =  -1\n",
    "alt['a2']['RatioTapChanger:reg2a'] =  -1\n",
    "alt['a2']['RatioTapChanger:reg3a'] =  4\n",
    "\n",
    "alt['a3'] = {}\n",
    "alt['a3']['RatioTapChanger:reg1a'] =  -0\n",
    "alt['a3']['RatioTapChanger:reg2a'] =  -1\n",
    "alt['a3']['RatioTapChanger:reg3a'] =  4\n"
   ]
  },
  {
   "cell_type": "code",
   "execution_count": null,
   "id": "0e75dfa9",
   "metadata": {},
   "outputs": [],
   "source": [
    "dss.run_command('Redirect ./123Bus/Run_IEEE123Bus.dss')"
   ]
  },
  {
   "cell_type": "code",
   "execution_count": null,
   "id": "e6d5aa64",
   "metadata": {},
   "outputs": [],
   "source": [
    "dss.run_command('Compile ./123Bus/Run_IEEE123Bus.dss')"
   ]
  },
  {
   "cell_type": "code",
   "execution_count": null,
   "id": "01571aff",
   "metadata": {},
   "outputs": [],
   "source": [
    "dss.Solution.Solve()\n"
   ]
  },
  {
   "cell_type": "code",
   "execution_count": 8,
   "id": "73e27a9e",
   "metadata": {},
   "outputs": [],
   "source": [
    "from dss import DSS"
   ]
  },
  {
   "cell_type": "code",
   "execution_count": 9,
   "id": "dc1bb473",
   "metadata": {},
   "outputs": [
    {
     "data": {
      "text/plain": [
       "<dss.IDSS.IDSS at 0x7f9cd2bdac00>"
      ]
     },
     "execution_count": 9,
     "metadata": {},
     "output_type": "execute_result"
    }
   ],
   "source": [
    "DSS.NewContext()"
   ]
  },
  {
   "cell_type": "code",
   "execution_count": null,
   "id": "237903d3",
   "metadata": {},
   "outputs": [],
   "source": []
  },
  {
   "cell_type": "code",
   "execution_count": null,
   "id": "5212730d",
   "metadata": {},
   "outputs": [],
   "source": []
  },
  {
   "cell_type": "code",
   "execution_count": null,
   "id": "a867e007",
   "metadata": {},
   "outputs": [],
   "source": []
  },
  {
   "cell_type": "code",
   "execution_count": null,
   "id": "e2ca7e76",
   "metadata": {},
   "outputs": [],
   "source": [
    "StartTime = time.process_time()\n",
    "\n",
    "violations = False\n",
    "\n",
    "bus_volt = dss.Circuit.AllBusMagPu()\n",
    "print(min(bus_volt), max(bus_volt))\n",
    "if min(bus_volt) < 0.95:\n",
    "    violations = True\n",
    "    print(\"violations!\")\n",
    "elif max(bus_volt) > 1.10:\n",
    "    violations = True\n",
    "    print(\"violations!\")\n",
    "\n",
    "sub = dss.Circuit.TotalPower()\n",
    "sub_kva = math.sqrt((sub[0]*sub[0]) + (sub[1]*sub[1]))\n",
    "if sub_kva > 5000 or sub_kva < -5000:\n",
    "    violations = True\n",
    "    \n",
    "dss.Circuit.SetActiveClass('Transformer')\n",
    "device = dss.Circuit.FirstElement()\n",
    "while device:\n",
    "    a = dss.CktElement.CurrentsMagAng()\n",
    "    if a[0] > 668:\n",
    "        violations = True\n",
    "        \n",
    "    device = dss.Circuit.NextElement()\n",
    "print(time.process_time() - StartTime)\n",
    "    "
   ]
  },
  {
   "cell_type": "code",
   "execution_count": null,
   "id": "10060c42",
   "metadata": {},
   "outputs": [],
   "source": [
    "StartTime = time.process_time()\n",
    "\n",
    "c_t = 0.02817 #transmission price $/kWh\n",
    "c_r = 0.1090 #retail rate\n",
    "c_n = 0.01786 #feed-in tariff\n",
    "c_dies = 0.34 #diesel fuel cost\n",
    "c_lng = 0.25 #lng fuel cost\n",
    "\n",
    "e_t = 1.205 #grid co2 lb/kWh\n",
    "e_dies = 2.44\n",
    "e_lng = 0.97\n",
    "\n",
    "\n",
    "bus_shunt_p = {}\n",
    "total_load = 0\n",
    "total_pv = 0\n",
    "total_dg = 0\n",
    "profit = 0\n",
    "emissions = 0\n",
    "\n",
    "sub = dss.Circuit.TotalPower()\n",
    "p_sub = sub[0]\n",
    "\n",
    "loss = dss.Circuit.Losses()\n",
    "p_loss = loss[0]/1000\n",
    "\n",
    "dss.Circuit.SetActiveClass('Load')\n",
    "device = dss.Circuit.FirstElement()\n",
    "\n",
    "while device:\n",
    "    output = dss.CktElement.TotalPowers()\n",
    "    bus = dss.CktElement.BusNames()\n",
    "    bus_shunt_p[bus[0]] = output[0]\n",
    "    total_load = total_load + output[0]\n",
    "    device = dss.Circuit.NextElement()\n",
    "    \n",
    "dss.Circuit.SetActiveClass('PVSystem')\n",
    "device = dss.Circuit.FirstElement()\n",
    "while device:\n",
    "    output = dss.CktElement.TotalPowers()\n",
    "    bus = dss.CktElement.BusNames()\n",
    "    total_pv = total_pv + output[0]\n",
    "    if bus[0] in bus_shunt_p.keys():\n",
    "        bus_shunt_p[bus[0]] = bus_shunt_p[bus[0]] + output[0]\n",
    "    else:\n",
    "        bus_shunt_p[bus[0]] = output[0]\n",
    "    device = dss.Circuit.NextElement()\n",
    "    \n",
    "dss.Circuit.SetActiveClass('Generator')\n",
    "device = dss.Circuit.FirstElement()\n",
    "while device:\n",
    "    output = dss.CktElement.TotalPowers()\n",
    "    p_dg = output[0]\n",
    "    total_dg = total_dg + p_dg\n",
    "    if 'dies' in dss.CktElement.Name():\n",
    "        profit = profit + p_dg*c_dies\n",
    "        emissions = emissions - p_dg*e_dies\n",
    "    elif 'lng' in dss.CktElement.Name():\n",
    "        profit = profit + p_dg*c_lng\n",
    "        emissions = emissions - p_dg*e_lng\n",
    "    device = dss.Circuit.NextElement()\n",
    "\n",
    "emissions = emissions - p_sub*e_t\n",
    "profit = profit + p_sub*c_t\n",
    "for bus in list(bus_shunt_p.keys()):\n",
    "    p = bus_shunt_p[bus]\n",
    "    if  p > 0:\n",
    "        profit = profit + p*c_r\n",
    "    else:\n",
    "        profit = profit + p*c_n\n",
    "        \n",
    "\n",
    "    \n",
    "print(time.process_time() - StartTime)\n",
    "print(profit)\n",
    "print(p_loss)\n",
    "print(emissions)"
   ]
  },
  {
   "cell_type": "code",
   "execution_count": null,
   "id": "54696ea8",
   "metadata": {},
   "outputs": [],
   "source": [
    "dss.Circuit.SetActiveClass('Storage')\n",
    "device = dss.Circuit.FirstElement()\n",
    "total_batt = 0\n",
    "while device:\n",
    "    output = dss.CktElement.TotalPowers()\n",
    "    total_batt = total_batt + output[0]\n",
    "    device = dss.Circuit.NextElement()\n",
    "print(total_batt)"
   ]
  },
  {
   "cell_type": "code",
   "execution_count": null,
   "id": "7ad092d3",
   "metadata": {},
   "outputs": [],
   "source": [
    "max([-50, -100])"
   ]
  },
  {
   "cell_type": "code",
   "execution_count": null,
   "id": "2b507017",
   "metadata": {},
   "outputs": [],
   "source": []
  },
  {
   "cell_type": "code",
   "execution_count": null,
   "id": "155a7c00",
   "metadata": {},
   "outputs": [],
   "source": [
    "bus_volt = dss.Circuit.AllBusMagPu()\n",
    "print(min(bus_volt), max(bus_volt))\n",
    "if min(bus_volt) < 0.95:\n",
    "    print(\"violations!\")\n",
    "elif max(bus_volt) > 1.10:\n",
    "    print(\"violations!\")"
   ]
  },
  {
   "cell_type": "code",
   "execution_count": null,
   "id": "57821ada",
   "metadata": {},
   "outputs": [],
   "source": [
    "dss.Circuit.AllBusMagPu()"
   ]
  },
  {
   "cell_type": "code",
   "execution_count": null,
   "id": "b8d9f5f8",
   "metadata": {},
   "outputs": [],
   "source": [
    "dss.Transformers.AllNames()"
   ]
  },
  {
   "cell_type": "code",
   "execution_count": null,
   "id": "6dc3f8a8",
   "metadata": {},
   "outputs": [],
   "source": [
    "\n",
    "    "
   ]
  },
  {
   "cell_type": "code",
   "execution_count": null,
   "id": "e989f6ca",
   "metadata": {},
   "outputs": [],
   "source": []
  },
  {
   "cell_type": "code",
   "execution_count": null,
   "id": "355df631",
   "metadata": {},
   "outputs": [],
   "source": []
  },
  {
   "cell_type": "code",
   "execution_count": null,
   "id": "d304dbd8",
   "metadata": {},
   "outputs": [],
   "source": []
  },
  {
   "cell_type": "code",
   "execution_count": null,
   "id": "8a03ac48",
   "metadata": {},
   "outputs": [],
   "source": [
    "xfmr_id = dss.Transformers.First()\n",
    "print(dss.Transformers.NumTaps())\n",
    "print(dss.Transformers.MinTap())\n",
    "print(dss.Transformers.MaxTap())"
   ]
  },
  {
   "cell_type": "code",
   "execution_count": null,
   "id": "81ce0a17",
   "metadata": {},
   "outputs": [],
   "source": [
    "dss.Circuit.Losses()"
   ]
  },
  {
   "cell_type": "code",
   "execution_count": null,
   "id": "05d2f9d6",
   "metadata": {},
   "outputs": [],
   "source": [
    "dss.Circuit.TotalPower()"
   ]
  },
  {
   "cell_type": "code",
   "execution_count": null,
   "id": "801b2fa1",
   "metadata": {},
   "outputs": [],
   "source": [
    "dss.Capacitors.AllNames()"
   ]
  },
  {
   "cell_type": "code",
   "execution_count": null,
   "id": "0460f4a5",
   "metadata": {},
   "outputs": [],
   "source": [
    "cap_id = dss.Capacitors.First()\n",
    "cap_vals = {}\n",
    "while cap_id:\n",
    "    cap_vals[dss.Capacitors.Name()] = dss.Capacitors.States()\n",
    "    cap_id = dss.Capacitors.Next()"
   ]
  },
  {
   "cell_type": "code",
   "execution_count": null,
   "id": "a262efde",
   "metadata": {},
   "outputs": [],
   "source": [
    "dss.Capacitors."
   ]
  },
  {
   "cell_type": "code",
   "execution_count": null,
   "id": "f84bd73d",
   "metadata": {},
   "outputs": [],
   "source": [
    "StartTime = time.process_time()\n",
    "load_id = dss.Loads.First()\n",
    "load_vals = {}\n",
    "total_load = 0\n",
    "while load_id:\n",
    "    load = dss.Loads.kW()\n",
    "    load_vals[dss.Loads.Name()] = load\n",
    "    load_id = dss.Loads.Next()\n",
    "    total_load = total_load + load\n",
    "print(time.process_time() - StartTime)"
   ]
  },
  {
   "cell_type": "code",
   "execution_count": null,
   "id": "7f0e0048",
   "metadata": {},
   "outputs": [],
   "source": [
    "dss.Ckt.Name()"
   ]
  },
  {
   "cell_type": "code",
   "execution_count": null,
   "id": "6ef58f3a",
   "metadata": {},
   "outputs": [],
   "source": [
    "dss.run_command('Export Loads')"
   ]
  },
  {
   "cell_type": "code",
   "execution_count": null,
   "id": "d9d3587a",
   "metadata": {},
   "outputs": [],
   "source": [
    "dss.Circuit.SetActiveClass('Capacitor')\n",
    "device = dss.Circuit.FirstElement()\n",
    "total_load = 0\n",
    "bus_shunt_p = {}\n",
    "while device:\n",
    "    output = dss.CktElement.VoltagesMagAng()\n",
    "    print(output)\n",
    "#     bus = dss.CktElement.BusNames()\n",
    "#     bus_shunt_p[bus[0]] = output[0]\n",
    "    device = dss.Circuit.NextElement()\n",
    "# print(bus_shunt_p)"
   ]
  },
  {
   "cell_type": "code",
   "execution_count": null,
   "id": "fcd706d6",
   "metadata": {},
   "outputs": [],
   "source": [
    "dss.Circuit.SetActiveClass('Transformer')\n",
    "\n",
    "dss.CktElement.Name()"
   ]
  },
  {
   "cell_type": "code",
   "execution_count": null,
   "id": "ae10ffeb",
   "metadata": {},
   "outputs": [],
   "source": [
    "dss.Circuit.SetActiveClass('Transformer')\n",
    "device = dss.Circuit.FirstElement()\n",
    "total_load = 0\n",
    "bus_shunt_p = {}\n",
    "while device:\n",
    "    s = dss.CktElement.TotalPowers()\n",
    "    a = dss.CktElement.CurrentsMagAng()\n",
    "    print(a[0])\n",
    "    kva = math.sqrt((s[0]*s[0]) + (s[1]*s[1]))\n",
    "    print(dss.CktElement.Name())\n",
    "#     print(kva)\n",
    "#     bus = dss.CktElement.BusNames()\n",
    "#     bus_shunt_p[bus[0]] = output[0]\n",
    "    device = dss.Circuit.NextElement()\n",
    "# print(bus_shunt_p)"
   ]
  },
  {
   "cell_type": "code",
   "execution_count": null,
   "id": "8503fbd4",
   "metadata": {},
   "outputs": [],
   "source": [
    "a = dss.Circuit.SetActiveElement('PVSystem.')"
   ]
  },
  {
   "cell_type": "code",
   "execution_count": null,
   "id": "e6ddd662",
   "metadata": {},
   "outputs": [],
   "source": [
    "dss.CktElement.BusNames("
   ]
  },
  {
   "cell_type": "code",
   "execution_count": null,
   "id": "0c18f23c",
   "metadata": {},
   "outputs": [],
   "source": [
    "dss.dss_lib.ActiveClass_Get_First()"
   ]
  },
  {
   "cell_type": "code",
   "execution_count": null,
   "id": "ea1c2aa1",
   "metadata": {},
   "outputs": [],
   "source": [
    "(dss.dss_lib.Bus_Get_Next())\n",
    "ffi.string(dss.dss_lib.Bus_Get_Name())"
   ]
  },
  {
   "cell_type": "code",
   "execution_count": null,
   "id": "3d3b1a82",
   "metadata": {},
   "outputs": [],
   "source": [
    "tap = 1\n",
    "val = 1 + tap/160\n",
    "StartTime = time.process_time()\n",
    "dss.run_command('BatchEdit PVsystem..* irradiance=1')\n",
    "dss.run_command('Transformer.reg4a.Taps=[1.0 %s]'%val)\n",
    "dss.Solution.SolveNoControl()\n",
    "print(time.process_time() - StartTime)\n"
   ]
  },
  {
   "cell_type": "code",
   "execution_count": null,
   "id": "2505868c",
   "metadata": {},
   "outputs": [],
   "source": []
  },
  {
   "cell_type": "code",
   "execution_count": null,
   "id": "6f285766",
   "metadata": {},
   "outputs": [],
   "source": [
    "from opendssdirect.utils import Iterator\n",
    "import cffi"
   ]
  },
  {
   "cell_type": "code",
   "execution_count": null,
   "id": "1c770c57",
   "metadata": {},
   "outputs": [],
   "source": [
    "[i() for i in Iterator(dss.Bus, \"name\")]"
   ]
  },
  {
   "cell_type": "code",
   "execution_count": null,
   "id": "c947aea9",
   "metadata": {},
   "outputs": [],
   "source": [
    "from cffi import FFI\n",
    "ffi = FFI()"
   ]
  },
  {
   "cell_type": "code",
   "execution_count": null,
   "id": "8f7f0cc0",
   "metadata": {},
   "outputs": [],
   "source": [
    "a = dss.Bus.AllPCEatBus()"
   ]
  },
  {
   "cell_type": "code",
   "execution_count": null,
   "id": "d1b9c104",
   "metadata": {},
   "outputs": [],
   "source": [
    "dss.Circuit.SetActiveElement(a[0])"
   ]
  },
  {
   "cell_type": "code",
   "execution_count": null,
   "id": "a4b0b9a8",
   "metadata": {},
   "outputs": [],
   "source": [
    "sub = dss.Circuit.TotalPower()\n",
    "math.sqrt((sub[0]*sub[0]) + (sub[1]*sub[1]))"
   ]
  },
  {
   "cell_type": "code",
   "execution_count": null,
   "id": "e94d3d9a",
   "metadata": {},
   "outputs": [],
   "source": [
    "sub"
   ]
  },
  {
   "cell_type": "code",
   "execution_count": null,
   "id": "8914b425",
   "metadata": {},
   "outputs": [],
   "source": [
    "import math"
   ]
  },
  {
   "cell_type": "code",
   "execution_count": null,
   "id": "302dd090",
   "metadata": {},
   "outputs": [],
   "source": []
  }
 ],
 "metadata": {
  "kernelspec": {
   "display_name": "Python 3 (ipykernel)",
   "language": "python",
   "name": "python3"
  },
  "language_info": {
   "codemirror_mode": {
    "name": "ipython",
    "version": 3
   },
   "file_extension": ".py",
   "mimetype": "text/x-python",
   "name": "python",
   "nbconvert_exporter": "python",
   "pygments_lexer": "ipython3",
   "version": "3.10.6"
  }
 },
 "nbformat": 4,
 "nbformat_minor": 5
}
