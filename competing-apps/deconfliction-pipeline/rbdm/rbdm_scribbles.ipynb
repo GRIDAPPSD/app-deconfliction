{
 "cells": [
  {
   "cell_type": "code",
   "execution_count": 1,
   "id": "9664de71",
   "metadata": {},
   "outputs": [],
   "source": [
    "import json\n",
    "import opendssdirect as dss\n",
    "import time\n",
    "import math"
   ]
  },
  {
   "cell_type": "code",
   "execution_count": 2,
   "id": "540cb8c9",
   "metadata": {},
   "outputs": [],
   "source": [
    "#open conflict matrix\n",
    "fcm = open(\"ConflictMatrix.json\", \"r\")\n",
    "ConflictMatrix = json.loads(fcm.read())"
   ]
  },
  {
   "cell_type": "code",
   "execution_count": 3,
   "id": "c02dfaed",
   "metadata": {},
   "outputs": [
    {
     "data": {
      "text/plain": [
       "['BatteryUnit:52',\n",
       " 'BatteryUnit:65',\n",
       " 'BatteryUnit:76',\n",
       " 'RatioTapChanger:reg1a',\n",
       " 'RatioTapChanger:reg2a',\n",
       " 'RatioTapChanger:reg3a',\n",
       " 'RatioTapChanger:reg3c',\n",
       " 'RatioTapChanger:reg4a',\n",
       " 'RatioTapChanger:reg4b',\n",
       " 'RatioTapChanger:reg4c']"
      ]
     },
     "execution_count": 3,
     "metadata": {},
     "output_type": "execute_result"
    }
   ],
   "source": [
    "# alternatives vector dictionary\n",
    "devices = list(ConflictMatrix[\"setpoints\"].keys())\n",
    "devices\n",
    "\n"
   ]
  },
  {
   "cell_type": "code",
   "execution_count": 4,
   "id": "bdb77d1a",
   "metadata": {},
   "outputs": [],
   "source": [
    "alt = {}\n",
    "alt['a1'] = {}\n",
    "alt['a1']['RatioTapChanger:reg1a'] =  -2\n",
    "alt['a1']['RatioTapChanger:reg2a'] =  -1\n",
    "alt['a1']['RatioTapChanger:reg3a'] =  4\n",
    "\n",
    "alt['a2'] = {}\n",
    "alt['a2']['RatioTapChanger:reg1a'] =  -1\n",
    "alt['a2']['RatioTapChanger:reg2a'] =  -1\n",
    "alt['a2']['RatioTapChanger:reg3a'] =  4\n",
    "\n",
    "alt['a3'] = {}\n",
    "alt['a3']['RatioTapChanger:reg1a'] =  -0\n",
    "alt['a3']['RatioTapChanger:reg2a'] =  -1\n",
    "alt['a3']['RatioTapChanger:reg3a'] =  4\n"
   ]
  },
  {
   "cell_type": "code",
   "execution_count": 5,
   "id": "0e75dfa9",
   "metadata": {},
   "outputs": [
    {
     "data": {
      "text/plain": [
       "''"
      ]
     },
     "execution_count": 5,
     "metadata": {},
     "output_type": "execute_result"
    }
   ],
   "source": [
    "dss.run_command('Redirect ./123Bus/Run_IEEE123Bus.dss')"
   ]
  },
  {
   "cell_type": "code",
   "execution_count": 6,
   "id": "e6d5aa64",
   "metadata": {},
   "outputs": [
    {
     "data": {
      "text/plain": [
       "''"
      ]
     },
     "execution_count": 6,
     "metadata": {},
     "output_type": "execute_result"
    }
   ],
   "source": [
    "dss.run_command('Compile ./123Bus/Run_IEEE123Bus.dss')"
   ]
  },
  {
   "cell_type": "code",
   "execution_count": 7,
   "id": "01571aff",
   "metadata": {},
   "outputs": [],
   "source": [
    "dss.Solution.Solve()"
   ]
  },
  {
   "cell_type": "code",
   "execution_count": 8,
   "id": "e2ca7e76",
   "metadata": {},
   "outputs": [
    {
     "name": "stdout",
     "output_type": "stream",
     "text": [
      "0.9799452732352611 1.0574482418074136\n",
      "0.0025809380000001436\n"
     ]
    }
   ],
   "source": [
    "StartTime = time.process_time()\n",
    "\n",
    "violations = False\n",
    "\n",
    "bus_volt = dss.Circuit.AllBusMagPu()\n",
    "print(min(bus_volt), max(bus_volt))\n",
    "if min(bus_volt) < 0.95:\n",
    "    violations = True\n",
    "    print(\"violations!\")\n",
    "elif max(bus_volt) > 1.10:\n",
    "    violations = True\n",
    "    print(\"violations!\")\n",
    "\n",
    "sub = dss.Circuit.TotalPower()\n",
    "sub_kva = math.sqrt((sub[0]*sub[0]) + (sub[1]*sub[1]))\n",
    "if sub_kva > 5000 or sub_kva < -5000:\n",
    "    violations = True\n",
    "    \n",
    "dss.Circuit.SetActiveClass('Transformer')\n",
    "device = dss.Circuit.FirstElement()\n",
    "while device:\n",
    "    a = dss.CktElement.CurrentsMagAng()\n",
    "    if a[0] > 668:\n",
    "        violations = True\n",
    "        \n",
    "    device = dss.Circuit.NextElement()\n",
    "print(time.process_time() - StartTime)\n",
    "    "
   ]
  },
  {
   "cell_type": "code",
   "execution_count": 9,
   "id": "10060c42",
   "metadata": {},
   "outputs": [
    {
     "name": "stdout",
     "output_type": "stream",
     "text": [
      "0.0036853080000001093\n",
      "38.21347104306829\n",
      "48.600097801201144\n",
      "2012.4441098550458\n"
     ]
    }
   ],
   "source": [
    "StartTime = time.process_time()\n",
    "\n",
    "c_t = 0.02817 #transmission price $/kWh\n",
    "c_r = 0.1090 #retail rate\n",
    "c_n = 0.01786 #feed-in tariff\n",
    "c_dies = 0.34 #diesel fuel cost\n",
    "c_lng = 0.25 #lng fuel cost\n",
    "\n",
    "e_t = 1.205 #grid co2 lb/kWh\n",
    "e_dies = 2.44\n",
    "e_lng = 0.97\n",
    "\n",
    "\n",
    "bus_shunt_p = {}\n",
    "total_load = 0\n",
    "total_pv = 0\n",
    "total_dg = 0\n",
    "profit = 0\n",
    "emissions = 0\n",
    "\n",
    "sub = dss.Circuit.TotalPower()\n",
    "p_sub = sub[0]\n",
    "\n",
    "loss = dss.Circuit.Losses()\n",
    "p_loss = loss[0]/1000\n",
    "\n",
    "dss.Circuit.SetActiveClass('Load')\n",
    "device = dss.Circuit.FirstElement()\n",
    "\n",
    "while device:\n",
    "    output = dss.CktElement.TotalPowers()\n",
    "    bus = dss.CktElement.BusNames()\n",
    "    bus_shunt_p[bus[0]] = output[0]\n",
    "    total_load = total_load + output[0]\n",
    "    device = dss.Circuit.NextElement()\n",
    "    \n",
    "dss.Circuit.SetActiveClass('PVSystem')\n",
    "device = dss.Circuit.FirstElement()\n",
    "while device:\n",
    "    output = dss.CktElement.TotalPowers()\n",
    "    bus = dss.CktElement.BusNames()\n",
    "    total_pv = total_pv + output[0]\n",
    "    if bus[0] in bus_shunt_p.keys():\n",
    "        bus_shunt_p[bus[0]] = bus_shunt_p[bus[0]] + output[0]\n",
    "    else:\n",
    "        bus_shunt_p[bus[0]] = output[0]\n",
    "    device = dss.Circuit.NextElement()\n",
    "    \n",
    "dss.Circuit.SetActiveClass('Generator')\n",
    "device = dss.Circuit.FirstElement()\n",
    "while device:\n",
    "    output = dss.CktElement.TotalPowers()\n",
    "    p_dg = output[0]\n",
    "    total_dg = total_dg + p_dg\n",
    "    if 'dies' in dss.CktElement.Name():\n",
    "        profit = profit + p_dg*c_dies\n",
    "        emissions = emissions - p_dg*e_dies\n",
    "    elif 'lng' in dss.CktElement.Name():\n",
    "        profit = profit + p_dg*c_lng\n",
    "        emissions = emissions - p_dg*e_lng\n",
    "    device = dss.Circuit.NextElement()\n",
    "\n",
    "emissions = emissions - p_sub*e_t\n",
    "profit = profit + p_sub*c_t\n",
    "for bus in list(bus_shunt_p.keys()):\n",
    "    p = bus_shunt_p[bus]\n",
    "    if  p > 0:\n",
    "        profit = profit + p*c_r\n",
    "    else:\n",
    "        profit = profit + p*c_n\n",
    "        \n",
    "\n",
    "    \n",
    "print(time.process_time() - StartTime)\n",
    "print(profit)\n",
    "print(p_loss)\n",
    "print(emissions)"
   ]
  },
  {
   "cell_type": "code",
   "execution_count": null,
   "id": "54696ea8",
   "metadata": {},
   "outputs": [],
   "source": []
  },
  {
   "cell_type": "code",
   "execution_count": null,
   "id": "7ad092d3",
   "metadata": {},
   "outputs": [],
   "source": []
  },
  {
   "cell_type": "code",
   "execution_count": null,
   "id": "2b507017",
   "metadata": {},
   "outputs": [],
   "source": []
  },
  {
   "cell_type": "code",
   "execution_count": null,
   "id": "155a7c00",
   "metadata": {},
   "outputs": [],
   "source": [
    "bus_volt = dss.Circuit.AllBusMagPu()\n",
    "print(min(bus_volt), max(bus_volt))\n",
    "if min(bus_volt) < 0.95:\n",
    "    print(\"violations!\")\n",
    "elif max(bus_volt) > 1.10:\n",
    "    print(\"violations!\")"
   ]
  },
  {
   "cell_type": "code",
   "execution_count": null,
   "id": "57821ada",
   "metadata": {},
   "outputs": [],
   "source": [
    "dss.Circuit.AllBusMagPu()"
   ]
  },
  {
   "cell_type": "code",
   "execution_count": null,
   "id": "b8d9f5f8",
   "metadata": {},
   "outputs": [],
   "source": [
    "dss.Transformers.AllNames()"
   ]
  },
  {
   "cell_type": "code",
   "execution_count": null,
   "id": "6dc3f8a8",
   "metadata": {},
   "outputs": [],
   "source": [
    "xfmr_id = dss.Transformers.First()\n",
    "tap_vals = {}\n",
    "while xfmr_id:\n",
    "    tap_vals[dss.Transformers.Name()] = round((dss.Transformers.Tap()-1)*160)\n",
    "    xfmr_id = dss.Transformers.Next()\n",
    "    "
   ]
  },
  {
   "cell_type": "code",
   "execution_count": null,
   "id": "e989f6ca",
   "metadata": {},
   "outputs": [],
   "source": [
    "tap_vals"
   ]
  },
  {
   "cell_type": "code",
   "execution_count": null,
   "id": "8a03ac48",
   "metadata": {},
   "outputs": [],
   "source": [
    "xfmr_id = dss.Transformers.First()\n",
    "print(dss.Transformers.NumTaps())\n",
    "print(dss.Transformers.MinTap())\n",
    "print(dss.Transformers.MaxTap())"
   ]
  },
  {
   "cell_type": "code",
   "execution_count": null,
   "id": "81ce0a17",
   "metadata": {},
   "outputs": [],
   "source": [
    "dss.Circuit.Losses()"
   ]
  },
  {
   "cell_type": "code",
   "execution_count": null,
   "id": "05d2f9d6",
   "metadata": {},
   "outputs": [],
   "source": [
    "dss.Circuit.TotalPower()"
   ]
  },
  {
   "cell_type": "code",
   "execution_count": null,
   "id": "801b2fa1",
   "metadata": {},
   "outputs": [],
   "source": [
    "dss.Capacitors.AllNames()"
   ]
  },
  {
   "cell_type": "code",
   "execution_count": null,
   "id": "0460f4a5",
   "metadata": {},
   "outputs": [],
   "source": [
    "cap_id = dss.Capacitors.First()\n",
    "cap_vals = {}\n",
    "while cap_id:\n",
    "    cap_vals[dss.Capacitors.Name()] = dss.Capacitors.States()\n",
    "    cap_id = dss.Capacitors.Next()"
   ]
  },
  {
   "cell_type": "code",
   "execution_count": null,
   "id": "a262efde",
   "metadata": {},
   "outputs": [],
   "source": [
    "dss.Capacitors."
   ]
  },
  {
   "cell_type": "code",
   "execution_count": null,
   "id": "f84bd73d",
   "metadata": {},
   "outputs": [],
   "source": [
    "StartTime = time.process_time()\n",
    "load_id = dss.Loads.First()\n",
    "load_vals = {}\n",
    "total_load = 0\n",
    "while load_id:\n",
    "    load = dss.Loads.kW()\n",
    "    load_vals[dss.Loads.Name()] = load\n",
    "    load_id = dss.Loads.Next()\n",
    "    total_load = total_load + load\n",
    "print(time.process_time() - StartTime)"
   ]
  },
  {
   "cell_type": "code",
   "execution_count": null,
   "id": "7f0e0048",
   "metadata": {},
   "outputs": [],
   "source": [
    "dss.Ckt.Name()"
   ]
  },
  {
   "cell_type": "code",
   "execution_count": null,
   "id": "6ef58f3a",
   "metadata": {},
   "outputs": [],
   "source": [
    "dss.run_command('Export Loads')"
   ]
  },
  {
   "cell_type": "code",
   "execution_count": null,
   "id": "d9d3587a",
   "metadata": {},
   "outputs": [],
   "source": [
    "dss.Circuit.SetActiveClass('Capacitor')\n",
    "device = dss.Circuit.FirstElement()\n",
    "total_load = 0\n",
    "bus_shunt_p = {}\n",
    "while device:\n",
    "    output = dss.CktElement.VoltagesMagAng()\n",
    "    print(output)\n",
    "#     bus = dss.CktElement.BusNames()\n",
    "#     bus_shunt_p[bus[0]] = output[0]\n",
    "    device = dss.Circuit.NextElement()\n",
    "# print(bus_shunt_p)"
   ]
  },
  {
   "cell_type": "code",
   "execution_count": null,
   "id": "fcd706d6",
   "metadata": {},
   "outputs": [],
   "source": [
    "dss.Circuit.SetActiveClass('Transformer')\n",
    "\n",
    "dss.CktElement.Name()"
   ]
  },
  {
   "cell_type": "code",
   "execution_count": null,
   "id": "ae10ffeb",
   "metadata": {},
   "outputs": [],
   "source": [
    "dss.Circuit.SetActiveClass('Transformer')\n",
    "device = dss.Circuit.FirstElement()\n",
    "total_load = 0\n",
    "bus_shunt_p = {}\n",
    "while device:\n",
    "    s = dss.CktElement.TotalPowers()\n",
    "    a = dss.CktElement.CurrentsMagAng()\n",
    "    print(a[0])\n",
    "    kva = math.sqrt((s[0]*s[0]) + (s[1]*s[1]))\n",
    "    print(dss.CktElement.Name())\n",
    "#     print(kva)\n",
    "#     bus = dss.CktElement.BusNames()\n",
    "#     bus_shunt_p[bus[0]] = output[0]\n",
    "    device = dss.Circuit.NextElement()\n",
    "# print(bus_shunt_p)"
   ]
  },
  {
   "cell_type": "code",
   "execution_count": null,
   "id": "8503fbd4",
   "metadata": {},
   "outputs": [],
   "source": [
    "a = dss.Circuit.SetActiveElement('PVSystem.')"
   ]
  },
  {
   "cell_type": "code",
   "execution_count": null,
   "id": "e6ddd662",
   "metadata": {},
   "outputs": [],
   "source": [
    "dss.CktElement.BusNames("
   ]
  },
  {
   "cell_type": "code",
   "execution_count": null,
   "id": "0c18f23c",
   "metadata": {},
   "outputs": [],
   "source": [
    "dss.dss_lib.ActiveClass_Get_First()"
   ]
  },
  {
   "cell_type": "code",
   "execution_count": null,
   "id": "ea1c2aa1",
   "metadata": {},
   "outputs": [],
   "source": [
    "(dss.dss_lib.Bus_Get_Next())\n",
    "ffi.string(dss.dss_lib.Bus_Get_Name())"
   ]
  },
  {
   "cell_type": "code",
   "execution_count": null,
   "id": "3d3b1a82",
   "metadata": {},
   "outputs": [],
   "source": [
    "tap = 1\n",
    "val = 1 + tap/160\n",
    "StartTime = time.process_time()\n",
    "dss.run_command('BatchEdit PVsystem..* irradiance=1')\n",
    "dss.run_command('Transformer.reg4a.Taps=[1.0 %s]'%val)\n",
    "dss.Solution.SolveNoControl()\n",
    "print(time.process_time() - StartTime)\n"
   ]
  },
  {
   "cell_type": "code",
   "execution_count": null,
   "id": "2505868c",
   "metadata": {},
   "outputs": [],
   "source": []
  },
  {
   "cell_type": "code",
   "execution_count": null,
   "id": "6f285766",
   "metadata": {},
   "outputs": [],
   "source": [
    "from opendssdirect.utils import Iterator\n",
    "import cffi"
   ]
  },
  {
   "cell_type": "code",
   "execution_count": null,
   "id": "1c770c57",
   "metadata": {},
   "outputs": [],
   "source": [
    "[i() for i in Iterator(dss.Bus, \"name\")]"
   ]
  },
  {
   "cell_type": "code",
   "execution_count": null,
   "id": "c947aea9",
   "metadata": {},
   "outputs": [],
   "source": [
    "from cffi import FFI\n",
    "ffi = FFI()"
   ]
  },
  {
   "cell_type": "code",
   "execution_count": null,
   "id": "8f7f0cc0",
   "metadata": {},
   "outputs": [],
   "source": [
    "a = dss.Bus.AllPCEatBus()"
   ]
  },
  {
   "cell_type": "code",
   "execution_count": null,
   "id": "d1b9c104",
   "metadata": {},
   "outputs": [],
   "source": [
    "dss.Circuit.SetActiveElement(a[0])"
   ]
  },
  {
   "cell_type": "code",
   "execution_count": null,
   "id": "a4b0b9a8",
   "metadata": {},
   "outputs": [],
   "source": [
    "sub = dss.Circuit.TotalPower()\n",
    "math.sqrt((sub[0]*sub[0]) + (sub[1]*sub[1]))"
   ]
  },
  {
   "cell_type": "code",
   "execution_count": null,
   "id": "e94d3d9a",
   "metadata": {},
   "outputs": [],
   "source": [
    "sub"
   ]
  },
  {
   "cell_type": "code",
   "execution_count": null,
   "id": "8914b425",
   "metadata": {},
   "outputs": [],
   "source": [
    "import math"
   ]
  },
  {
   "cell_type": "code",
   "execution_count": null,
   "id": "302dd090",
   "metadata": {},
   "outputs": [],
   "source": []
  }
 ],
 "metadata": {
  "kernelspec": {
   "display_name": "Python 3 (ipykernel)",
   "language": "python",
   "name": "python3"
  },
  "language_info": {
   "codemirror_mode": {
    "name": "ipython",
    "version": 3
   },
   "file_extension": ".py",
   "mimetype": "text/x-python",
   "name": "python",
   "nbconvert_exporter": "python",
   "pygments_lexer": "ipython3",
   "version": "3.10.6"
  }
 },
 "nbformat": 4,
 "nbformat_minor": 5
}
