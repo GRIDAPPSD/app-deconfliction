{
 "cells": [
  {
   "cell_type": "code",
   "execution_count": 1,
   "id": "9664de71",
   "metadata": {},
   "outputs": [],
   "source": [
    "import json\n",
    "import opendssdirect as dss\n",
    "import time\n",
    "import math"
   ]
  },
  {
   "cell_type": "code",
   "execution_count": 2,
   "id": "540cb8c9",
   "metadata": {},
   "outputs": [],
   "source": [
    "#open conflict matrix\n",
    "fcm = open(\"ConflictMatrix.json\", \"r\")\n",
    "ConflictMatrix = json.loads(fcm.read())"
   ]
  },
  {
   "cell_type": "code",
   "execution_count": 3,
   "id": "c02dfaed",
   "metadata": {},
   "outputs": [
    {
     "data": {
      "text/plain": [
       "['BatteryUnit:52',\n",
       " 'BatteryUnit:65',\n",
       " 'BatteryUnit:76',\n",
       " 'RatioTapChanger:reg1a',\n",
       " 'RatioTapChanger:reg2a',\n",
       " 'RatioTapChanger:reg3a',\n",
       " 'RatioTapChanger:reg3c',\n",
       " 'RatioTapChanger:reg4a',\n",
       " 'RatioTapChanger:reg4b',\n",
       " 'RatioTapChanger:reg4c']"
      ]
     },
     "execution_count": 3,
     "metadata": {},
     "output_type": "execute_result"
    }
   ],
   "source": [
    "# alternatives vector dictionary\n",
    "devices = list(ConflictMatrix[\"setpoints\"].keys())\n",
    "devices\n",
    "\n"
   ]
  },
  {
   "cell_type": "code",
   "execution_count": 4,
   "id": "bdb77d1a",
   "metadata": {},
   "outputs": [],
   "source": [
    "alt = {}\n",
    "alt['a1'] = {}\n",
    "alt['a1']['RatioTapChanger:reg1a'] =  -2\n",
    "alt['a1']['RatioTapChanger:reg2a'] =  -1\n",
    "alt['a1']['RatioTapChanger:reg3a'] =  4\n",
    "\n",
    "alt['a2'] = {}\n",
    "alt['a2']['RatioTapChanger:reg1a'] =  -1\n",
    "alt['a2']['RatioTapChanger:reg2a'] =  -1\n",
    "alt['a2']['RatioTapChanger:reg3a'] =  4\n",
    "\n",
    "alt['a3'] = {}\n",
    "alt['a3']['RatioTapChanger:reg1a'] =  -0\n",
    "alt['a3']['RatioTapChanger:reg2a'] =  -1\n",
    "alt['a3']['RatioTapChanger:reg3a'] =  4\n"
   ]
  },
  {
   "cell_type": "code",
   "execution_count": 7,
   "id": "0e75dfa9",
   "metadata": {},
   "outputs": [
    {
     "data": {
      "text/plain": [
       "''"
      ]
     },
     "execution_count": 7,
     "metadata": {},
     "output_type": "execute_result"
    }
   ],
   "source": [
    "dss.run_command('Redirect ./123Bus/Run_IEEE123Bus.dss')"
   ]
  },
  {
   "cell_type": "code",
   "execution_count": 8,
   "id": "e6d5aa64",
   "metadata": {},
   "outputs": [
    {
     "data": {
      "text/plain": [
       "''"
      ]
     },
     "execution_count": 8,
     "metadata": {},
     "output_type": "execute_result"
    }
   ],
   "source": [
    "dss.run_command('Compile ./123Bus/Run_IEEE123Bus.dss')"
   ]
  },
  {
   "cell_type": "code",
   "execution_count": 10,
   "id": "01571aff",
   "metadata": {},
   "outputs": [],
   "source": [
    "dss.Solution.Solve()"
   ]
  },
  {
   "cell_type": "code",
   "execution_count": 232,
   "id": "e2ca7e76",
   "metadata": {},
   "outputs": [
    {
     "name": "stdout",
     "output_type": "stream",
     "text": [
      "0.9708880102903863 1.0569954564447284\n",
      "0.00363855099999455\n"
     ]
    }
   ],
   "source": [
    "StartTime = time.process_time()\n",
    "\n",
    "violations = False\n",
    "\n",
    "bus_volt = dss.Circuit.AllBusMagPu()\n",
    "print(min(bus_volt), max(bus_volt))\n",
    "if min(bus_volt) < 0.95:\n",
    "    violations = True\n",
    "    print(\"violations!\")\n",
    "elif max(bus_volt) > 1.10:\n",
    "    violations = True\n",
    "    print(\"violations!\")\n",
    "\n",
    "sub = dss.Circuit.TotalPower()\n",
    "sub_kva = math.sqrt((sub[0]*sub[0]) + (sub[1]*sub[1]))\n",
    "if sub_kva > 5000 or sub_kva < -5000:\n",
    "    violations = True\n",
    "    \n",
    "dss.Circuit.SetActiveClass('Transformer')\n",
    "device = dss.Circuit.FirstElement()\n",
    "while device:\n",
    "    a = dss.CktElement.CurrentsMagAng()\n",
    "    if a[0] > 668:\n",
    "        violations = True\n",
    "        \n",
    "    device = dss.Circuit.NextElement()\n",
    "print(time.process_time() - StartTime)\n",
    "    "
   ]
  },
  {
   "cell_type": "code",
   "execution_count": 233,
   "id": "10060c42",
   "metadata": {},
   "outputs": [
    {
     "name": "stdout",
     "output_type": "stream",
     "text": [
      "0.003565702000003057\n",
      "37.387513692208714\n",
      "49.34663892781179\n",
      "1995.8078492288082\n"
     ]
    }
   ],
   "source": [
    "StartTime = time.process_time()\n",
    "\n",
    "c_t = 0.02817 #transmission price $/kWh\n",
    "c_r = 0.1090 #retail rate\n",
    "c_n = 0.01786 #feed-in tariff\n",
    "c_dies = 0.34 #diesel fuel cost\n",
    "c_lng = 0.25 #lng fuel cost\n",
    "\n",
    "e_t = 1.205 #grid co2 lb/kWh\n",
    "e_dies = 2.44\n",
    "e_lng = 0.97\n",
    "\n",
    "\n",
    "bus_shunt_p = {}\n",
    "total_load = 0\n",
    "total_pv = 0\n",
    "total_dg = 0\n",
    "profit = 0\n",
    "emissions = 0\n",
    "\n",
    "sub = dss.Circuit.TotalPower()\n",
    "p_sub = sub[0]\n",
    "\n",
    "loss = dss.Circuit.Losses()\n",
    "p_loss = loss[0]/1000\n",
    "\n",
    "dss.Circuit.SetActiveClass('Load')\n",
    "device = dss.Circuit.FirstElement()\n",
    "\n",
    "while device:\n",
    "    output = dss.CktElement.TotalPowers()\n",
    "    bus = dss.CktElement.BusNames()\n",
    "    bus_shunt_p[bus[0]] = output[0]\n",
    "    total_load = total_load + output[0]\n",
    "    device = dss.Circuit.NextElement()\n",
    "    \n",
    "dss.Circuit.SetActiveClass('PVSystem')\n",
    "device = dss.Circuit.FirstElement()\n",
    "while device:\n",
    "    output = dss.CktElement.TotalPowers()\n",
    "    bus = dss.CktElement.BusNames()\n",
    "    total_pv = total_pv + output[0]\n",
    "    if bus[0] in bus_shunt_p.keys():\n",
    "        bus_shunt_p[bus[0]] = bus_shunt_p[bus[0]] + output[0]\n",
    "    else:\n",
    "        bus_shunt_p[bus[0]] = output[0]\n",
    "    device = dss.Circuit.NextElement()\n",
    "    \n",
    "dss.Circuit.SetActiveClass('Generator')\n",
    "device = dss.Circuit.FirstElement()\n",
    "while device:\n",
    "    output = dss.CktElement.TotalPowers()\n",
    "    p_dg = output[0]\n",
    "    total_dg = total_dg + p_dg\n",
    "    if 'dies' in dss.CktElement.Name():\n",
    "        profit = profit + p_dg*c_dies\n",
    "        emissions = emissions - p_dg*e_dies\n",
    "    elif 'lng' in dss.CktElement.Name():\n",
    "        profit = profit + p_dg*c_lng\n",
    "        emissions = emissions - p_dg*e_lng\n",
    "    device = dss.Circuit.NextElement()\n",
    "\n",
    "emissions = emissions - p_sub*e_t\n",
    "profit = profit + p_sub*c_t\n",
    "for bus in list(bus_shunt_p.keys()):\n",
    "    p = bus_shunt_p[bus]\n",
    "    if  p > 0:\n",
    "        profit = profit + p*c_r\n",
    "    else:\n",
    "        profit = profit + p*c_n\n",
    "        \n",
    "\n",
    "    \n",
    "print(time.process_time() - StartTime)\n",
    "print(profit)\n",
    "print(p_loss)\n",
    "print(emissions)"
   ]
  },
  {
   "cell_type": "code",
   "execution_count": null,
   "id": "54696ea8",
   "metadata": {},
   "outputs": [],
   "source": []
  },
  {
   "cell_type": "code",
   "execution_count": null,
   "id": "7ad092d3",
   "metadata": {},
   "outputs": [],
   "source": []
  },
  {
   "cell_type": "code",
   "execution_count": null,
   "id": "2b507017",
   "metadata": {},
   "outputs": [],
   "source": []
  },
  {
   "cell_type": "code",
   "execution_count": 158,
   "id": "155a7c00",
   "metadata": {},
   "outputs": [
    {
     "name": "stdout",
     "output_type": "stream",
     "text": [
      "0.9802628062363887 1.0575682497349836\n"
     ]
    }
   ],
   "source": [
    "bus_volt = dss.Circuit.AllBusMagPu()\n",
    "print(min(bus_volt), max(bus_volt))\n",
    "if min(bus_volt) < 0.95:\n",
    "    print(\"violations!\")\n",
    "elif max(bus_volt) > 1.10:\n",
    "    print(\"violations!\")"
   ]
  },
  {
   "cell_type": "code",
   "execution_count": 156,
   "id": "57821ada",
   "metadata": {},
   "outputs": [
    {
     "data": {
      "text/plain": [
       "[0.9999908909413049,\n",
       " 0.9999954134322395,\n",
       " 0.9999934443321775,\n",
       " 1.0187374895994943,\n",
       " 1.018743713346602,\n",
       " 1.0187410047733032,\n",
       " 1.018737348169274,\n",
       " 1.0187436770760254,\n",
       " 1.0187409262209448,\n",
       " 1.0119182558717306,\n",
       " 1.0196718607604895,\n",
       " 1.0142083416231071,\n",
       " 1.019446087615112,\n",
       " 1.0125785093662114,\n",
       " 1.0067964169270658,\n",
       " 1.0204491672597906,\n",
       " 1.0117281920967316,\n",
       " 1.0120586792841098,\n",
       " 1.0113047389548038,\n",
       " 1.0106540447291306,\n",
       " 1.0031554300172003,\n",
       " 1.0212947907357892,\n",
       " 1.009891881712575,\n",
       " 1.021004955492693,\n",
       " 1.0016664633158547,\n",
       " 0.9987177397624752,\n",
       " 1.0221908851993649,\n",
       " 1.0071373831087806,\n",
       " 1.0079253469430158,\n",
       " 1.006239900077662,\n",
       " 1.0069290814266678,\n",
       " 0.9961126139981761,\n",
       " 1.024448184102756,\n",
       " 0.9981745082362499,\n",
       " 1.0055776204227964,\n",
       " 1.0059108428106895,\n",
       " 1.0070556167582114,\n",
       " 1.0060751323530135,\n",
       " 1.0084153132165996,\n",
       " 0.9947932497450885,\n",
       " 0.9962469956097718,\n",
       " 1.0238478879145958,\n",
       " 0.997504965176741,\n",
       " 0.993937659383697,\n",
       " 1.02243374408053,\n",
       " 0.9964015563818727,\n",
       " 1.0236819485972528,\n",
       " 0.9967995263098033,\n",
       " 0.995345959258624,\n",
       " 0.9967876326659602,\n",
       " 1.0231265646526473,\n",
       " 0.9967025736249159,\n",
       " 1.0030165377095785,\n",
       " 1.002930951090289,\n",
       " 1.0027606326178466,\n",
       " 1.0024350959182162,\n",
       " 0.9971811325628327,\n",
       " 1.0226195834381027,\n",
       " 0.9969362066125894,\n",
       " 1.0024002739986013,\n",
       " 1.0024039685475883,\n",
       " 1.001844219515173,\n",
       " 1.0010839569651118,\n",
       " 0.9981656496697306,\n",
       " 1.0216699173719166,\n",
       " 0.9973487810339664,\n",
       " 0.998429310942578,\n",
       " 1.0216288015231028,\n",
       " 0.9968892207460153,\n",
       " 0.998429313760967,\n",
       " 1.0216288046520359,\n",
       " 0.9968892240442102,\n",
       " 1.0014502342453373,\n",
       " 0.9956431721519203,\n",
       " 1.0259643902420277,\n",
       " 0.9946530081119617,\n",
       " 0.9947040934360595,\n",
       " 1.0254944832426534,\n",
       " 0.9963223994632765,\n",
       " 1.0270120642336353,\n",
       " 0.9923895745935779,\n",
       " 0.9939185679419377,\n",
       " 1.0248444553236598,\n",
       " 1.0244272032514212,\n",
       " 0.9919586732753922,\n",
       " 0.9969292643636305,\n",
       " 1.028094572851305,\n",
       " 0.9902906483146996,\n",
       " 1.0330532471337655,\n",
       " 0.9968825337371469,\n",
       " 1.0282840852249109,\n",
       " 0.989336381969548,\n",
       " 0.9963551420426922,\n",
       " 0.9977492945861353,\n",
       " 1.0290886849256595,\n",
       " 0.987461506923512,\n",
       " 0.9959589457539167,\n",
       " 0.9974613842303742,\n",
       " 1.028802775697326,\n",
       " 0.9872531037029239,\n",
       " 0.9990753606038094,\n",
       " 1.0306574237465829,\n",
       " 0.9859242526604315,\n",
       " 0.9996850516163442,\n",
       " 1.0313212839133055,\n",
       " 0.9859892270664687,\n",
       " 1.000147966807666,\n",
       " 1.0320351886951804,\n",
       " 0.9863870589951229,\n",
       " 1.0014035277944386,\n",
       " 1.0333096144001142,\n",
       " 0.9872131672918274,\n",
       " 0.9940654780880533,\n",
       " 1.0216930682444323,\n",
       " 1.0085603882920913,\n",
       " 0.9920028174439827,\n",
       " 1.021301955287732,\n",
       " 1.0092980645156644,\n",
       " 0.9908787125269511,\n",
       " 1.0209658818821077,\n",
       " 1.0097741888362148,\n",
       " 0.9912955412124903,\n",
       " 1.0201927964341038,\n",
       " 1.0101861130516,\n",
       " 0.9874708487049125,\n",
       " 1.0208934156386282,\n",
       " 1.0108087619225552,\n",
       " 0.9912668035294292,\n",
       " 1.0200174071954566,\n",
       " 1.010271130045186,\n",
       " 1.0202419746999447,\n",
       " 0.9802628724496862,\n",
       " 1.0217494878067694,\n",
       " 1.0125049875409404,\n",
       " 1.0199195970051962,\n",
       " 0.9802628957457133,\n",
       " 1.0217495097179898,\n",
       " 1.0125050122670491,\n",
       " 0.983296824062191,\n",
       " 1.0196571683552411,\n",
       " 1.008650157501854,\n",
       " 0.985354050679245,\n",
       " 1.0181262716723243,\n",
       " 1.0063940049505866,\n",
       " 0.985919532766165,\n",
       " 1.0163686084004435,\n",
       " 1.0019423811505763,\n",
       " 0.9862958296408872,\n",
       " 1.016192726081859,\n",
       " 0.9961846625644803,\n",
       " 0.9865363548815136,\n",
       " 1.0164159858721313,\n",
       " 0.9946787413333272,\n",
       " 1.0425946572924327,\n",
       " 1.043657673075266,\n",
       " 1.0396971278047837,\n",
       " 1.0421650446683777,\n",
       " 1.0412423138068758,\n",
       " 1.0460079243493496,\n",
       " 1.0405956666378489,\n",
       " 1.0408978517653076,\n",
       " 1.0437207997262332,\n",
       " 1.0402552605072164,\n",
       " 1.0404245448847638,\n",
       " 1.039189672895057,\n",
       " 1.0384929695634981,\n",
       " 1.0414139846447579,\n",
       " 1.040600207890728,\n",
       " 1.0472507833766398,\n",
       " 1.0412741515291246,\n",
       " 1.0433477341018929,\n",
       " 1.0466707378846416,\n",
       " 1.0425507795458415,\n",
       " 1.0499454174677572,\n",
       " 1.0407503649173717,\n",
       " 1.0372368826396203,\n",
       " 1.0481817746975493,\n",
       " 1.0457267170712445,\n",
       " 1.043050944048697,\n",
       " 1.0507442162885372,\n",
       " 1.0405602650460941,\n",
       " 1.0427433869780136,\n",
       " 1.0508798786945546,\n",
       " 1.0405190752601468,\n",
       " 1.0460794891305316,\n",
       " 1.054256978760332,\n",
       " 1.0397466289837591,\n",
       " 1.046851175587561,\n",
       " 1.055117547010452,\n",
       " 1.0399790732597303,\n",
       " 1.0476799239723247,\n",
       " 1.0564115345902851,\n",
       " 1.0407825939755466,\n",
       " 1.037409437545368,\n",
       " 1.0488213138393438,\n",
       " 1.0575682497349836,\n",
       " 1.0416283732473552,\n",
       " 1.036203629618566,\n",
       " 1.0353746291336563,\n",
       " 1.0497821210468368,\n",
       " 1.0473567187055912,\n",
       " 1.0353305014074718,\n",
       " 1.03532945194055,\n",
       " 1.0502259763793835,\n",
       " 1.0473036403316198,\n",
       " 1.0501476444663007,\n",
       " 1.0354462435004117,\n",
       " 1.0504712805564063,\n",
       " 1.0471374942851372,\n",
       " 1.0470781946827892,\n",
       " 1.0354570053508703,\n",
       " 1.0508858811670245,\n",
       " 1.0468459868871962,\n",
       " 1.0347577789793339,\n",
       " 1.0357817185791875,\n",
       " 1.051157627246891,\n",
       " 1.0463922956546985,\n",
       " 1.0521498556823374,\n",
       " 1.0407055466681367,\n",
       " 1.0434562634839426,\n",
       " 1.0400457160402286,\n",
       " 1.0410109967095724,\n",
       " 1.0426211142890103,\n",
       " 1.039690043850652,\n",
       " 1.0412117369751313,\n",
       " 1.0425421713361551,\n",
       " 1.0392837747577064,\n",
       " 1.0412117873543132,\n",
       " 1.042542227000439,\n",
       " 1.0392838217929494,\n",
       " 1.0408978309044232,\n",
       " 1.0437207797438248,\n",
       " 1.040255284391508,\n",
       " 1.0393759185732216,\n",
       " 1.0440258337982755,\n",
       " 1.041007501796101,\n",
       " 1.042360621418481,\n",
       " 1.0384121161547004,\n",
       " 1.043549591891149,\n",
       " 1.0415221971637179,\n",
       " 1.0447352244516424,\n",
       " 1.0516579101930876,\n",
       " 1.042413172685304,\n",
       " 1.0373463230491222,\n",
       " 1.0438042109782961,\n",
       " 1.0416706032603935,\n",
       " 1.040960154091223,\n",
       " 1.0397100725648234,\n",
       " 1.0373464013421216,\n",
       " 1.043804298094931,\n",
       " 1.0416706770131694,\n",
       " 1.042060904721615,\n",
       " 1.0413345596077495,\n",
       " 1.0432024481123552,\n",
       " 1.048717125421558,\n",
       " 1.0483093204493403,\n",
       " 0.996112567910726,\n",
       " 1.0244482283385625,\n",
       " 0.9981744893757957,\n",
       " 0.9987176913779465,\n",
       " 1.0221908269245874,\n",
       " 1.0071373864949644,\n",
       " 1.0476530145317915,\n",
       " 1.040909771935412,\n",
       " 1.0378184430839181,\n",
       " 0.9802628062363887,\n",
       " 1.021749475313259,\n",
       " 1.0125050594251925,\n",
       " 0.9802628957457133,\n",
       " 1.0217495097179898,\n",
       " 1.0125050122670494,\n",
       " 1.004977314233191,\n",
       " 1.0367746389789168,\n",
       " 0.9908370674886088,\n",
       " 1.0049745068473994,\n",
       " 1.0367719178586476,\n",
       " 0.9908342203219646,\n",
       " 1.0392158424837312,\n",
       " 1.0546074925854265,\n",
       " 1.0505772825648303,\n",
       " 1.0392154038752988,\n",
       " 1.0546070604682847,\n",
       " 1.0505768487960567]"
      ]
     },
     "execution_count": 156,
     "metadata": {},
     "output_type": "execute_result"
    }
   ],
   "source": [
    "dss.Circuit.AllBusMagPu()"
   ]
  },
  {
   "cell_type": "code",
   "execution_count": 30,
   "id": "b8d9f5f8",
   "metadata": {},
   "outputs": [
    {
     "data": {
      "text/plain": [
       "['reg1a',\n",
       " 'reg2a',\n",
       " 'reg3a',\n",
       " 'reg4a',\n",
       " 'reg3c',\n",
       " 'reg4b',\n",
       " 'reg4c',\n",
       " '1209-dies1',\n",
       " '1142-lng1']"
      ]
     },
     "execution_count": 30,
     "metadata": {},
     "output_type": "execute_result"
    }
   ],
   "source": [
    "dss.Transformers.AllNames()"
   ]
  },
  {
   "cell_type": "code",
   "execution_count": 32,
   "id": "6dc3f8a8",
   "metadata": {},
   "outputs": [],
   "source": [
    "xfmr_id = dss.Transformers.First()\n",
    "tap_vals = {}\n",
    "while xfmr_id:\n",
    "    tap_vals[dss.Transformers.Name()] = round((dss.Transformers.Tap()-1)*160)\n",
    "    xfmr_id = dss.Transformers.Next()\n",
    "    "
   ]
  },
  {
   "cell_type": "code",
   "execution_count": 33,
   "id": "e989f6ca",
   "metadata": {},
   "outputs": [
    {
     "data": {
      "text/plain": [
       "{'reg1a': 3,\n",
       " 'reg2a': 1,\n",
       " 'reg3a': 1,\n",
       " 'reg4a': 9,\n",
       " 'reg3c': 1,\n",
       " 'reg4b': 3,\n",
       " 'reg4c': 4,\n",
       " '1209-dies1': 0,\n",
       " '1142-lng1': 0}"
      ]
     },
     "execution_count": 33,
     "metadata": {},
     "output_type": "execute_result"
    }
   ],
   "source": [
    "tap_vals"
   ]
  },
  {
   "cell_type": "code",
   "execution_count": 29,
   "id": "8a03ac48",
   "metadata": {},
   "outputs": [
    {
     "name": "stdout",
     "output_type": "stream",
     "text": [
      "32\n",
      "0.9\n",
      "1.1\n"
     ]
    }
   ],
   "source": [
    "xfmr_id = dss.Transformers.First()\n",
    "print(dss.Transformers.NumTaps())\n",
    "print(dss.Transformers.MinTap())\n",
    "print(dss.Transformers.MaxTap())"
   ]
  },
  {
   "cell_type": "code",
   "execution_count": 34,
   "id": "81ce0a17",
   "metadata": {},
   "outputs": [
    {
     "data": {
      "text/plain": [
       "[48600.09780120115, 85058.04668693375]"
      ]
     },
     "execution_count": 34,
     "metadata": {},
     "output_type": "execute_result"
    }
   ],
   "source": [
    "dss.Circuit.Losses()"
   ]
  },
  {
   "cell_type": "code",
   "execution_count": 35,
   "id": "05d2f9d6",
   "metadata": {},
   "outputs": [
    {
     "data": {
      "text/plain": [
       "[-334.14451295399687, -1172.7752478513462]"
      ]
     },
     "execution_count": 35,
     "metadata": {},
     "output_type": "execute_result"
    }
   ],
   "source": [
    "dss.Circuit.TotalPower()"
   ]
  },
  {
   "cell_type": "code",
   "execution_count": 36,
   "id": "801b2fa1",
   "metadata": {},
   "outputs": [
    {
     "data": {
      "text/plain": [
       "['c83', 'c88a', 'c90b', 'c92c']"
      ]
     },
     "execution_count": 36,
     "metadata": {},
     "output_type": "execute_result"
    }
   ],
   "source": [
    "dss.Capacitors.AllNames()"
   ]
  },
  {
   "cell_type": "code",
   "execution_count": 39,
   "id": "0460f4a5",
   "metadata": {},
   "outputs": [],
   "source": [
    "cap_id = dss.Capacitors.First()\n",
    "cap_vals = {}\n",
    "while cap_id:\n",
    "    cap_vals[dss.Capacitors.Name()] = dss.Capacitors.States()\n",
    "    cap_id = dss.Capacitors.Next()"
   ]
  },
  {
   "cell_type": "code",
   "execution_count": 119,
   "id": "a262efde",
   "metadata": {},
   "outputs": [
    {
     "data": {
      "text/plain": [
       "['c83', 'c88a', 'c90b', 'c92c']"
      ]
     },
     "execution_count": 119,
     "metadata": {},
     "output_type": "execute_result"
    }
   ],
   "source": [
    "dss.Capacitors."
   ]
  },
  {
   "cell_type": "code",
   "execution_count": 49,
   "id": "f84bd73d",
   "metadata": {},
   "outputs": [
    {
     "name": "stdout",
     "output_type": "stream",
     "text": [
      "0.0020303570000002047\n"
     ]
    }
   ],
   "source": [
    "StartTime = time.process_time()\n",
    "load_id = dss.Loads.First()\n",
    "load_vals = {}\n",
    "total_load = 0\n",
    "while load_id:\n",
    "    load = dss.Loads.kW()\n",
    "    load_vals[dss.Loads.Name()] = load\n",
    "    load_id = dss.Loads.Next()\n",
    "    total_load = total_load + load\n",
    "print(time.process_time() - StartTime)"
   ]
  },
  {
   "cell_type": "code",
   "execution_count": null,
   "id": "7f0e0048",
   "metadata": {},
   "outputs": [],
   "source": [
    "dss.Ckt.Name()"
   ]
  },
  {
   "cell_type": "code",
   "execution_count": 56,
   "id": "6ef58f3a",
   "metadata": {},
   "outputs": [
    {
     "data": {
      "text/plain": [
       "'/home/ande188/app-deconfliction/competing-apps/deconfliction-pipeline/rbdm/123Bus/ieee123_app_deconfliction_EXP_LOADS.csv'"
      ]
     },
     "execution_count": 56,
     "metadata": {},
     "output_type": "execute_result"
    }
   ],
   "source": [
    "dss.run_command('Export Loads')"
   ]
  },
  {
   "cell_type": "code",
   "execution_count": 190,
   "id": "d9d3587a",
   "metadata": {},
   "outputs": [
    {
     "name": "stdout",
     "output_type": "stream",
     "text": [
      "[2318.282764005484, -1.1467779512402778, 2538.278684184109, -121.08854251788763, 2507.236832521614, 121.68446969434221, 0.0, 0.0, 0.0, 0.0, 0.0, 0.0]\n",
      "[2287.430615112856, -0.9238467420809352, 0.0, 0.0]\n",
      "[2520.4965418594547, -121.57815969729265, 0.0, 0.0]\n",
      "[2519.5344716237805, 122.48651424149554, 0.0, 0.0]\n"
     ]
    }
   ],
   "source": [
    "dss.Circuit.SetActiveClass('Capacitor')\n",
    "device = dss.Circuit.FirstElement()\n",
    "total_load = 0\n",
    "bus_shunt_p = {}\n",
    "while device:\n",
    "    output = dss.CktElement.VoltagesMagAng()\n",
    "    print(output)\n",
    "#     bus = dss.CktElement.BusNames()\n",
    "#     bus_shunt_p[bus[0]] = output[0]\n",
    "    device = dss.Circuit.NextElement()\n",
    "# print(bus_shunt_p)"
   ]
  },
  {
   "cell_type": "code",
   "execution_count": 186,
   "id": "fcd706d6",
   "metadata": {},
   "outputs": [
    {
     "data": {
      "text/plain": [
       "'Transformer.reg4a'"
      ]
     },
     "execution_count": 186,
     "metadata": {},
     "output_type": "execute_result"
    }
   ],
   "source": [
    "dss.Circuit.SetActiveClass('Transformer')\n",
    "\n",
    "dss.CktElement.Name()"
   ]
  },
  {
   "cell_type": "code",
   "execution_count": 231,
   "id": "ae10ffeb",
   "metadata": {},
   "outputs": [
    {
     "name": "stdout",
     "output_type": "stream",
     "text": [
      "257.83767279517747\n",
      "Transformer.reg1a\n",
      "28.23449327357323\n",
      "Transformer.reg2a\n",
      "18.74948007117737\n",
      "Transformer.reg3a\n",
      "133.46490782269652\n",
      "Transformer.reg4a\n",
      "18.69548946599739\n",
      "Transformer.reg3c\n",
      "54.35959239537281\n",
      "Transformer.reg4b\n",
      "166.42127284845722\n",
      "Transformer.reg4c\n",
      "85.77548650605071\n",
      "Transformer.1209-dies1\n",
      "14.244618002759747\n",
      "Transformer.1142-lng1\n"
     ]
    }
   ],
   "source": [
    "dss.Circuit.SetActiveClass('Transformer')\n",
    "device = dss.Circuit.FirstElement()\n",
    "total_load = 0\n",
    "bus_shunt_p = {}\n",
    "while device:\n",
    "    s = dss.CktElement.TotalPowers()\n",
    "    a = dss.CktElement.CurrentsMagAng()\n",
    "    print(a[0])\n",
    "    kva = math.sqrt((s[0]*s[0]) + (s[1]*s[1]))\n",
    "    print(dss.CktElement.Name())\n",
    "#     print(kva)\n",
    "#     bus = dss.CktElement.BusNames()\n",
    "#     bus_shunt_p[bus[0]] = output[0]\n",
    "    device = dss.Circuit.NextElement()\n",
    "# print(bus_shunt_p)"
   ]
  },
  {
   "cell_type": "code",
   "execution_count": 74,
   "id": "8503fbd4",
   "metadata": {},
   "outputs": [],
   "source": [
    "a = dss.Circuit.SetActiveElement('PVSystem.')"
   ]
  },
  {
   "cell_type": "code",
   "execution_count": 126,
   "id": "e6ddd662",
   "metadata": {},
   "outputs": [
    {
     "data": {
      "text/plain": [
       "['92.3', '92.0.0.0']"
      ]
     },
     "execution_count": 126,
     "metadata": {},
     "output_type": "execute_result"
    }
   ],
   "source": [
    "dss.CktElement.BusNames("
   ]
  },
  {
   "cell_type": "code",
   "execution_count": 90,
   "id": "0c18f23c",
   "metadata": {},
   "outputs": [
    {
     "data": {
      "text/plain": [
       "1"
      ]
     },
     "execution_count": 90,
     "metadata": {},
     "output_type": "execute_result"
    }
   ],
   "source": [
    "dss.dss_lib.ActiveClass_Get_First()"
   ]
  },
  {
   "cell_type": "code",
   "execution_count": 141,
   "id": "ea1c2aa1",
   "metadata": {},
   "outputs": [
    {
     "data": {
      "text/plain": [
       "b'9'"
      ]
     },
     "execution_count": 141,
     "metadata": {},
     "output_type": "execute_result"
    }
   ],
   "source": [
    "(dss.dss_lib.Bus_Get_Next())\n",
    "ffi.string(dss.dss_lib.Bus_Get_Name())"
   ]
  },
  {
   "cell_type": "code",
   "execution_count": 229,
   "id": "3d3b1a82",
   "metadata": {},
   "outputs": [
    {
     "name": "stdout",
     "output_type": "stream",
     "text": [
      "0.0023303180000056045\n"
     ]
    }
   ],
   "source": [
    "tap = 1\n",
    "val = 1 + tap/160\n",
    "StartTime = time.process_time()\n",
    "dss.run_command('BatchEdit PVsystem..* irradiance=1')\n",
    "dss.run_command('Transformer.reg4a.Taps=[1.0 %s]'%val)\n",
    "dss.Solution.SolveNoControl()\n",
    "print(time.process_time() - StartTime)\n"
   ]
  },
  {
   "cell_type": "code",
   "execution_count": 230,
   "id": "2505868c",
   "metadata": {},
   "outputs": [
    {
     "name": "stdout",
     "output_type": "stream",
     "text": [
      "0.9708880102903863 1.0569954564447284\n"
     ]
    }
   ],
   "source": []
  },
  {
   "cell_type": "code",
   "execution_count": 46,
   "id": "6f285766",
   "metadata": {},
   "outputs": [],
   "source": [
    "from opendssdirect.utils import Iterator\n",
    "import cffi"
   ]
  },
  {
   "cell_type": "code",
   "execution_count": 35,
   "id": "1c770c57",
   "metadata": {},
   "outputs": [
    {
     "data": {
      "text/plain": [
       "[]"
      ]
     },
     "execution_count": 35,
     "metadata": {},
     "output_type": "execute_result"
    }
   ],
   "source": [
    "[i() for i in Iterator(dss.Bus, \"name\")]"
   ]
  },
  {
   "cell_type": "code",
   "execution_count": 51,
   "id": "c947aea9",
   "metadata": {},
   "outputs": [],
   "source": [
    "from cffi import FFI\n",
    "ffi = FFI()"
   ]
  },
  {
   "cell_type": "code",
   "execution_count": 142,
   "id": "8f7f0cc0",
   "metadata": {},
   "outputs": [],
   "source": [
    "a = dss.Bus.AllPCEatBus()"
   ]
  },
  {
   "cell_type": "code",
   "execution_count": 143,
   "id": "d1b9c104",
   "metadata": {},
   "outputs": [
    {
     "data": {
      "text/plain": [
       "149"
      ]
     },
     "execution_count": 143,
     "metadata": {},
     "output_type": "execute_result"
    }
   ],
   "source": [
    "dss.Circuit.SetActiveElement(a[0])"
   ]
  },
  {
   "cell_type": "code",
   "execution_count": 204,
   "id": "a4b0b9a8",
   "metadata": {},
   "outputs": [
    {
     "data": {
      "text/plain": [
       "1238.050414531596"
      ]
     },
     "execution_count": 204,
     "metadata": {},
     "output_type": "execute_result"
    }
   ],
   "source": [
    "sub = dss.Circuit.TotalPower()\n",
    "math.sqrt((sub[0]*sub[0]) + (sub[1]*sub[1]))"
   ]
  },
  {
   "cell_type": "code",
   "execution_count": 202,
   "id": "e94d3d9a",
   "metadata": {},
   "outputs": [
    {
     "data": {
      "text/plain": [
       "[-99.74188565223011, -1.2900121498245263, 99.99995798472933, 4.999958017731779]"
      ]
     },
     "execution_count": 202,
     "metadata": {},
     "output_type": "execute_result"
    }
   ],
   "source": [
    "sub"
   ]
  },
  {
   "cell_type": "code",
   "execution_count": 195,
   "id": "8914b425",
   "metadata": {},
   "outputs": [],
   "source": [
    "import math"
   ]
  },
  {
   "cell_type": "code",
   "execution_count": null,
   "id": "302dd090",
   "metadata": {},
   "outputs": [],
   "source": []
  }
 ],
 "metadata": {
  "kernelspec": {
   "display_name": "Python 3 (ipykernel)",
   "language": "python",
   "name": "python3"
  },
  "language_info": {
   "codemirror_mode": {
    "name": "ipython",
    "version": 3
   },
   "file_extension": ".py",
   "mimetype": "text/x-python",
   "name": "python",
   "nbconvert_exporter": "python",
   "pygments_lexer": "ipython3",
   "version": "3.10.6"
  }
 },
 "nbformat": 4,
 "nbformat_minor": 5
}
