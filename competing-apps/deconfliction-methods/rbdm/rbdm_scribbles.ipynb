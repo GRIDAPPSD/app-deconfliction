{
 "cells": [
  {
   "cell_type": "code",
   "execution_count": 4,
   "id": "9664de71",
   "metadata": {},
   "outputs": [],
   "source": [
    "import json\n",
    "import opendssdirect as dss\n",
    "import time\n",
    "import math\n",
    "import re"
   ]
  },
  {
   "cell_type": "code",
   "execution_count": 2,
   "id": "ca7e2a16",
   "metadata": {},
   "outputs": [
    {
     "data": {
      "text/plain": [
       "{'123.1': {'RatioTapChanger.reg4a': {'decarbonization-app': 3,\n",
       "   'profit_cvr-app': 0,\n",
       "   'resilience-app': 3},\n",
       "  'RatioTapChanger.reg4b': {'decarbonization-app': 3,\n",
       "   'profit_cvr-app': 0,\n",
       "   'resilience-app': 5},\n",
       "  'RatioTapChanger.reg4c': {'decarbonization-app': -9,\n",
       "   'profit_cvr-app': 4,\n",
       "   'resilience-app': -1},\n",
       "  'BatteryUnit.battery4': {'decarbonization-app': -150000.0,\n",
       "   'profit_cvr-app': -150000.0,\n",
       "   'resilience-app': 150000.0}},\n",
       " '123.2': {'BatteryUnit.battery5': {'decarbonization-app': -250000.0,\n",
       "   'profit_cvr-app': -221526.5,\n",
       "   'resilience-app': 250000.0}},\n",
       " '123.3': {'BatteryUnit.battery3': {'decarbonization-app': -100000.0,\n",
       "   'profit_cvr-app': -100000.0,\n",
       "   'resilience-app': 100000.0}},\n",
       " '123.4': {'RatioTapChanger.reg1a': {'decarbonization-app': 6,\n",
       "   'profit_cvr-app': -5,\n",
       "   'resilience-app': 0},\n",
       "  'RatioTapChanger.reg2a': {'decarbonization-app': -12,\n",
       "   'profit_cvr-app': -1,\n",
       "   'resilience-app': 2},\n",
       "  'RatioTapChanger.reg3a': {'decarbonization-app': -12,\n",
       "   'profit_cvr-app': 1,\n",
       "   'resilience-app': 6},\n",
       "  'RatioTapChanger.reg3c': {'decarbonization-app': -10,\n",
       "   'profit_cvr-app': 6,\n",
       "   'resilience-app': -5},\n",
       "  'BatteryUnit.battery1': {'decarbonization-app': -125000.0,\n",
       "   'profit_cvr-app': -62176.602,\n",
       "   'resilience-app': 125000.0}}}"
      ]
     },
     "execution_count": 2,
     "metadata": {},
     "output_type": "execute_result"
    }
   ],
   "source": [
    "#open conflict matrix\n",
    "fcm = open(\"ConflictMatrix.json\", \"r\")\n",
    "ConflictMatrix = json.loads(fcm.read())\n",
    "\n",
    "#open dist_equip_map\n",
    "fcm = open(\"AddressableEquipment.json\", \"r\")\n",
    "AddressableEquipment = json.loads(fcm.read())\n",
    "\n",
    "DistributedConflictMatrix = {}\n",
    "for area_id in list(AddressableEquipment.keys()):\n",
    "    DistributedConflictMatrix[area_id] = {}\n",
    "    for eq_id in AddressableEquipment[area_id]:\n",
    "        DistributedConflictMatrix[area_id][eq_id] = ConflictMatrix['setpoints'][eq_id]\n",
    "        \n",
    "DistributedConflictMatrix"
   ]
  },
  {
   "cell_type": "code",
   "execution_count": 3,
   "id": "540cb8c9",
   "metadata": {},
   "outputs": [
    {
     "ename": "NameError",
     "evalue": "name 'self' is not defined",
     "output_type": "error",
     "traceback": [
      "\u001b[0;31m---------------------------------------------------------------------------\u001b[0m",
      "\u001b[0;31mNameError\u001b[0m                                 Traceback (most recent call last)",
      "\u001b[0;32m/tmp/ipykernel_1665716/752467188.py\u001b[0m in \u001b[0;36m<module>\u001b[0;34m\u001b[0m\n\u001b[1;32m      5\u001b[0m \u001b[0;34m\u001b[0m\u001b[0m\n\u001b[1;32m      6\u001b[0m \u001b[0mxfmr_id\u001b[0m \u001b[0;34m=\u001b[0m \u001b[0mdss\u001b[0m\u001b[0;34m.\u001b[0m\u001b[0mTransformers\u001b[0m\u001b[0;34m.\u001b[0m\u001b[0mFirst\u001b[0m\u001b[0;34m(\u001b[0m\u001b[0;34m)\u001b[0m\u001b[0;34m\u001b[0m\u001b[0;34m\u001b[0m\u001b[0m\n\u001b[0;32m----> 7\u001b[0;31m \u001b[0mself\u001b[0m\u001b[0;34m.\u001b[0m\u001b[0mtap_vals\u001b[0m \u001b[0;34m=\u001b[0m \u001b[0;34m{\u001b[0m\u001b[0;34m}\u001b[0m\u001b[0;34m\u001b[0m\u001b[0;34m\u001b[0m\u001b[0m\n\u001b[0m\u001b[1;32m      8\u001b[0m \u001b[0;32mwhile\u001b[0m \u001b[0mxfmr_id\u001b[0m\u001b[0;34m:\u001b[0m\u001b[0;34m\u001b[0m\u001b[0;34m\u001b[0m\u001b[0m\n\u001b[1;32m      9\u001b[0m     \u001b[0mtap_vals\u001b[0m\u001b[0;34m[\u001b[0m\u001b[0mdss\u001b[0m\u001b[0;34m.\u001b[0m\u001b[0mTransformers\u001b[0m\u001b[0;34m.\u001b[0m\u001b[0mName\u001b[0m\u001b[0;34m(\u001b[0m\u001b[0;34m)\u001b[0m\u001b[0;34m]\u001b[0m \u001b[0;34m=\u001b[0m \u001b[0mround\u001b[0m\u001b[0;34m(\u001b[0m\u001b[0;34m(\u001b[0m\u001b[0mdss\u001b[0m\u001b[0;34m.\u001b[0m\u001b[0mTransformers\u001b[0m\u001b[0;34m.\u001b[0m\u001b[0mTap\u001b[0m\u001b[0;34m(\u001b[0m\u001b[0;34m)\u001b[0m\u001b[0;34m-\u001b[0m\u001b[0;36m1\u001b[0m\u001b[0;34m)\u001b[0m\u001b[0;34m*\u001b[0m\u001b[0;36m160\u001b[0m\u001b[0;34m)\u001b[0m\u001b[0;34m\u001b[0m\u001b[0;34m\u001b[0m\u001b[0m\n",
      "\u001b[0;31mNameError\u001b[0m: name 'self' is not defined"
     ]
    }
   ],
   "source": [
    "# This should be part of init\n",
    "dss.run_command('Redirect ./123Bus/Run_IEEE123Bus.dss')\n",
    "dss.run_command('Compile ./123Bus/Run_IEEE123Bus.dss')\n",
    "dss.Solution.Solve()\n",
    "\n",
    "xfmr_id = dss.Transformers.First()\n",
    "self.tap_vals = {}\n",
    "while xfmr_id:\n",
    "    tap_vals[dss.Transformers.Name()] = round((dss.Transformers.Tap()-1)*160)\n",
    "    xfmr_id = dss.Transformers.Next()\n",
    "\n"
   ]
  },
  {
   "cell_type": "code",
   "execution_count": 4,
   "id": "2002345e",
   "metadata": {},
   "outputs": [
    {
     "ename": "NameError",
     "evalue": "name 'self' is not defined",
     "output_type": "error",
     "traceback": [
      "\u001b[0;31m---------------------------------------------------------------------------\u001b[0m",
      "\u001b[0;31mNameError\u001b[0m                                 Traceback (most recent call last)",
      "\u001b[0;32m/tmp/ipykernel_1665716/4001155189.py\u001b[0m in \u001b[0;36m<module>\u001b[0;34m\u001b[0m\n\u001b[1;32m      6\u001b[0m         \u001b[0meq_name\u001b[0m \u001b[0;34m=\u001b[0m \u001b[0meq_str\u001b[0m\u001b[0;34m.\u001b[0m\u001b[0mgroup\u001b[0m\u001b[0;34m(\u001b[0m\u001b[0;36m1\u001b[0m\u001b[0;34m)\u001b[0m\u001b[0;34m\u001b[0m\u001b[0;34m\u001b[0m\u001b[0m\n\u001b[1;32m      7\u001b[0m \u001b[0;34m\u001b[0m\u001b[0m\n\u001b[0;32m----> 8\u001b[0;31m         \u001b[0mmax_budget_tap\u001b[0m \u001b[0;34m=\u001b[0m \u001b[0mself\u001b[0m\u001b[0;34m.\u001b[0m\u001b[0mtap_vals\u001b[0m\u001b[0;34m[\u001b[0m\u001b[0meq_name\u001b[0m\u001b[0;34m]\u001b[0m \u001b[0;34m+\u001b[0m \u001b[0;36m2\u001b[0m\u001b[0;34m\u001b[0m\u001b[0;34m\u001b[0m\u001b[0m\n\u001b[0m\u001b[1;32m      9\u001b[0m         \u001b[0mmin_budget_tap\u001b[0m \u001b[0;34m=\u001b[0m \u001b[0mself\u001b[0m\u001b[0;34m.\u001b[0m\u001b[0mtap_vals\u001b[0m\u001b[0;34m[\u001b[0m\u001b[0meq_name\u001b[0m\u001b[0;34m]\u001b[0m \u001b[0;34m-\u001b[0m \u001b[0;36m2\u001b[0m\u001b[0;34m\u001b[0m\u001b[0;34m\u001b[0m\u001b[0m\n\u001b[1;32m     10\u001b[0m         \u001b[0mprint\u001b[0m\u001b[0;34m(\u001b[0m\u001b[0meq_name\u001b[0m\u001b[0;34m,\u001b[0m \u001b[0mmax_budget_tap\u001b[0m\u001b[0;34m,\u001b[0m \u001b[0mmin_budget_tap\u001b[0m\u001b[0;34m)\u001b[0m\u001b[0;34m\u001b[0m\u001b[0;34m\u001b[0m\u001b[0m\n",
      "\u001b[0;31mNameError\u001b[0m: name 'self' is not defined"
     ]
    }
   ],
   "source": [
    "# this should be used to eliminate alternatives\n",
    "\n",
    "for setpoint in list(ConflictMatrix[\"setpoints\"].keys()):\n",
    "    if \"Tap\" in setpoint:\n",
    "        eq_str = re.match(r'RatioTapChanger\\.(.*)', setpoint)\n",
    "        eq_name = eq_str.group(1)\n",
    "        \n",
    "        max_budget_tap = self.tap_vals[eq_name] + 2\n",
    "        min_budget_tap = self.tap_vals[eq_name] - 2\n",
    "        print(eq_name, max_budget_tap, min_budget_tap)   \n",
    "        \n",
    "# After resolution, we update self.tap_vals with final value"
   ]
  },
  {
   "cell_type": "code",
   "execution_count": 4,
   "id": "d949ae2d",
   "metadata": {},
   "outputs": [],
   "source": [
    "feeder_mrid = \"_E3D03A27-B988-4D79-BFAB-F9D37FB289F7\" #123 deconf\n",
    "# feeder_mrid = \"_C1C3E687-6FFD-C753-582B-632A27E28507\"  # 123 bus\n",
    "# feeder_mrid = \"_49AD8E07-3BF9-A4E2-CB8F-C3722F837B62\"  # 13 bus\n",
    "# feeder_mrid = \"_5B816B93-7A5F-B64C-8460-47C17D6E4B0F\" # 13 bus asets\n",
    "#feeder_mrid = \"_4F76A5F9-271D-9EB8-5E31-AA362D86F2C3\"  # 8500 node\n",
    "#feeder_mrid = \"_67AB291F-DCCD-31B7-B499-338206B9828F\" # J1\n",
    "#feeder_mrid = \"_9CE150A8-8CC5-A0F9-B67E-BBD8C79D3095\"  # R2 12.47 3\n",
    "#feeder_mrid = \"_EE71F6C9-56F0-4167-A14E-7F4C71F10EAA\" #9500 node"
   ]
  },
  {
   "cell_type": "code",
   "execution_count": 10,
   "id": "ecef4378",
   "metadata": {},
   "outputs": [],
   "source": [
    "import importlib\n",
    "cim_profile = 'rc4_2021'\n",
    "cim = importlib.import_module('cimgraph.data_profile.' + cim_profile)\n",
    "sparql = importlib.import_module('cimgraph.loaders.sparql.' + cim_profile)\n",
    "\n",
    "from cimgraph.loaders import Parameter, ConnectionParameters\n",
    "from cimgraph.loaders.blazegraph.blazegraph import BlazegraphConnection\n",
    "from cimgraph.loaders.gridappsd import GridappsdConnection, get_topology_response\n",
    "from cimgraph.models import DistributedModel\n",
    "\n",
    "# Blazegraph connection for running outside the container\n",
    "params = ConnectionParameters([Parameter(key=\"url\", value=\"http://localhost:8889/bigdata/namespace/kb/sparql\")])\n",
    "bg = BlazegraphConnection(params, 'rc4_2021')\n",
    "topology_response = get_topology_response(feeder_mrid)"
   ]
  },
  {
   "cell_type": "code",
   "execution_count": 9,
   "id": "96d2e87b",
   "metadata": {},
   "outputs": [],
   "source": [
    "import os\n",
    "from gridappsd import GridAPPSD\n",
    "os.environ['GRIDAPPSD_APPLICATION_ID'] = 'gridappsd-topology-processor'\n",
    "os.environ['GRIDAPPSD_APPLICATION_STATUS'] = 'STARTED'\n",
    "os.environ['GRIDAPPSD_USER'] = 'app_user'\n",
    "os.environ['GRIDAPPSD_PASSWORD'] = '1234App'\n",
    "gapps = GridAPPSD()\n",
    "assert gapps.connected\n",
    "\n",
    "topic = \"goss.gridappsd.request.data.topology\"\n",
    "\n",
    "message = {\n",
    "   \"requestType\": \"GET_SWITCH_AREAS\",\n",
    "   \"modelID\":  feeder_mrid,\n",
    "   \"resultFormat\": \"JSON\"\n",
    "}\n",
    "\n",
    "dist_api_message = gapps.get_response(topic, message, timeout=60)"
   ]
  },
  {
   "cell_type": "code",
   "execution_count": 11,
   "id": "9c1f419c",
   "metadata": {},
   "outputs": [],
   "source": [
    "feeder = cim.Feeder(mRID=feeder_mrid)\n",
    "network = DistributedModel(connection=bg, feeder=feeder, topology=topology_response['feeders'])"
   ]
  },
  {
   "cell_type": "code",
   "execution_count": 40,
   "id": "f8eb91ca",
   "metadata": {},
   "outputs": [
    {
     "name": "stdout",
     "output_type": "stream",
     "text": [
      "BatteryUnit\n",
      "battery3\n",
      "PowerElectronicsConnection\n",
      "dg_48\n",
      "battery3\n",
      "dg_42\n",
      "PhotovoltaicUnit\n",
      "dg_48\n",
      "dg_42\n",
      "EnergyConsumer\n",
      "s65c\n",
      "s63a\n",
      "s62c\n",
      "s59b\n",
      "s56b\n",
      "s53a\n",
      "s52a\n",
      "s65b\n",
      "s60a\n",
      "s65a\n",
      "s66c\n",
      "s58b\n",
      "s64b\n",
      "s55a\n",
      "Analog\n",
      "ACLineSegment_l116_Voltage\n",
      "LoadBreakSwitch_sw2_Voltage\n",
      "LoadBreakSwitch_sw2_Voltage\n",
      "LoadBreakSwitch_sw6_Voltage\n",
      "LoadBreakSwitch_sw2_Voltage\n",
      "LoadBreakSwitch_sw4_Voltage\n",
      "LoadBreakSwitch_sw4_Voltage\n",
      "LoadBreakSwitch_sw4_Voltage\n",
      "ACLineSegment_l116_Voltage\n",
      "ACLineSegment_l116_Voltage\n",
      "LoadBreakSwitch_sw6_Voltage\n",
      "ACLineSegment_l61_Voltage\n",
      "ACLineSegment_l57_Voltage\n",
      "ACLineSegment_l65_Voltage\n",
      "ACLineSegment_l55_Voltage\n",
      "ACLineSegment_l65_Voltage\n",
      "ACLineSegment_l54_Voltage\n",
      "ACLineSegment_l61_Voltage\n",
      "ACLineSegment_l63_Voltage\n",
      "ACLineSegment_l56_Voltage\n",
      "ACLineSegment_l53_Voltage\n",
      "ACLineSegment_l55_Voltage\n",
      "ACLineSegment_l62_Voltage\n",
      "ACLineSegment_l55_Voltage\n",
      "ACLineSegment_l64_Voltage\n",
      "ACLineSegment_l52_Voltage\n",
      "ACLineSegment_l63_Voltage\n",
      "ACLineSegment_l63_Voltage\n",
      "ACLineSegment_l64_Voltage\n",
      "ACLineSegment_l53_Voltage\n",
      "ACLineSegment_l62_Voltage\n",
      "ACLineSegment_l54_Voltage\n",
      "ACLineSegment_l52_Voltage\n",
      "ACLineSegment_l61_Voltage\n",
      "ACLineSegment_l56_Voltage\n",
      "ACLineSegment_l56_Voltage\n",
      "ACLineSegment_l52_Voltage\n",
      "ACLineSegment_l59_Voltage\n",
      "ACLineSegment_l53_Voltage\n",
      "ACLineSegment_l65_Voltage\n",
      "PowerElectronicsConnection_BatteryUnit_battery3\n",
      "PowerElectronicsConnection_PhotovoltaicUnit_dg_48\n",
      "PowerElectronicsConnection_PhotovoltaicUnit_dg_42\n",
      "PowerElectronicsConnection_BatteryUnit_battery3\n",
      "PowerElectronicsConnection_PhotovoltaicUnit_dg_42\n",
      "PowerElectronicsConnection_BatteryUnit_battery3\n",
      "PowerElectronicsConnection_PhotovoltaicUnit_dg_48\n",
      "LoadBreakSwitch_sw6_Current\n",
      "LoadBreakSwitch_sw4_Current\n",
      "LoadBreakSwitch_sw6_Current\n",
      "LoadBreakSwitch_sw4_Current\n",
      "LoadBreakSwitch_sw4_Current\n",
      "LoadBreakSwitch_sw6_Current\n",
      "ACLineSegment_l54_Power\n",
      "ACLineSegment_l60_Power\n",
      "ACLineSegment_l56_Power\n",
      "ACLineSegment_l52_Power\n",
      "ACLineSegment_l55_Power\n",
      "ACLineSegment_l55_Power\n",
      "ACLineSegment_l58_Power\n",
      "ACLineSegment_l52_Power\n",
      "ACLineSegment_l55_Power\n",
      "ACLineSegment_l54_Power\n",
      "ACLineSegment_l53_Power\n",
      "ACLineSegment_l52_Power\n",
      "ACLineSegment_l59_Power\n",
      "ACLineSegment_l57_Power\n",
      "ACLineSegment_l116_Power\n",
      "ACLineSegment_l58_Power\n",
      "ACLineSegment_l60_Power\n",
      "ACLineSegment_l61_Power\n",
      "ACLineSegment_l53_Power\n",
      "ACLineSegment_l61_Power\n",
      "ACLineSegment_l53_Power\n",
      "ACLineSegment_l56_Power\n",
      "ACLineSegment_l54_Power\n",
      "ACLineSegment_l116_Power\n",
      "ACLineSegment_l60_Power\n",
      "ACLineSegment_l56_Power\n",
      "ACLineSegment_l61_Power\n",
      "ACLineSegment_l58_Power\n",
      "ACLineSegment_l116_Power\n",
      "ACLineSegment_l63_Power\n",
      "ACLineSegment_l64_Power\n",
      "ACLineSegment_l64_Power\n",
      "ACLineSegment_l65_Power\n",
      "ACLineSegment_l62_Power\n",
      "ACLineSegment_l65_Power\n",
      "ACLineSegment_l64_Power\n",
      "ACLineSegment_l62_Power\n",
      "ACLineSegment_l65_Power\n",
      "ACLineSegment_l62_Power\n",
      "ACLineSegment_l63_Power\n",
      "ACLineSegment_l63_Power\n",
      "EnergyConsumer_s65c\n",
      "EnergyConsumer_s56b\n",
      "EnergyConsumer_s59b\n",
      "EnergyConsumer_s66c\n",
      "EnergyConsumer_s60a\n",
      "EnergyConsumer_s65c\n",
      "EnergyConsumer_s60a\n",
      "EnergyConsumer_s63a\n",
      "EnergyConsumer_s58b\n",
      "EnergyConsumer_s65a\n",
      "EnergyConsumer_s59b\n",
      "EnergyConsumer_s65b\n",
      "EnergyConsumer_s64b\n",
      "EnergyConsumer_s52a\n",
      "EnergyConsumer_s55a\n",
      "EnergyConsumer_s52a\n",
      "EnergyConsumer_s62c\n",
      "EnergyConsumer_s63a\n",
      "EnergyConsumer_s55a\n",
      "EnergyConsumer_s65a\n",
      "EnergyConsumer_s62c\n",
      "EnergyConsumer_s64b\n",
      "EnergyConsumer_s53a\n",
      "EnergyConsumer_s56b\n",
      "EnergyConsumer_s66c\n",
      "EnergyConsumer_s53a\n",
      "EnergyConsumer_s58b\n",
      "EnergyConsumer_s65b\n",
      "LoadBreakSwitch_sw6_Voltage\n",
      "Discrete\n",
      "LoadBreakSwitch_sw4_State\n",
      "LoadBreakSwitch_sw6_State\n",
      "LoadBreakSwitch_sw6_State\n",
      "LoadBreakSwitch_sw6_State\n",
      "LoadBreakSwitch_sw4_State\n",
      "LoadBreakSwitch_sw4_State\n",
      "ACLineSegment\n",
      "l52\n",
      "l53\n",
      "l63\n",
      "l65\n",
      "l55\n",
      "l58\n",
      "l56\n",
      "l64\n",
      "l62\n",
      "l59\n",
      "l57\n",
      "l61\n",
      "l54\n",
      "l116\n",
      "l60\n",
      "ConnectivityNode\n",
      "65\n",
      "152\n",
      "62\n",
      "55\n",
      "63\n",
      "58\n",
      "66\n",
      "60\n",
      "57\n",
      "52\n",
      "61\n",
      "54\n",
      "53\n",
      "64\n",
      "59\n",
      "56\n"
     ]
    }
   ],
   "source": [
    "network_area = network.switch_areas[2]\n",
    "for eq_type in list(network_area.typed_catalog.keys()):\n",
    "    print(eq_type.__name__)\n",
    "    for eq_id in list(network_area.typed_catalog[eq_type].keys()):\n",
    "        name = network_area.typed_catalog[eq_type][eq_id].name\n",
    "        print(name)"
   ]
  },
  {
   "cell_type": "code",
   "execution_count": 50,
   "id": "bc888e31",
   "metadata": {},
   "outputs": [
    {
     "ename": "IndexError",
     "evalue": "list index out of range",
     "output_type": "error",
     "traceback": [
      "\u001b[0;31m---------------------------------------------------------------------------\u001b[0m",
      "\u001b[0;31mIndexError\u001b[0m                                Traceback (most recent call last)",
      "\u001b[0;32m/tmp/ipykernel_119785/1671681820.py\u001b[0m in \u001b[0;36m<module>\u001b[0;34m\u001b[0m\n\u001b[0;32m----> 1\u001b[0;31m \u001b[0mnetwork\u001b[0m\u001b[0;34m.\u001b[0m\u001b[0mswitch_areas\u001b[0m\u001b[0;34m[\u001b[0m\u001b[0;36m8\u001b[0m\u001b[0;34m]\u001b[0m\u001b[0;34m.\u001b[0m\u001b[0mtyped_catalog\u001b[0m\u001b[0;34m[\u001b[0m\u001b[0mcim\u001b[0m\u001b[0;34m.\u001b[0m\u001b[0mTransformerTank\u001b[0m\u001b[0;34m]\u001b[0m\u001b[0;34m\u001b[0m\u001b[0;34m\u001b[0m\u001b[0m\n\u001b[0m",
      "\u001b[0;31mIndexError\u001b[0m: list index out of range"
     ]
    }
   ],
   "source": [
    "network.switch_areas[8].typed_catalog[cim.TransformerTank]"
   ]
  },
  {
   "cell_type": "code",
   "execution_count": 59,
   "id": "8487d98c",
   "metadata": {},
   "outputs": [
    {
     "data": {
      "text/plain": [
       "{'123.0': ['RatioTapChanger.reg3a',\n",
       "  'RatioTapChanger.reg3c',\n",
       "  'RatioTapChanger.reg2a',\n",
       "  'BatteryUnit.battery1'],\n",
       " '123.1': ['BatteryUnit.battery2'],\n",
       " '123.2': ['BatteryUnit.battery5'],\n",
       " '123.3': ['BatteryUnit.battery3'],\n",
       " '123.4': [],\n",
       " '123.5': [],\n",
       " '123.6': [],\n",
       " '123.7': ['RatioTapChanger.reg4a',\n",
       "  'RatioTapChanger.reg4c',\n",
       "  'RatioTapChanger.reg4b',\n",
       "  'BatteryUnit.battery4']}"
      ]
     },
     "execution_count": 59,
     "metadata": {},
     "output_type": "execute_result"
    }
   ],
   "source": [
    "addressable_equip = {}\n",
    "for index in range(len(network.switch_areas)):\n",
    "    network_area = network.switch_areas[index-1]\n",
    "    addressable_equip['123.'+str(index)] = []\n",
    "    if cim.TransformerTank in network_area.typed_catalog.keys():\n",
    "        eq_type = cim.TransformerTank\n",
    "        for eq_id in list(network_area.typed_catalog[eq_type].keys()):\n",
    "            name = network_area.typed_catalog[eq_type][eq_id].name\n",
    "            addressable_equip['123.'+str(index)].append('RatioTapChanger.'+name)\n",
    "    if cim.BatteryUnit in network_area.typed_catalog.keys():\n",
    "        eq_type = cim.BatteryUnit\n",
    "        for eq_id in list(network_area.typed_catalog[eq_type].keys()):\n",
    "            name = network_area.typed_catalog[eq_type][eq_id].name\n",
    "            addressable_equip['123.'+str(index)].append('BatteryUnit.'+name)\n",
    "addressable_equip"
   ]
  },
  {
   "cell_type": "code",
   "execution_count": null,
   "id": "fa48c943",
   "metadata": {},
   "outputs": [],
   "source": [
    "node_list = []\n",
    "for node in network.switch_areas[2].typed_catalog[cim.ConnectivityNode].values():\n",
    "    node_list.append(node.name)"
   ]
  },
  {
   "cell_type": "code",
   "execution_count": null,
   "id": "481b0981",
   "metadata": {},
   "outputs": [],
   "source": [
    "node_list"
   ]
  },
  {
   "cell_type": "code",
   "execution_count": null,
   "id": "c02dfaed",
   "metadata": {},
   "outputs": [],
   "source": [
    "dist_eqip =\n",
    "\n"
   ]
  },
  {
   "cell_type": "code",
   "execution_count": null,
   "id": "bdb77d1a",
   "metadata": {},
   "outputs": [],
   "source": [
    "alt = {}\n",
    "alt['a1'] = {}\n",
    "alt['a1']['RatioTapChanger:reg1a'] =  -2\n",
    "alt['a1']['RatioTapChanger:reg2a'] =  -1\n",
    "alt['a1']['RatioTapChanger:reg3a'] =  4\n",
    "\n",
    "alt['a2'] = {}\n",
    "alt['a2']['RatioTapChanger:reg1a'] =  -1\n",
    "alt['a2']['RatioTapChanger:reg2a'] =  -1\n",
    "alt['a2']['RatioTapChanger:reg3a'] =  4\n",
    "\n",
    "alt['a3'] = {}\n",
    "alt['a3']['RatioTapChanger:reg1a'] =  -0\n",
    "alt['a3']['RatioTapChanger:reg2a'] =  -1\n",
    "alt['a3']['RatioTapChanger:reg3a'] =  4\n"
   ]
  },
  {
   "cell_type": "code",
   "execution_count": 5,
   "id": "0e75dfa9",
   "metadata": {},
   "outputs": [
    {
     "data": {
      "text/plain": [
       "''"
      ]
     },
     "execution_count": 5,
     "metadata": {},
     "output_type": "execute_result"
    }
   ],
   "source": [
    "dss.run_command('Redirect ./123Bus/Run_IEEE123Bus.dss')"
   ]
  },
  {
   "cell_type": "code",
   "execution_count": 6,
   "id": "e6d5aa64",
   "metadata": {},
   "outputs": [
    {
     "data": {
      "text/plain": [
       "''"
      ]
     },
     "execution_count": 6,
     "metadata": {},
     "output_type": "execute_result"
    }
   ],
   "source": [
    "dss.run_command('Compile ./123Bus/Run_IEEE123Bus.dss')"
   ]
  },
  {
   "cell_type": "code",
   "execution_count": 7,
   "id": "01571aff",
   "metadata": {},
   "outputs": [],
   "source": [
    "dss.Solution.Solve()\n"
   ]
  },
  {
   "cell_type": "code",
   "execution_count": 8,
   "id": "73e27a9e",
   "metadata": {},
   "outputs": [],
   "source": [
    "from dss import DSS"
   ]
  },
  {
   "cell_type": "code",
   "execution_count": 9,
   "id": "dc1bb473",
   "metadata": {},
   "outputs": [
    {
     "data": {
      "text/plain": [
       "<dss.IDSS.IDSS at 0x7f9cd2bdac00>"
      ]
     },
     "execution_count": 9,
     "metadata": {},
     "output_type": "execute_result"
    }
   ],
   "source": [
    "DSS.NewContext()"
   ]
  },
  {
   "cell_type": "code",
   "execution_count": null,
   "id": "237903d3",
   "metadata": {},
   "outputs": [],
   "source": []
  },
  {
   "cell_type": "code",
   "execution_count": null,
   "id": "5212730d",
   "metadata": {},
   "outputs": [],
   "source": []
  },
  {
   "cell_type": "code",
   "execution_count": null,
   "id": "a867e007",
   "metadata": {},
   "outputs": [],
   "source": []
  },
  {
   "cell_type": "code",
   "execution_count": 8,
   "id": "e2ca7e76",
   "metadata": {},
   "outputs": [
    {
     "name": "stdout",
     "output_type": "stream",
     "text": [
      "0.9799452732352611 1.0574482418074136\n",
      "0.0029417750000000353\n"
     ]
    }
   ],
   "source": [
    "StartTime = time.process_time()\n",
    "\n",
    "violations = False\n",
    "\n",
    "bus_volt = dss.Circuit.AllBusMagPu()\n",
    "print(min(bus_volt), max(bus_volt))\n",
    "if min(bus_volt) < 0.95:\n",
    "    violations = True\n",
    "    print(\"violations!\")\n",
    "elif max(bus_volt) > 1.10:\n",
    "    violations = True\n",
    "    print(\"violations!\")\n",
    "\n",
    "sub = dss.Circuit.TotalPower()\n",
    "sub_kva = math.sqrt((sub[0]*sub[0]) + (sub[1]*sub[1]))\n",
    "if sub_kva > 5000 or sub_kva < -5000:\n",
    "    violations = True\n",
    "    \n",
    "dss.Circuit.SetActiveClass('Transformer')\n",
    "device = dss.Circuit.FirstElement()\n",
    "while device:\n",
    "    a = dss.CktElement.CurrentsMagAng()\n",
    "    if a[0] > 668:\n",
    "        violations = True\n",
    "        \n",
    "    device = dss.Circuit.NextElement()\n",
    "print(time.process_time() - StartTime)\n",
    "    "
   ]
  },
  {
   "cell_type": "code",
   "execution_count": 12,
   "id": "10060c42",
   "metadata": {},
   "outputs": [
    {
     "name": "stdout",
     "output_type": "stream",
     "text": [
      "0.003859070999999936\n",
      "68.79678324142444\n",
      "60.286882884747556\n",
      "829.8612139198714\n"
     ]
    }
   ],
   "source": [
    "StartTime = time.process_time()\n",
    "\n",
    "c_t = 0.02817 #transmission price $/kWh\n",
    "c_r = 0.1090 #retail rate\n",
    "c_n = 0.01786 #feed-in tariff\n",
    "c_dies = 0.34 #diesel fuel cost\n",
    "c_lng = 0.25 #lng fuel cost\n",
    "\n",
    "e_t = 1.205 #grid co2 lb/kWh\n",
    "e_dies = 2.44\n",
    "e_lng = 0.97\n",
    "\n",
    "\n",
    "bus_shunt_p = {}\n",
    "total_load = 0\n",
    "total_pv = 0\n",
    "total_dg = 0\n",
    "profit = 0\n",
    "emissions = 0\n",
    "\n",
    "sub = dss.Circuit.TotalPower()\n",
    "p_sub = sub[0]\n",
    "\n",
    "loss = dss.Circuit.Losses()\n",
    "p_loss = loss[0]/1000\n",
    "\n",
    "dss.Circuit.SetActiveClass('Load')\n",
    "device = dss.Circuit.FirstElement()\n",
    "\n",
    "while device:\n",
    "    output = dss.CktElement.TotalPowers()\n",
    "    bus = dss.CktElement.BusNames()\n",
    "    bus_shunt_p[bus[0]] = output[0]\n",
    "    total_load = total_load + output[0]\n",
    "    device = dss.Circuit.NextElement()\n",
    "    \n",
    "dss.Circuit.SetActiveClass('PVSystem')\n",
    "device = dss.Circuit.FirstElement()\n",
    "while device:\n",
    "    output = dss.CktElement.TotalPowers()\n",
    "    bus = dss.CktElement.BusNames()\n",
    "    total_pv = total_pv + output[0]\n",
    "    if bus[0] in bus_shunt_p.keys():\n",
    "        bus_shunt_p[bus[0]] = bus_shunt_p[bus[0]] + output[0]\n",
    "    else:\n",
    "        bus_shunt_p[bus[0]] = output[0]\n",
    "    device = dss.Circuit.NextElement()\n",
    "    \n",
    "dss.Circuit.SetActiveClass('Generator')\n",
    "device = dss.Circuit.FirstElement()\n",
    "while device:\n",
    "    output = dss.CktElement.TotalPowers()\n",
    "    p_dg = output[0]\n",
    "    total_dg = total_dg + p_dg\n",
    "    if 'dies' in dss.CktElement.Name():\n",
    "        profit = profit + p_dg*c_dies\n",
    "        emissions = emissions - p_dg*e_dies\n",
    "    elif 'lng' in dss.CktElement.Name():\n",
    "        profit = profit + p_dg*c_lng\n",
    "        emissions = emissions - p_dg*e_lng\n",
    "    device = dss.Circuit.NextElement()\n",
    "\n",
    "emissions = emissions - p_sub*e_t\n",
    "profit = profit + p_sub*c_t\n",
    "for bus in list(bus_shunt_p.keys()):\n",
    "    p = bus_shunt_p[bus]\n",
    "    if  p > 0:\n",
    "        profit = profit + p*c_r\n",
    "    else:\n",
    "        profit = profit + p*c_n\n",
    "        \n",
    "\n",
    "    \n",
    "print(time.process_time() - StartTime)\n",
    "print(profit)\n",
    "print(p_loss)\n",
    "print(emissions)"
   ]
  },
  {
   "cell_type": "code",
   "execution_count": null,
   "id": "54696ea8",
   "metadata": {},
   "outputs": [],
   "source": [
    "dss.Circuit.SetActiveClass('Storage')\n",
    "device = dss.Circuit.FirstElement()\n",
    "total_batt = 0\n",
    "while device:\n",
    "    output = dss.CktElement.TotalPowers()\n",
    "    total_batt = total_batt + output[0]\n",
    "    device = dss.Circuit.NextElement()\n",
    "print(total_batt)"
   ]
  },
  {
   "cell_type": "code",
   "execution_count": null,
   "id": "7ad092d3",
   "metadata": {},
   "outputs": [],
   "source": [
    "max([-50, -100])"
   ]
  },
  {
   "cell_type": "code",
   "execution_count": null,
   "id": "2b507017",
   "metadata": {},
   "outputs": [],
   "source": []
  },
  {
   "cell_type": "code",
   "execution_count": null,
   "id": "155a7c00",
   "metadata": {},
   "outputs": [],
   "source": [
    "bus_volt = dss.Circuit.AllBusMagPu()\n",
    "print(min(bus_volt), max(bus_volt))\n",
    "if min(bus_volt) < 0.95:\n",
    "    print(\"violations!\")\n",
    "elif max(bus_volt) > 1.10:\n",
    "    print(\"violations!\")"
   ]
  },
  {
   "cell_type": "code",
   "execution_count": null,
   "id": "57821ada",
   "metadata": {},
   "outputs": [],
   "source": [
    "dss.Circuit.AllBusMagPu()"
   ]
  },
  {
   "cell_type": "code",
   "execution_count": null,
   "id": "b8d9f5f8",
   "metadata": {},
   "outputs": [],
   "source": [
    "dss.Transformers.AllNames()"
   ]
  },
  {
   "cell_type": "code",
   "execution_count": null,
   "id": "6dc3f8a8",
   "metadata": {},
   "outputs": [],
   "source": [
    "\n",
    "    "
   ]
  },
  {
   "cell_type": "code",
   "execution_count": null,
   "id": "e989f6ca",
   "metadata": {},
   "outputs": [],
   "source": []
  },
  {
   "cell_type": "code",
   "execution_count": null,
   "id": "355df631",
   "metadata": {},
   "outputs": [],
   "source": []
  },
  {
   "cell_type": "code",
   "execution_count": null,
   "id": "d304dbd8",
   "metadata": {},
   "outputs": [],
   "source": []
  },
  {
   "cell_type": "code",
   "execution_count": null,
   "id": "8a03ac48",
   "metadata": {},
   "outputs": [],
   "source": [
    "xfmr_id = dss.Transformers.First()\n",
    "print(dss.Transformers.NumTaps())\n",
    "print(dss.Transformers.MinTap())\n",
    "print(dss.Transformers.MaxTap())"
   ]
  },
  {
   "cell_type": "code",
   "execution_count": null,
   "id": "81ce0a17",
   "metadata": {},
   "outputs": [],
   "source": [
    "dss.Circuit.Losses()"
   ]
  },
  {
   "cell_type": "code",
   "execution_count": null,
   "id": "05d2f9d6",
   "metadata": {},
   "outputs": [],
   "source": [
    "dss.Circuit.TotalPower()"
   ]
  },
  {
   "cell_type": "code",
   "execution_count": null,
   "id": "801b2fa1",
   "metadata": {},
   "outputs": [],
   "source": [
    "dss.Capacitors.AllNames()"
   ]
  },
  {
   "cell_type": "code",
   "execution_count": null,
   "id": "0460f4a5",
   "metadata": {},
   "outputs": [],
   "source": [
    "cap_id = dss.Capacitors.First()\n",
    "cap_vals = {}\n",
    "while cap_id:\n",
    "    cap_vals[dss.Capacitors.Name()] = dss.Capacitors.States()\n",
    "    cap_id = dss.Capacitors.Next()"
   ]
  },
  {
   "cell_type": "code",
   "execution_count": null,
   "id": "a262efde",
   "metadata": {},
   "outputs": [],
   "source": [
    "dss.Capacitors."
   ]
  },
  {
   "cell_type": "code",
   "execution_count": null,
   "id": "f84bd73d",
   "metadata": {},
   "outputs": [],
   "source": [
    "StartTime = time.process_time()\n",
    "load_id = dss.Loads.First()\n",
    "load_vals = {}\n",
    "total_load = 0\n",
    "while load_id:\n",
    "    load = dss.Loads.kW()\n",
    "    load_vals[dss.Loads.Name()] = load\n",
    "    load_id = dss.Loads.Next()\n",
    "    total_load = total_load + load\n",
    "print(time.process_time() - StartTime)"
   ]
  },
  {
   "cell_type": "code",
   "execution_count": null,
   "id": "7f0e0048",
   "metadata": {},
   "outputs": [],
   "source": [
    "dss.Ckt.Name()"
   ]
  },
  {
   "cell_type": "code",
   "execution_count": null,
   "id": "6ef58f3a",
   "metadata": {},
   "outputs": [],
   "source": [
    "dss.run_command('Export Loads')"
   ]
  },
  {
   "cell_type": "code",
   "execution_count": null,
   "id": "d9d3587a",
   "metadata": {},
   "outputs": [],
   "source": [
    "dss.Circuit.SetActiveClass('Capacitor')\n",
    "device = dss.Circuit.FirstElement()\n",
    "total_load = 0\n",
    "bus_shunt_p = {}\n",
    "while device:\n",
    "    output = dss.CktElement.VoltagesMagAng()\n",
    "    print(output)\n",
    "#     bus = dss.CktElement.BusNames()\n",
    "#     bus_shunt_p[bus[0]] = output[0]\n",
    "    device = dss.Circuit.NextElement()\n",
    "# print(bus_shunt_p)"
   ]
  },
  {
   "cell_type": "code",
   "execution_count": null,
   "id": "fcd706d6",
   "metadata": {},
   "outputs": [],
   "source": [
    "dss.Circuit.SetActiveClass('Transformer')\n",
    "\n",
    "dss.CktElement.Name()"
   ]
  },
  {
   "cell_type": "code",
   "execution_count": null,
   "id": "ae10ffeb",
   "metadata": {},
   "outputs": [],
   "source": [
    "dss.Circuit.SetActiveClass('Transformer')\n",
    "device = dss.Circuit.FirstElement()\n",
    "total_load = 0\n",
    "bus_shunt_p = {}\n",
    "while device:\n",
    "    s = dss.CktElement.TotalPowers()\n",
    "    a = dss.CktElement.CurrentsMagAng()\n",
    "    print(a[0])\n",
    "    kva = math.sqrt((s[0]*s[0]) + (s[1]*s[1]))\n",
    "    print(dss.CktElement.Name())\n",
    "#     print(kva)\n",
    "#     bus = dss.CktElement.BusNames()\n",
    "#     bus_shunt_p[bus[0]] = output[0]\n",
    "    device = dss.Circuit.NextElement()\n",
    "# print(bus_shunt_p)"
   ]
  },
  {
   "cell_type": "code",
   "execution_count": null,
   "id": "8503fbd4",
   "metadata": {},
   "outputs": [],
   "source": [
    "a = dss.Circuit.SetActiveElement('PVSystem.')"
   ]
  },
  {
   "cell_type": "code",
   "execution_count": null,
   "id": "e6ddd662",
   "metadata": {},
   "outputs": [],
   "source": [
    "dss.CktElement.BusNames("
   ]
  },
  {
   "cell_type": "code",
   "execution_count": null,
   "id": "0c18f23c",
   "metadata": {},
   "outputs": [],
   "source": [
    "dss.dss_lib.ActiveClass_Get_First()"
   ]
  },
  {
   "cell_type": "code",
   "execution_count": null,
   "id": "ea1c2aa1",
   "metadata": {},
   "outputs": [],
   "source": [
    "(dss.dss_lib.Bus_Get_Next())\n",
    "ffi.string(dss.dss_lib.Bus_Get_Name())"
   ]
  },
  {
   "cell_type": "code",
   "execution_count": null,
   "id": "3d3b1a82",
   "metadata": {},
   "outputs": [],
   "source": [
    "tap = 1\n",
    "val = 1 + tap/160\n",
    "StartTime = time.process_time()\n",
    "dss.run_command('BatchEdit PVsystem..* irradiance=1')\n",
    "dss.run_command('Transformer.reg4a.Taps=[1.0 %s]'%val)\n",
    "dss.Solution.SolveNoControl()\n",
    "print(time.process_time() - StartTime)\n"
   ]
  },
  {
   "cell_type": "code",
   "execution_count": 11,
   "id": "2505868c",
   "metadata": {},
   "outputs": [],
   "source": [
    "dss.run_command(\"Storage.battery1.kW = 125.0\")\n",
    "dss.run_command(\"Storage.battery2.kW= 100\")\n",
    "dss.run_command(\"Storage.battery3.kW= 100\")\n",
    "dss.run_command(\"Storage.battery4.kW = 150\")\n",
    "dss.run_command(\"Storage.battery5.kW= -250\")\n",
    "dss.Solution.SolveNoControl()\n"
   ]
  },
  {
   "cell_type": "code",
   "execution_count": null,
   "id": "6f285766",
   "metadata": {},
   "outputs": [],
   "source": [
    "from opendssdirect.utils import Iterator\n",
    "import cffi"
   ]
  },
  {
   "cell_type": "code",
   "execution_count": null,
   "id": "1c770c57",
   "metadata": {},
   "outputs": [],
   "source": [
    "[i() for i in Iterator(dss.Bus, \"name\")]"
   ]
  },
  {
   "cell_type": "code",
   "execution_count": null,
   "id": "c947aea9",
   "metadata": {},
   "outputs": [],
   "source": [
    "from cffi import FFI\n",
    "ffi = FFI()"
   ]
  },
  {
   "cell_type": "code",
   "execution_count": null,
   "id": "8f7f0cc0",
   "metadata": {},
   "outputs": [],
   "source": [
    "a = dss.Bus.AllPCEatBus()"
   ]
  },
  {
   "cell_type": "code",
   "execution_count": null,
   "id": "d1b9c104",
   "metadata": {},
   "outputs": [],
   "source": [
    "dss.Circuit.SetActiveElement(a[0])"
   ]
  },
  {
   "cell_type": "code",
   "execution_count": null,
   "id": "a4b0b9a8",
   "metadata": {},
   "outputs": [],
   "source": [
    "sub = dss.Circuit.TotalPower()\n",
    "math.sqrt((sub[0]*sub[0]) + (sub[1]*sub[1]))"
   ]
  },
  {
   "cell_type": "code",
   "execution_count": null,
   "id": "e94d3d9a",
   "metadata": {},
   "outputs": [],
   "source": [
    "sub"
   ]
  },
  {
   "cell_type": "code",
   "execution_count": null,
   "id": "8914b425",
   "metadata": {},
   "outputs": [],
   "source": [
    "import math"
   ]
  },
  {
   "cell_type": "code",
   "execution_count": 10,
   "id": "dd54c1a8",
   "metadata": {},
   "outputs": [],
   "source": [
    "import json\n",
    "with open('resolutionResults.json', encoding='utf-8') as inputfile:\n",
    "    resolutionResult = json.load(inputfile)"
   ]
  },
  {
   "cell_type": "code",
   "execution_count": 11,
   "id": "47936684",
   "metadata": {},
   "outputs": [],
   "source": [
    "rheader = ['time','solver', 'failed', 'BatteryUnit.battery1', 'BatteryUnit.battery2', 'BatteryUnit.battery3',\n",
    "   'BatteryUnit.battery4',\n",
    "   'BatteryUnit.battery5',\n",
    "   'RatioTapChanger.reg1a',\n",
    "   'RatioTapChanger.reg2a',\n",
    "   'RatioTapChanger.reg3a',\n",
    "   'RatioTapChanger.reg3c',\n",
    "   'RatioTapChanger.reg4a',\n",
    "   'RatioTapChanger.reg4c']\n",
    "\n",
    "with open('results.csv', 'w') as csv_file:\n",
    "    r = \",\".join(rheader)\n",
    "    csv_file.write(f\"{r}\\n\")"
   ]
  },
  {
   "cell_type": "code",
   "execution_count": 12,
   "id": "d6a57ed2",
   "metadata": {},
   "outputs": [],
   "source": [
    "for time in list(resolutionResult.keys()):\n",
    "    row = ['']*14\n",
    "\n",
    "    row[0] = str(time)\n",
    "    row[1] = str(resolutionResult[time]['deconflictTime'])\n",
    "    row[2] = str(resolutionResult[time]['deconflictionFailed'])\n",
    "    for index in range(3, len(rheader)):\n",
    "        if rheader[index] in resolutionResult[time]['setpoints']:\n",
    "            row[index] = str(resolutionResult[time]['setpoints'][rheader[index]])\n",
    "    with open('results.csv', 'a') as csv_file:\n",
    "        r = \",\".join(row)\n",
    "        csv_file.write(f\"{r}\\n\")"
   ]
  },
  {
   "cell_type": "code",
   "execution_count": 13,
   "id": "91a62600",
   "metadata": {},
   "outputs": [],
   "source": [
    "with open('../conflictResults.json', encoding='utf-8') as inputfile:\n",
    "    conflictResult = json.load(inputfile)"
   ]
  },
  {
   "cell_type": "code",
   "execution_count": 14,
   "id": "b1f772c7",
   "metadata": {},
   "outputs": [],
   "source": [
    "header = ['time',\n",
    "          'BatteryUnit.battery1',\"decarbonization-app\", \"profit_cvr-app\", \"resilience-app\",\n",
    "          'BatteryUnit.battery2',\"decarbonization-app\", \"profit_cvr-app\", \"resilience-app\",\n",
    "          'BatteryUnit.battery3',\"decarbonization-app\", \"profit_cvr-app\", \"resilience-app\",\n",
    "   'BatteryUnit.battery4',\"decarbonization-app\", \"profit_cvr-app\", \"resilience-app\",\n",
    "   'BatteryUnit.battery5',\"decarbonization-app\", \"profit_cvr-app\", \"resilience-app\",\n",
    "   'RatioTapChanger.reg1a',\"decarbonization-app\", \"profit_cvr-app\", \"resilience-app\",\n",
    "   'RatioTapChanger.reg2a',\"decarbonization-app\", \"profit_cvr-app\", \"resilience-app\",\n",
    "   'RatioTapChanger.reg3a',\"decarbonization-app\", \"profit_cvr-app\", \"resilience-app\",\n",
    "   'RatioTapChanger.reg3c',\"decarbonization-app\", \"profit_cvr-app\", \"resilience-app\",\n",
    "   'RatioTapChanger.reg4a',\"decarbonization-app\", \"profit_cvr-app\", \"resilience-app\",\n",
    "   'RatioTapChanger.reg4c', \"decarbonization-app\", \"profit_cvr-app\", \"resilience-app\"]"
   ]
  },
  {
   "cell_type": "code",
   "execution_count": 15,
   "id": "c339432b",
   "metadata": {},
   "outputs": [],
   "source": [
    "with open('conflicts.csv', 'w') as csv_file:\n",
    "    r = \",\".join(header)\n",
    "    csv_file.write(f\"{r}\\n\")"
   ]
  },
  {
   "cell_type": "code",
   "execution_count": 16,
   "id": "662771a8",
   "metadata": {},
   "outputs": [],
   "source": [
    "for time in list(conflictResult.keys()):\n",
    "    row = ['']*45\n",
    "\n",
    "    row[0] = str(time)\n",
    "    for index in range(1, len(header),4):\n",
    "        if header[index] in conflictResult[time]['setpoints']:\n",
    "            row[index] = str(resolutionResult[time]['setpoints'][rheader[(round(index/4)+3)]])\n",
    "            row[index+1] = str(conflictResult[time]['setpoints'][header[index]][header[index+1]])\n",
    "            row[index+2] = str(conflictResult[time]['setpoints'][header[index]][header[index+2]])\n",
    "            row[index+3] = str(conflictResult[time]['setpoints'][header[index]][header[index+3]])\n",
    "            \n",
    "    with open('conflicts.csv', 'a') as csv_file:\n",
    "        r = \",\".join(row)\n",
    "        csv_file.write(f\"{r}\\n\")"
   ]
  },
  {
   "cell_type": "code",
   "execution_count": 17,
   "id": "302dd090",
   "metadata": {},
   "outputs": [],
   "source": [
    "cheader = ['time', 'profit', 'losses', 'emissions', 'battery charging']\n",
    "\n",
    "with open('criteriaResults.json', encoding='utf-8') as inputfile:\n",
    "    criteriaResult = json.load(inputfile)\n",
    "    \n",
    "with open('criteria.csv', 'w') as crit_file:\n",
    "    r = \",\".join(cheader)\n",
    "    crit_file.write(f\"{r}\\n\")"
   ]
  },
  {
   "cell_type": "code",
   "execution_count": 18,
   "id": "38b39899",
   "metadata": {},
   "outputs": [],
   "source": [
    "for time in list(criteriaResult):\n",
    "    row = [str(time)]\n",
    "    row.append(str(criteriaResult[str(time)]))\n",
    "    with open('criteria.csv', 'a') as csv_file:\n",
    "        r = \",\".join(row)\n",
    "        csv_file.write(f\"{r}\\n\")"
   ]
  },
  {
   "cell_type": "code",
   "execution_count": 19,
   "id": "cd30aa34",
   "metadata": {},
   "outputs": [
    {
     "data": {
      "text/plain": [
       "{'1': [135.0159597637487,\n",
       "  9.70686320826802,\n",
       "  687.981632232939,\n",
       "  -824.9999987875345],\n",
       " '2': [135.44983869179543,\n",
       "  10.255929208312782,\n",
       "  695.3327304360063,\n",
       "  -825.0005885451519],\n",
       " '3': [123.16644491718408,\n",
       "  11.394409484286687,\n",
       "  995.5144900045773,\n",
       "  -528.7199986036221],\n",
       " '4': [120.86118215639954,\n",
       "  11.872810340921404,\n",
       "  1167.1489309838475,\n",
       "  -402.42499916054317],\n",
       " '5': [126.9997883070342,\n",
       "  16.255627883288646,\n",
       "  1481.7810576085596,\n",
       "  -269.4999999456819],\n",
       " '6': [119.25476285295584,\n",
       "  14.835968087521573,\n",
       "  1364.0065016742853,\n",
       "  -269.4999701936523],\n",
       " '7': [108.69621494298353,\n",
       "  17.15876323220446,\n",
       "  1622.9546611452242,\n",
       "  -15.600070632140845],\n",
       " '8': [109.90928432703849,\n",
       "  17.567491669800084,\n",
       "  1680.4553003635694,\n",
       "  8.249999780811013],\n",
       " '9': [102.8409930663371,\n",
       "  16.208374763244265,\n",
       "  1572.6991104768415,\n",
       "  8.249568110099688],\n",
       " '10': [99.08553745547157,\n",
       "  15.434592012211116,\n",
       "  1515.6324540577423,\n",
       "  8.24999989317264],\n",
       " '11': [97.49888549425924,\n",
       "  15.348179385858243,\n",
       "  1491.6829539883647,\n",
       "  8.249598396742103],\n",
       " '12': [98.30437770167792,\n",
       "  15.361050342917316,\n",
       "  1503.8719344241501,\n",
       "  8.249999995381668],\n",
       " '13': [97.19716726618282,\n",
       "  15.511912602703626,\n",
       "  1487.6109893480204,\n",
       "  8.249999999898957],\n",
       " '14': [98.27692555529265,\n",
       "  15.354570736939637,\n",
       "  1503.4521534247988,\n",
       "  8.249999995382227],\n",
       " '15': [99.08553745547157,\n",
       "  15.434592012211116,\n",
       "  1515.6324540577423,\n",
       "  8.24999989317264],\n",
       " '16': [97.19716726618282,\n",
       "  15.511912602703626,\n",
       "  1487.6109893480204,\n",
       "  8.249999999898957],\n",
       " '17': [93.65983178223077,\n",
       "  14.712076696811243,\n",
       "  1433.5772896443534,\n",
       "  8.249999999726981],\n",
       " '18': [89.43487425447555,\n",
       "  14.978987315609837,\n",
       "  1441.5353442650537,\n",
       "  51.642839981593596],\n",
       " '19': [87.09367777472951,\n",
       "  15.12748007246103,\n",
       "  1446.6923273954726,\n",
       "  76.14723833065723],\n",
       " '20': [84.36983266420002,\n",
       "  15.920816152417402,\n",
       "  1474.3412817398641,\n",
       "  117.35687141761194],\n",
       " '21': [84.05348114746275,\n",
       "  15.45008043717764,\n",
       "  1434.6182137666385,\n",
       "  96.28562141826366],\n",
       " '22': [83.8911657218901,\n",
       "  15.535507620102766,\n",
       "  1427.7149718203332,\n",
       "  93.43939190574699],\n",
       " '23': [84.53788749320528,\n",
       "  11.776377980004353,\n",
       "  1089.923737977976,\n",
       "  -116.61243857094442],\n",
       " '24': [81.4032495558891,\n",
       "  11.788749805540522,\n",
       "  1068.9345016669895,\n",
       "  -100.78291414675321],\n",
       " '25': [77.36048841160117,\n",
       "  11.895092232007602,\n",
       "  1127.4500299102929,\n",
       "  -27.789128698144342],\n",
       " '26': [75.30168712744359,\n",
       "  11.821717398284033,\n",
       "  1116.3953397174546,\n",
       "  -15.630748858795174],\n",
       " '27': [71.90128263444971,\n",
       "  12.545163166516172,\n",
       "  1163.0767058019314,\n",
       "  43.57143542244983],\n",
       " '28': [77.35636850761644,\n",
       "  12.107025756200477,\n",
       "  1134.090670751554,\n",
       "  -23.876599999784986],\n",
       " '29': [72.40023122618842,\n",
       "  11.87980425129915,\n",
       "  1108.788965641225,\n",
       "  6.249966899924425],\n",
       " '30': [75.14401057454418,\n",
       "  12.394522851342181,\n",
       "  1148.090506338416,\n",
       "  4.7500010668494825],\n",
       " '31': [71.84599360956504,\n",
       "  12.01258978654122,\n",
       "  1103.9088704639928,\n",
       "  8.249724078593253],\n",
       " '32': [66.6257449872931,\n",
       "  11.088186730372158,\n",
       "  1015.0481774646953,\n",
       "  8.249999999400954],\n",
       " '33': [58.886806246678965,\n",
       "  11.166061959422526,\n",
       "  1004.8406396283534,\n",
       "  149.10713908175205],\n",
       " '34': [64.52408968259688,\n",
       "  9.010190916437518,\n",
       "  681.1009978070839,\n",
       "  10.610003595777371],\n",
       " '35': [63.548147656003835,\n",
       "  8.478044910188762,\n",
       "  554.948801848178,\n",
       "  72.92299541051274],\n",
       " '36': [62.84707698842676,\n",
       "  8.563940370756502,\n",
       "  463.17612926745966,\n",
       "  155.69305889697873],\n",
       " '37': [66.50354819280052,\n",
       "  8.978573258107916,\n",
       "  139.0412882497203,\n",
       "  56.28447154075344],\n",
       " '38': [64.02960363344808,\n",
       "  9.662750452710405,\n",
       "  64.0017552380327,\n",
       "  181.35970959473593],\n",
       " '39': [57.25586580724449,\n",
       "  10.528839872333297,\n",
       "  57.36333795433323,\n",
       "  383.2017004952354],\n",
       " '40': [59.39371831028446,\n",
       "  14.2906212003568,\n",
       "  -83.08129466973338,\n",
       "  411.3980578283564],\n",
       " '41': [59.327106722979245,\n",
       "  13.263095037312832,\n",
       "  -261.4647163132374,\n",
       "  448.9285719344431],\n",
       " '42': [65.8255645860505,\n",
       "  18.378407567511783,\n",
       "  -633.4843624359783,\n",
       "  284.45220319096654],\n",
       " '43': [70.04247473413663,\n",
       "  19.936733943516465,\n",
       "  -904.9757835658364,\n",
       "  212.8716566085543],\n",
       " '44': [65.0492294449164,\n",
       "  23.694041693287648,\n",
       "  -910.9688885305362,\n",
       "  379.3130810018234],\n",
       " '45': [71.0555776823338,\n",
       "  30.063280534949826,\n",
       "  -1334.474560779395,\n",
       "  176.70037048769527],\n",
       " '46': [69.01857652777421,\n",
       "  30.058439905703622,\n",
       "  -1467.8282381891793,\n",
       "  227.44789347158135],\n",
       " '47': [65.44693426645321,\n",
       "  34.74685266169973,\n",
       "  -1423.9962670586979,\n",
       "  393.84368362271954],\n",
       " '48': [69.39347131753206,\n",
       "  41.428946957874956,\n",
       "  -1788.8785479688984,\n",
       "  228.654096760519],\n",
       " '49': [63.773427260299684,\n",
       "  43.97184226712219,\n",
       "  -1802.1548081254564,\n",
       "  369.5718463965608],\n",
       " '50': [68.5974168863211,\n",
       "  51.007963372619024,\n",
       "  -2182.767955587182,\n",
       "  164.16064489024123],\n",
       " '51': [68.7301805464959,\n",
       "  60.576160290578365,\n",
       "  -2378.7162911435503,\n",
       "  113.7280334135707],\n",
       " '52': [66.80853753581684,\n",
       "  63.77741221303923,\n",
       "  -2464.1471188893647,\n",
       "  141.45393404321345],\n",
       " '53': [55.79800487227075,\n",
       "  56.23229951371765,\n",
       "  -2110.873514688106,\n",
       "  535.0336507970021],\n",
       " '54': [60.09106017608679,\n",
       "  61.050554148258925,\n",
       "  -2361.493438444622,\n",
       "  388.9183675103982],\n",
       " '55': [59.692156192068666,\n",
       "  65.52599159018075,\n",
       "  -2496.1767647242687,\n",
       "  352.4532438002542],\n",
       " '56': [68.98063100929895,\n",
       "  76.6506215325532,\n",
       "  -2857.1895786235355,\n",
       "  58.429402089273765],\n",
       " '57': [61.979678881938824,\n",
       "  65.31565166955578,\n",
       "  -2459.9956600363616,\n",
       "  404.2500693922059],\n",
       " '58': [69.56861898634583,\n",
       "  76.1887061746225,\n",
       "  -2832.8086646621578,\n",
       "  114.08677838477224],\n",
       " '59': [67.18897242003862,\n",
       "  70.02498967931147,\n",
       "  -2652.3595520494837,\n",
       "  254.2501304032661],\n",
       " '60': [83.55086029448337,\n",
       "  92.04740605228194,\n",
       "  -3182.078931978708,\n",
       "  -262.9469137650159],\n",
       " '61': [71.43869600271317,\n",
       "  65.22144839717254,\n",
       "  -2519.5191325360756,\n",
       "  268.55940124405487],\n",
       " '62': [73.32552633718963,\n",
       "  64.88681366720692,\n",
       "  -2415.773720328376,\n",
       "  285.1988337609398],\n",
       " '63': [85.62732946085202,\n",
       "  72.82058781197361,\n",
       "  -2818.635706866613,\n",
       "  -118.95274857976638],\n",
       " '64': [82.16549236447645,\n",
       "  64.2226707154599,\n",
       "  -2449.8694521706125,\n",
       "  102.88148603311728],\n",
       " '65': [85.6910883696265,\n",
       "  57.94754099028951,\n",
       "  -2337.8414371377894,\n",
       "  91.99576532857513],\n",
       " '66': [85.16981626515776,\n",
       "  56.03804114035422,\n",
       "  -2182.118004298783,\n",
       "  126.00031419996051],\n",
       " '67': [95.973099627329,\n",
       "  60.60219276296585,\n",
       "  -2361.560556558995,\n",
       "  -167.61064270217392],\n",
       " '68': [84.26520390692413,\n",
       "  40.74321056948604,\n",
       "  -1646.5117057214195,\n",
       "  307.8751046977696],\n",
       " '69': [96.98380307356209,\n",
       "  44.19833690837551,\n",
       "  -1922.0260604335137,\n",
       "  -68.71049282620439],\n",
       " '70': [97.67521358918455,\n",
       "  40.71463401084818,\n",
       "  -1780.8002553432184,\n",
       "  -82.62371421916777],\n",
       " '71': [100.07189294937444,\n",
       "  35.59800199474017,\n",
       "  -1605.9879630847454,\n",
       "  -96.66474305763742],\n",
       " '72': [95.0120655059408,\n",
       "  29.389098313164396,\n",
       "  -1144.378480426324,\n",
       "  133.0199425030168],\n",
       " '73': [94.7064253555691,\n",
       "  25.451542645768924,\n",
       "  -957.4598320299493,\n",
       "  141.662901862026],\n",
       " '74': [104.91469614294317,\n",
       "  24.918663911806657,\n",
       "  -1091.7830272607914,\n",
       "  -163.8866529232783],\n",
       " '75': [105.65224081444374,\n",
       "  20.375166410998595,\n",
       "  -843.3992385181725,\n",
       "  -146.8317269711554],\n",
       " '76': [101.00860701270538,\n",
       "  16.223394887093935,\n",
       "  -468.35570815642416,\n",
       "  -3.8930625676766795],\n",
       " '77': [97.52671295245725,\n",
       "  12.440691346887798,\n",
       "  15.074463999925237,\n",
       "  187.12850148667604],\n",
       " '78': [108.41937002359475,\n",
       "  11.754909100471087,\n",
       "  -77.14890241590504,\n",
       "  -115.24545390825097],\n",
       " '79': [107.81663676725208,\n",
       "  15.88692584376954,\n",
       "  100.62183154742364,\n",
       "  -152.46668541176214],\n",
       " '80': [107.39452524472787,\n",
       "  9.71045111160457,\n",
       "  71.40570388592863,\n",
       "  -307.23285989167243],\n",
       " '81': [111.19847328867269,\n",
       "  9.416909092446012,\n",
       "  134.2760632637099,\n",
       "  -431.94104956969454],\n",
       " '82': [109.44472277150837,\n",
       "  9.797312765432777,\n",
       "  275.4940508013309,\n",
       "  -478.5583462577494],\n",
       " '83': [110.22023722483924,\n",
       "  9.75108191714246,\n",
       "  452.533344143084,\n",
       "  -512.0377643397168],\n",
       " '84': [125.98162766255673,\n",
       "  12.834823139560385,\n",
       "  925.5860131921997,\n",
       "  -597.7529447539987],\n",
       " '85': [122.65130188321203,\n",
       "  12.518010998624213,\n",
       "  877.4494472275537,\n",
       "  -597.7523997257554],\n",
       " '86': [121.93458416103947,\n",
       "  17.299340265470672,\n",
       "  1279.8150341176522,\n",
       "  -348.35655590298734],\n",
       " '87': [118.5693160060311,\n",
       "  16.824570604368944,\n",
       "  1336.455666033707,\n",
       "  -282.15315088798224],\n",
       " '88': [118.3060056165177,\n",
       "  17.988310798360907,\n",
       "  1621.0174150943733,\n",
       "  -105.78041603272355],\n",
       " '89': [108.50976166799596,\n",
       "  17.218103547538416,\n",
       "  1655.77280832836,\n",
       "  6.249816484912782],\n",
       " '90': [113.30824349872387,\n",
       "  18.29853487414262,\n",
       "  1730.692962913855,\n",
       "  7.2499974179378235],\n",
       " '91': [108.8856252777738,\n",
       "  17.442903697374696,\n",
       "  1664.9925165409525,\n",
       "  8.24999972579813],\n",
       " '92': [109.90928432703849,\n",
       "  17.567491669800084,\n",
       "  1680.4553003635694,\n",
       "  8.249999780811013],\n",
       " '93': [112.15135184727679,\n",
       "  18.08234880148834,\n",
       "  1714.7222687480455,\n",
       "  8.249999998975564],\n",
       " '94': [110.86289648436029,\n",
       "  17.756539253211972,\n",
       "  1694.979952497536,\n",
       "  8.249998536450168],\n",
       " '95': [112.34707555658865,\n",
       "  18.121740280770236,\n",
       "  1717.7040940690615,\n",
       "  8.249999999010523],\n",
       " '96': [113.98424429089724,\n",
       "  18.087173698008993,\n",
       "  1740.4296158607162,\n",
       "  7.24999997803714]}"
      ]
     },
     "execution_count": 19,
     "metadata": {},
     "output_type": "execute_result"
    }
   ],
   "source": [
    "criteriaResult"
   ]
  },
  {
   "cell_type": "code",
   "execution_count": null,
   "id": "6a2f7cb0",
   "metadata": {},
   "outputs": [],
   "source": []
  },
  {
   "cell_type": "code",
   "execution_count": 8,
   "id": "bd77887a",
   "metadata": {},
   "outputs": [
    {
     "data": {
      "text/plain": [
       "{'setpoints': {'RatioTapChanger.reg1a': {'decarbonization-app': 7,\n",
       "   'resilience-app': 7,\n",
       "   'profit_cvr-app': -4},\n",
       "  'RatioTapChanger.reg2a': {'decarbonization-app': 0,\n",
       "   'resilience-app': -4,\n",
       "   'profit_cvr-app': 0},\n",
       "  'RatioTapChanger.reg3a': {'decarbonization-app': 1,\n",
       "   'resilience-app': 0,\n",
       "   'profit_cvr-app': 0},\n",
       "  'RatioTapChanger.reg3c': {'decarbonization-app': -5,\n",
       "   'resilience-app': -1,\n",
       "   'profit_cvr-app': -1},\n",
       "  'RatioTapChanger.reg4a': {'decarbonization-app': 2,\n",
       "   'resilience-app': -8,\n",
       "   'profit_cvr-app': -1},\n",
       "  'RatioTapChanger.reg4b': {'decarbonization-app': 1,\n",
       "   'resilience-app': -3,\n",
       "   'profit_cvr-app': -2},\n",
       "  'RatioTapChanger.reg4c': {'decarbonization-app': -3,\n",
       "   'resilience-app': -4,\n",
       "   'profit_cvr-app': -1},\n",
       "  'BatteryUnit.battery1': {'decarbonization-app': 125000.0,\n",
       "   'resilience-app': 125000.0,\n",
       "   'profit_cvr-app': 125000.0},\n",
       "  'BatteryUnit.battery2': {'decarbonization-app': 200000.0,\n",
       "   'resilience-app': 200000.0,\n",
       "   'profit_cvr-app': 200000.0},\n",
       "  'BatteryUnit.battery3': {'decarbonization-app': 100000.0,\n",
       "   'resilience-app': 100000.0,\n",
       "   'profit_cvr-app': 100000.0},\n",
       "  'BatteryUnit.battery4': {'decarbonization-app': 150000.0,\n",
       "   'resilience-app': 150000.0,\n",
       "   'profit_cvr-app': 150000.0},\n",
       "  'BatteryUnit.battery5': {'decarbonization-app': 135901.0,\n",
       "   'resilience-app': 250000.0,\n",
       "   'profit_cvr-app': 50806.425}},\n",
       " 'timestamps': {'resilience-app': 41,\n",
       "  'profit_cvr-app': 41,\n",
       "  'decarbonization-app': 41}}"
      ]
     },
     "execution_count": 8,
     "metadata": {},
     "output_type": "execute_result"
    }
   ],
   "source": [
    "{'setpoints': {'RatioTapChanger.reg1a': {'decarbonization-app': 7, 'resilience-app': 7, 'profit_cvr-app': -4}, 'RatioTapChanger.reg2a': {'decarbonization-app': 0, 'resilience-app': -4, 'profit_cvr-app': 0}, 'RatioTapChanger.reg3a': {'decarbonization-app': 1, 'resilience-app': 0, 'profit_cvr-app': 0}, 'RatioTapChanger.reg3c': {'decarbonization-app': -5, 'resilience-app': -1, 'profit_cvr-app': -1}, 'RatioTapChanger.reg4a': {'decarbonization-app': 2, 'resilience-app': -8, 'profit_cvr-app': -1}, 'RatioTapChanger.reg4b': {'decarbonization-app': 1, 'resilience-app': -3, 'profit_cvr-app': -2}, 'RatioTapChanger.reg4c': {'decarbonization-app': -3, 'resilience-app': -4, 'profit_cvr-app': -1}, 'BatteryUnit.battery1': {'decarbonization-app': 125000.0, 'resilience-app': 125000.0, 'profit_cvr-app': 125000.0}, 'BatteryUnit.battery2': {'decarbonization-app': 200000.0, 'resilience-app': 200000.0, 'profit_cvr-app': 200000.0}, 'BatteryUnit.battery3': {'decarbonization-app': 100000.0, 'resilience-app': 100000.0, 'profit_cvr-app': 100000.0}, 'BatteryUnit.battery4': {'decarbonization-app': 150000.0, 'resilience-app': 150000.0, 'profit_cvr-app': 150000.0}, 'BatteryUnit.battery5': {'decarbonization-app': 135901.0, 'resilience-app': 250000.0, 'profit_cvr-app': 50806.425}}, 'timestamps': {'resilience-app': 41, 'profit_cvr-app': 41, 'decarbonization-app': 41}}\n"
   ]
  }
 ],
 "metadata": {
  "kernelspec": {
   "display_name": "Python 3 (ipykernel)",
   "language": "python",
   "name": "python3"
  },
  "language_info": {
   "codemirror_mode": {
    "name": "ipython",
    "version": 3
   },
   "file_extension": ".py",
   "mimetype": "text/x-python",
   "name": "python",
   "nbconvert_exporter": "python",
   "pygments_lexer": "ipython3",
   "version": "3.10.6"
  }
 },
 "nbformat": 4,
 "nbformat_minor": 5
}
