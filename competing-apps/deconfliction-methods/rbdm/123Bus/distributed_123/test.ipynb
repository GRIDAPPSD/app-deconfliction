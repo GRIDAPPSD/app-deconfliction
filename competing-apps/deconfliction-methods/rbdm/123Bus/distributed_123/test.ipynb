{
 "cells": [
  {
   "cell_type": "code",
   "execution_count": null,
   "metadata": {},
   "outputs": [],
   "source": []
  },
  {
   "cell_type": "code",
   "execution_count": null,
   "metadata": {},
   "outputs": [],
   "source": []
  },
  {
   "cell_type": "code",
   "execution_count": 1,
   "metadata": {},
   "outputs": [],
   "source": [
    "import opendssdirect as dss"
   ]
  },
  {
   "cell_type": "code",
   "execution_count": 8,
   "metadata": {},
   "outputs": [],
   "source": [
    "class dss_test():\n",
    "    def __init__(self, num) -> None:\n",
    "        openDssFile = f'master_{num}.dss'\n",
    "        self.dssContext = dss.NewContext()\n",
    "        self.dssContext.run_command(\"Clear\")\n",
    "        print(openDssFile)\n",
    "        self.dssContext.run_command(f'Redirect {str(openDssFile)}')\n",
    "        self.dssContext.run_command(f'Compile {str(openDssFile)}')\n",
    "        # self.dssContext.Solution.Mode(0)\n",
    "        self.dssContext.Solution.SolveNoControl()\n",
    "\n"
   ]
  },
  {
   "cell_type": "code",
   "execution_count": 9,
   "metadata": {},
   "outputs": [
    {
     "name": "stdout",
     "output_type": "stream",
     "text": [
      "master_1.dss\n"
     ]
    }
   ],
   "source": [
    "d2 = dss_test(1)"
   ]
  },
  {
   "cell_type": "code",
   "execution_count": 10,
   "metadata": {},
   "outputs": [
    {
     "name": "stdout",
     "output_type": "stream",
     "text": [
      "master_5.dss\n"
     ]
    }
   ],
   "source": [
    "d2 = dss_test(5)"
   ]
  },
  {
   "cell_type": "code",
   "execution_count": null,
   "metadata": {},
   "outputs": [],
   "source": [
    "def _run(ctx: OpenDSSDirect, case_list, converged, results):\n",
    "    tname = threading.current_thread().name\n",
    "    while case_list:\n",
    "        fn, load_mult = case_list.pop()\n",
    "        ctx.Text.Command('clear')\n",
    "        try:\n",
    "            ctx.Text.Command(f'redirect \"{fn}\"')\n",
    "            ctx.Solution.LoadMult(load_mult)\n",
    "            # print(f'{tname}: Running \"{fn}\", circuit \"{ctx.Circuit.Name()}\", mult={load_mult}')\n",
    "            ctx.Text.Command('Solve mode=daily number=5000')\n",
    "        except Exception as ex:\n",
    "            print('ERROR:', tname, (fn, load_mult))\n",
    "            print('      ', ex.args)\n",
    "\n",
    "        # print(f'{tname}: Done \"{fn}\" (LoadMult={load_mult}), circuit \"{ctx.Circuit.Name()}\"')\n",
    "        converged[(fn, load_mult)] = ctx.Solution.Converged()\n",
    "        results[(fn, load_mult)] = ctx.Circuit.AllBusVolts()"
   ]
  }
 ],
 "metadata": {
  "kernelspec": {
   "display_name": ".venv",
   "language": "python",
   "name": "python3"
  },
  "language_info": {
   "codemirror_mode": {
    "name": "ipython",
    "version": 3
   },
   "file_extension": ".py",
   "mimetype": "text/x-python",
   "name": "python",
   "nbconvert_exporter": "python",
   "pygments_lexer": "ipython3",
   "version": "3.10.12"
  }
 },
 "nbformat": 4,
 "nbformat_minor": 2
}
