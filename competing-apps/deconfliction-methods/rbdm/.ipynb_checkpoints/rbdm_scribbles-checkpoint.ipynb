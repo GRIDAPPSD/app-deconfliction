{
 "cells": [
  {
   "cell_type": "code",
   "execution_count": 4,
   "id": "9664de71",
   "metadata": {},
   "outputs": [],
   "source": [
    "import json\n",
    "import opendssdirect as dss\n",
    "import time\n",
    "import math\n",
    "import re"
   ]
  },
  {
   "cell_type": "code",
   "execution_count": 2,
   "id": "ca7e2a16",
   "metadata": {},
   "outputs": [
    {
     "data": {
      "text/plain": [
       "{'123.1': {'RatioTapChanger.reg4a': {'decarbonization-app': 3,\n",
       "   'profit_cvr-app': 0,\n",
       "   'resilience-app': 3},\n",
       "  'RatioTapChanger.reg4b': {'decarbonization-app': 3,\n",
       "   'profit_cvr-app': 0,\n",
       "   'resilience-app': 5},\n",
       "  'RatioTapChanger.reg4c': {'decarbonization-app': -9,\n",
       "   'profit_cvr-app': 4,\n",
       "   'resilience-app': -1},\n",
       "  'BatteryUnit.battery4': {'decarbonization-app': -150000.0,\n",
       "   'profit_cvr-app': -150000.0,\n",
       "   'resilience-app': 150000.0}},\n",
       " '123.2': {'BatteryUnit.battery5': {'decarbonization-app': -250000.0,\n",
       "   'profit_cvr-app': -221526.5,\n",
       "   'resilience-app': 250000.0}},\n",
       " '123.3': {'BatteryUnit.battery3': {'decarbonization-app': -100000.0,\n",
       "   'profit_cvr-app': -100000.0,\n",
       "   'resilience-app': 100000.0}},\n",
       " '123.4': {'RatioTapChanger.reg1a': {'decarbonization-app': 6,\n",
       "   'profit_cvr-app': -5,\n",
       "   'resilience-app': 0},\n",
       "  'RatioTapChanger.reg2a': {'decarbonization-app': -12,\n",
       "   'profit_cvr-app': -1,\n",
       "   'resilience-app': 2},\n",
       "  'RatioTapChanger.reg3a': {'decarbonization-app': -12,\n",
       "   'profit_cvr-app': 1,\n",
       "   'resilience-app': 6},\n",
       "  'RatioTapChanger.reg3c': {'decarbonization-app': -10,\n",
       "   'profit_cvr-app': 6,\n",
       "   'resilience-app': -5},\n",
       "  'BatteryUnit.battery1': {'decarbonization-app': -125000.0,\n",
       "   'profit_cvr-app': -62176.602,\n",
       "   'resilience-app': 125000.0}}}"
      ]
     },
     "execution_count": 2,
     "metadata": {},
     "output_type": "execute_result"
    }
   ],
   "source": [
    "#open conflict matrix\n",
    "fcm = open(\"ConflictMatrix.json\", \"r\")\n",
    "ConflictMatrix = json.loads(fcm.read())\n",
    "\n",
    "#open dist_equip_map\n",
    "fcm = open(\"AddressableEquipment.json\", \"r\")\n",
    "AddressableEquipment = json.loads(fcm.read())\n",
    "\n",
    "DistributedConflictMatrix = {}\n",
    "for area_id in list(AddressableEquipment.keys()):\n",
    "    DistributedConflictMatrix[area_id] = {}\n",
    "    for eq_id in AddressableEquipment[area_id]:\n",
    "        DistributedConflictMatrix[area_id][eq_id] = ConflictMatrix['setpoints'][eq_id]\n",
    "        \n",
    "DistributedConflictMatrix"
   ]
  },
  {
   "cell_type": "code",
   "execution_count": 3,
   "id": "540cb8c9",
   "metadata": {},
   "outputs": [
    {
     "ename": "NameError",
     "evalue": "name 'self' is not defined",
     "output_type": "error",
     "traceback": [
      "\u001b[0;31m---------------------------------------------------------------------------\u001b[0m",
      "\u001b[0;31mNameError\u001b[0m                                 Traceback (most recent call last)",
      "\u001b[0;32m/tmp/ipykernel_1665716/752467188.py\u001b[0m in \u001b[0;36m<module>\u001b[0;34m\u001b[0m\n\u001b[1;32m      5\u001b[0m \u001b[0;34m\u001b[0m\u001b[0m\n\u001b[1;32m      6\u001b[0m \u001b[0mxfmr_id\u001b[0m \u001b[0;34m=\u001b[0m \u001b[0mdss\u001b[0m\u001b[0;34m.\u001b[0m\u001b[0mTransformers\u001b[0m\u001b[0;34m.\u001b[0m\u001b[0mFirst\u001b[0m\u001b[0;34m(\u001b[0m\u001b[0;34m)\u001b[0m\u001b[0;34m\u001b[0m\u001b[0;34m\u001b[0m\u001b[0m\n\u001b[0;32m----> 7\u001b[0;31m \u001b[0mself\u001b[0m\u001b[0;34m.\u001b[0m\u001b[0mtap_vals\u001b[0m \u001b[0;34m=\u001b[0m \u001b[0;34m{\u001b[0m\u001b[0;34m}\u001b[0m\u001b[0;34m\u001b[0m\u001b[0;34m\u001b[0m\u001b[0m\n\u001b[0m\u001b[1;32m      8\u001b[0m \u001b[0;32mwhile\u001b[0m \u001b[0mxfmr_id\u001b[0m\u001b[0;34m:\u001b[0m\u001b[0;34m\u001b[0m\u001b[0;34m\u001b[0m\u001b[0m\n\u001b[1;32m      9\u001b[0m     \u001b[0mtap_vals\u001b[0m\u001b[0;34m[\u001b[0m\u001b[0mdss\u001b[0m\u001b[0;34m.\u001b[0m\u001b[0mTransformers\u001b[0m\u001b[0;34m.\u001b[0m\u001b[0mName\u001b[0m\u001b[0;34m(\u001b[0m\u001b[0;34m)\u001b[0m\u001b[0;34m]\u001b[0m \u001b[0;34m=\u001b[0m \u001b[0mround\u001b[0m\u001b[0;34m(\u001b[0m\u001b[0;34m(\u001b[0m\u001b[0mdss\u001b[0m\u001b[0;34m.\u001b[0m\u001b[0mTransformers\u001b[0m\u001b[0;34m.\u001b[0m\u001b[0mTap\u001b[0m\u001b[0;34m(\u001b[0m\u001b[0;34m)\u001b[0m\u001b[0;34m-\u001b[0m\u001b[0;36m1\u001b[0m\u001b[0;34m)\u001b[0m\u001b[0;34m*\u001b[0m\u001b[0;36m160\u001b[0m\u001b[0;34m)\u001b[0m\u001b[0;34m\u001b[0m\u001b[0;34m\u001b[0m\u001b[0m\n",
      "\u001b[0;31mNameError\u001b[0m: name 'self' is not defined"
     ]
    }
   ],
   "source": [
    "# This should be part of init\n",
    "dss.run_command('Redirect ./123Bus/Run_IEEE123Bus.dss')\n",
    "dss.run_command('Compile ./123Bus/Run_IEEE123Bus.dss')\n",
    "dss.Solution.Solve()\n",
    "\n",
    "xfmr_id = dss.Transformers.First()\n",
    "self.tap_vals = {}\n",
    "while xfmr_id:\n",
    "    tap_vals[dss.Transformers.Name()] = round((dss.Transformers.Tap()-1)*160)\n",
    "    xfmr_id = dss.Transformers.Next()\n",
    "\n"
   ]
  },
  {
   "cell_type": "code",
   "execution_count": 4,
   "id": "2002345e",
   "metadata": {},
   "outputs": [
    {
     "ename": "NameError",
     "evalue": "name 'self' is not defined",
     "output_type": "error",
     "traceback": [
      "\u001b[0;31m---------------------------------------------------------------------------\u001b[0m",
      "\u001b[0;31mNameError\u001b[0m                                 Traceback (most recent call last)",
      "\u001b[0;32m/tmp/ipykernel_1665716/4001155189.py\u001b[0m in \u001b[0;36m<module>\u001b[0;34m\u001b[0m\n\u001b[1;32m      6\u001b[0m         \u001b[0meq_name\u001b[0m \u001b[0;34m=\u001b[0m \u001b[0meq_str\u001b[0m\u001b[0;34m.\u001b[0m\u001b[0mgroup\u001b[0m\u001b[0;34m(\u001b[0m\u001b[0;36m1\u001b[0m\u001b[0;34m)\u001b[0m\u001b[0;34m\u001b[0m\u001b[0;34m\u001b[0m\u001b[0m\n\u001b[1;32m      7\u001b[0m \u001b[0;34m\u001b[0m\u001b[0m\n\u001b[0;32m----> 8\u001b[0;31m         \u001b[0mmax_budget_tap\u001b[0m \u001b[0;34m=\u001b[0m \u001b[0mself\u001b[0m\u001b[0;34m.\u001b[0m\u001b[0mtap_vals\u001b[0m\u001b[0;34m[\u001b[0m\u001b[0meq_name\u001b[0m\u001b[0;34m]\u001b[0m \u001b[0;34m+\u001b[0m \u001b[0;36m2\u001b[0m\u001b[0;34m\u001b[0m\u001b[0;34m\u001b[0m\u001b[0m\n\u001b[0m\u001b[1;32m      9\u001b[0m         \u001b[0mmin_budget_tap\u001b[0m \u001b[0;34m=\u001b[0m \u001b[0mself\u001b[0m\u001b[0;34m.\u001b[0m\u001b[0mtap_vals\u001b[0m\u001b[0;34m[\u001b[0m\u001b[0meq_name\u001b[0m\u001b[0;34m]\u001b[0m \u001b[0;34m-\u001b[0m \u001b[0;36m2\u001b[0m\u001b[0;34m\u001b[0m\u001b[0;34m\u001b[0m\u001b[0m\n\u001b[1;32m     10\u001b[0m         \u001b[0mprint\u001b[0m\u001b[0;34m(\u001b[0m\u001b[0meq_name\u001b[0m\u001b[0;34m,\u001b[0m \u001b[0mmax_budget_tap\u001b[0m\u001b[0;34m,\u001b[0m \u001b[0mmin_budget_tap\u001b[0m\u001b[0;34m)\u001b[0m\u001b[0;34m\u001b[0m\u001b[0;34m\u001b[0m\u001b[0m\n",
      "\u001b[0;31mNameError\u001b[0m: name 'self' is not defined"
     ]
    }
   ],
   "source": [
    "# this should be used to eliminate alternatives\n",
    "\n",
    "for setpoint in list(ConflictMatrix[\"setpoints\"].keys()):\n",
    "    if \"Tap\" in setpoint:\n",
    "        eq_str = re.match(r'RatioTapChanger\\.(.*)', setpoint)\n",
    "        eq_name = eq_str.group(1)\n",
    "        \n",
    "        max_budget_tap = self.tap_vals[eq_name] + 2\n",
    "        min_budget_tap = self.tap_vals[eq_name] - 2\n",
    "        print(eq_name, max_budget_tap, min_budget_tap)   \n",
    "        \n",
    "# After resolution, we update self.tap_vals with final value"
   ]
  },
  {
   "cell_type": "code",
   "execution_count": 4,
   "id": "d949ae2d",
   "metadata": {},
   "outputs": [],
   "source": [
    "feeder_mrid = \"_E3D03A27-B988-4D79-BFAB-F9D37FB289F7\" #123 deconf\n",
    "# feeder_mrid = \"_C1C3E687-6FFD-C753-582B-632A27E28507\"  # 123 bus\n",
    "# feeder_mrid = \"_49AD8E07-3BF9-A4E2-CB8F-C3722F837B62\"  # 13 bus\n",
    "# feeder_mrid = \"_5B816B93-7A5F-B64C-8460-47C17D6E4B0F\" # 13 bus asets\n",
    "#feeder_mrid = \"_4F76A5F9-271D-9EB8-5E31-AA362D86F2C3\"  # 8500 node\n",
    "#feeder_mrid = \"_67AB291F-DCCD-31B7-B499-338206B9828F\" # J1\n",
    "#feeder_mrid = \"_9CE150A8-8CC5-A0F9-B67E-BBD8C79D3095\"  # R2 12.47 3\n",
    "#feeder_mrid = \"_EE71F6C9-56F0-4167-A14E-7F4C71F10EAA\" #9500 node"
   ]
  },
  {
   "cell_type": "code",
   "execution_count": 10,
   "id": "ecef4378",
   "metadata": {},
   "outputs": [],
   "source": [
    "import importlib\n",
    "cim_profile = 'rc4_2021'\n",
    "cim = importlib.import_module('cimgraph.data_profile.' + cim_profile)\n",
    "sparql = importlib.import_module('cimgraph.loaders.sparql.' + cim_profile)\n",
    "\n",
    "from cimgraph.loaders import Parameter, ConnectionParameters\n",
    "from cimgraph.loaders.blazegraph.blazegraph import BlazegraphConnection\n",
    "from cimgraph.loaders.gridappsd import GridappsdConnection, get_topology_response\n",
    "from cimgraph.models import DistributedModel\n",
    "\n",
    "# Blazegraph connection for running outside the container\n",
    "params = ConnectionParameters([Parameter(key=\"url\", value=\"http://localhost:8889/bigdata/namespace/kb/sparql\")])\n",
    "bg = BlazegraphConnection(params, 'rc4_2021')\n",
    "topology_response = get_topology_response(feeder_mrid)"
   ]
  },
  {
   "cell_type": "code",
   "execution_count": 9,
   "id": "96d2e87b",
   "metadata": {},
   "outputs": [],
   "source": [
    "import os\n",
    "from gridappsd import GridAPPSD\n",
    "os.environ['GRIDAPPSD_APPLICATION_ID'] = 'gridappsd-topology-processor'\n",
    "os.environ['GRIDAPPSD_APPLICATION_STATUS'] = 'STARTED'\n",
    "os.environ['GRIDAPPSD_USER'] = 'app_user'\n",
    "os.environ['GRIDAPPSD_PASSWORD'] = '1234App'\n",
    "gapps = GridAPPSD()\n",
    "assert gapps.connected\n",
    "\n",
    "topic = \"goss.gridappsd.request.data.topology\"\n",
    "\n",
    "message = {\n",
    "   \"requestType\": \"GET_SWITCH_AREAS\",\n",
    "   \"modelID\":  feeder_mrid,\n",
    "   \"resultFormat\": \"JSON\"\n",
    "}\n",
    "\n",
    "dist_api_message = gapps.get_response(topic, message, timeout=60)"
   ]
  },
  {
   "cell_type": "code",
   "execution_count": 11,
   "id": "9c1f419c",
   "metadata": {},
   "outputs": [],
   "source": [
    "feeder = cim.Feeder(mRID=feeder_mrid)\n",
    "network = DistributedModel(connection=bg, feeder=feeder, topology=topology_response['feeders'])"
   ]
  },
  {
   "cell_type": "code",
   "execution_count": 40,
   "id": "f8eb91ca",
   "metadata": {},
   "outputs": [
    {
     "name": "stdout",
     "output_type": "stream",
     "text": [
      "BatteryUnit\n",
      "battery3\n",
      "PowerElectronicsConnection\n",
      "dg_48\n",
      "battery3\n",
      "dg_42\n",
      "PhotovoltaicUnit\n",
      "dg_48\n",
      "dg_42\n",
      "EnergyConsumer\n",
      "s65c\n",
      "s63a\n",
      "s62c\n",
      "s59b\n",
      "s56b\n",
      "s53a\n",
      "s52a\n",
      "s65b\n",
      "s60a\n",
      "s65a\n",
      "s66c\n",
      "s58b\n",
      "s64b\n",
      "s55a\n",
      "Analog\n",
      "ACLineSegment_l116_Voltage\n",
      "LoadBreakSwitch_sw2_Voltage\n",
      "LoadBreakSwitch_sw2_Voltage\n",
      "LoadBreakSwitch_sw6_Voltage\n",
      "LoadBreakSwitch_sw2_Voltage\n",
      "LoadBreakSwitch_sw4_Voltage\n",
      "LoadBreakSwitch_sw4_Voltage\n",
      "LoadBreakSwitch_sw4_Voltage\n",
      "ACLineSegment_l116_Voltage\n",
      "ACLineSegment_l116_Voltage\n",
      "LoadBreakSwitch_sw6_Voltage\n",
      "ACLineSegment_l61_Voltage\n",
      "ACLineSegment_l57_Voltage\n",
      "ACLineSegment_l65_Voltage\n",
      "ACLineSegment_l55_Voltage\n",
      "ACLineSegment_l65_Voltage\n",
      "ACLineSegment_l54_Voltage\n",
      "ACLineSegment_l61_Voltage\n",
      "ACLineSegment_l63_Voltage\n",
      "ACLineSegment_l56_Voltage\n",
      "ACLineSegment_l53_Voltage\n",
      "ACLineSegment_l55_Voltage\n",
      "ACLineSegment_l62_Voltage\n",
      "ACLineSegment_l55_Voltage\n",
      "ACLineSegment_l64_Voltage\n",
      "ACLineSegment_l52_Voltage\n",
      "ACLineSegment_l63_Voltage\n",
      "ACLineSegment_l63_Voltage\n",
      "ACLineSegment_l64_Voltage\n",
      "ACLineSegment_l53_Voltage\n",
      "ACLineSegment_l62_Voltage\n",
      "ACLineSegment_l54_Voltage\n",
      "ACLineSegment_l52_Voltage\n",
      "ACLineSegment_l61_Voltage\n",
      "ACLineSegment_l56_Voltage\n",
      "ACLineSegment_l56_Voltage\n",
      "ACLineSegment_l52_Voltage\n",
      "ACLineSegment_l59_Voltage\n",
      "ACLineSegment_l53_Voltage\n",
      "ACLineSegment_l65_Voltage\n",
      "PowerElectronicsConnection_BatteryUnit_battery3\n",
      "PowerElectronicsConnection_PhotovoltaicUnit_dg_48\n",
      "PowerElectronicsConnection_PhotovoltaicUnit_dg_42\n",
      "PowerElectronicsConnection_BatteryUnit_battery3\n",
      "PowerElectronicsConnection_PhotovoltaicUnit_dg_42\n",
      "PowerElectronicsConnection_BatteryUnit_battery3\n",
      "PowerElectronicsConnection_PhotovoltaicUnit_dg_48\n",
      "LoadBreakSwitch_sw6_Current\n",
      "LoadBreakSwitch_sw4_Current\n",
      "LoadBreakSwitch_sw6_Current\n",
      "LoadBreakSwitch_sw4_Current\n",
      "LoadBreakSwitch_sw4_Current\n",
      "LoadBreakSwitch_sw6_Current\n",
      "ACLineSegment_l54_Power\n",
      "ACLineSegment_l60_Power\n",
      "ACLineSegment_l56_Power\n",
      "ACLineSegment_l52_Power\n",
      "ACLineSegment_l55_Power\n",
      "ACLineSegment_l55_Power\n",
      "ACLineSegment_l58_Power\n",
      "ACLineSegment_l52_Power\n",
      "ACLineSegment_l55_Power\n",
      "ACLineSegment_l54_Power\n",
      "ACLineSegment_l53_Power\n",
      "ACLineSegment_l52_Power\n",
      "ACLineSegment_l59_Power\n",
      "ACLineSegment_l57_Power\n",
      "ACLineSegment_l116_Power\n",
      "ACLineSegment_l58_Power\n",
      "ACLineSegment_l60_Power\n",
      "ACLineSegment_l61_Power\n",
      "ACLineSegment_l53_Power\n",
      "ACLineSegment_l61_Power\n",
      "ACLineSegment_l53_Power\n",
      "ACLineSegment_l56_Power\n",
      "ACLineSegment_l54_Power\n",
      "ACLineSegment_l116_Power\n",
      "ACLineSegment_l60_Power\n",
      "ACLineSegment_l56_Power\n",
      "ACLineSegment_l61_Power\n",
      "ACLineSegment_l58_Power\n",
      "ACLineSegment_l116_Power\n",
      "ACLineSegment_l63_Power\n",
      "ACLineSegment_l64_Power\n",
      "ACLineSegment_l64_Power\n",
      "ACLineSegment_l65_Power\n",
      "ACLineSegment_l62_Power\n",
      "ACLineSegment_l65_Power\n",
      "ACLineSegment_l64_Power\n",
      "ACLineSegment_l62_Power\n",
      "ACLineSegment_l65_Power\n",
      "ACLineSegment_l62_Power\n",
      "ACLineSegment_l63_Power\n",
      "ACLineSegment_l63_Power\n",
      "EnergyConsumer_s65c\n",
      "EnergyConsumer_s56b\n",
      "EnergyConsumer_s59b\n",
      "EnergyConsumer_s66c\n",
      "EnergyConsumer_s60a\n",
      "EnergyConsumer_s65c\n",
      "EnergyConsumer_s60a\n",
      "EnergyConsumer_s63a\n",
      "EnergyConsumer_s58b\n",
      "EnergyConsumer_s65a\n",
      "EnergyConsumer_s59b\n",
      "EnergyConsumer_s65b\n",
      "EnergyConsumer_s64b\n",
      "EnergyConsumer_s52a\n",
      "EnergyConsumer_s55a\n",
      "EnergyConsumer_s52a\n",
      "EnergyConsumer_s62c\n",
      "EnergyConsumer_s63a\n",
      "EnergyConsumer_s55a\n",
      "EnergyConsumer_s65a\n",
      "EnergyConsumer_s62c\n",
      "EnergyConsumer_s64b\n",
      "EnergyConsumer_s53a\n",
      "EnergyConsumer_s56b\n",
      "EnergyConsumer_s66c\n",
      "EnergyConsumer_s53a\n",
      "EnergyConsumer_s58b\n",
      "EnergyConsumer_s65b\n",
      "LoadBreakSwitch_sw6_Voltage\n",
      "Discrete\n",
      "LoadBreakSwitch_sw4_State\n",
      "LoadBreakSwitch_sw6_State\n",
      "LoadBreakSwitch_sw6_State\n",
      "LoadBreakSwitch_sw6_State\n",
      "LoadBreakSwitch_sw4_State\n",
      "LoadBreakSwitch_sw4_State\n",
      "ACLineSegment\n",
      "l52\n",
      "l53\n",
      "l63\n",
      "l65\n",
      "l55\n",
      "l58\n",
      "l56\n",
      "l64\n",
      "l62\n",
      "l59\n",
      "l57\n",
      "l61\n",
      "l54\n",
      "l116\n",
      "l60\n",
      "ConnectivityNode\n",
      "65\n",
      "152\n",
      "62\n",
      "55\n",
      "63\n",
      "58\n",
      "66\n",
      "60\n",
      "57\n",
      "52\n",
      "61\n",
      "54\n",
      "53\n",
      "64\n",
      "59\n",
      "56\n"
     ]
    }
   ],
   "source": [
    "network_area = network.switch_areas[2]\n",
    "for eq_type in list(network_area.typed_catalog.keys()):\n",
    "    print(eq_type.__name__)\n",
    "    for eq_id in list(network_area.typed_catalog[eq_type].keys()):\n",
    "        name = network_area.typed_catalog[eq_type][eq_id].name\n",
    "        print(name)"
   ]
  },
  {
   "cell_type": "code",
   "execution_count": 50,
   "id": "bc888e31",
   "metadata": {},
   "outputs": [
    {
     "ename": "IndexError",
     "evalue": "list index out of range",
     "output_type": "error",
     "traceback": [
      "\u001b[0;31m---------------------------------------------------------------------------\u001b[0m",
      "\u001b[0;31mIndexError\u001b[0m                                Traceback (most recent call last)",
      "\u001b[0;32m/tmp/ipykernel_119785/1671681820.py\u001b[0m in \u001b[0;36m<module>\u001b[0;34m\u001b[0m\n\u001b[0;32m----> 1\u001b[0;31m \u001b[0mnetwork\u001b[0m\u001b[0;34m.\u001b[0m\u001b[0mswitch_areas\u001b[0m\u001b[0;34m[\u001b[0m\u001b[0;36m8\u001b[0m\u001b[0;34m]\u001b[0m\u001b[0;34m.\u001b[0m\u001b[0mtyped_catalog\u001b[0m\u001b[0;34m[\u001b[0m\u001b[0mcim\u001b[0m\u001b[0;34m.\u001b[0m\u001b[0mTransformerTank\u001b[0m\u001b[0;34m]\u001b[0m\u001b[0;34m\u001b[0m\u001b[0;34m\u001b[0m\u001b[0m\n\u001b[0m",
      "\u001b[0;31mIndexError\u001b[0m: list index out of range"
     ]
    }
   ],
   "source": [
    "network.switch_areas[8].typed_catalog[cim.TransformerTank]"
   ]
  },
  {
   "cell_type": "code",
   "execution_count": 59,
   "id": "8487d98c",
   "metadata": {},
   "outputs": [
    {
     "data": {
      "text/plain": [
       "{'123.0': ['RatioTapChanger.reg3a',\n",
       "  'RatioTapChanger.reg3c',\n",
       "  'RatioTapChanger.reg2a',\n",
       "  'BatteryUnit.battery1'],\n",
       " '123.1': ['BatteryUnit.battery2'],\n",
       " '123.2': ['BatteryUnit.battery5'],\n",
       " '123.3': ['BatteryUnit.battery3'],\n",
       " '123.4': [],\n",
       " '123.5': [],\n",
       " '123.6': [],\n",
       " '123.7': ['RatioTapChanger.reg4a',\n",
       "  'RatioTapChanger.reg4c',\n",
       "  'RatioTapChanger.reg4b',\n",
       "  'BatteryUnit.battery4']}"
      ]
     },
     "execution_count": 59,
     "metadata": {},
     "output_type": "execute_result"
    }
   ],
   "source": [
    "addressable_equip = {}\n",
    "for index in range(len(network.switch_areas)):\n",
    "    network_area = network.switch_areas[index-1]\n",
    "    addressable_equip['123.'+str(index)] = []\n",
    "    if cim.TransformerTank in network_area.typed_catalog.keys():\n",
    "        eq_type = cim.TransformerTank\n",
    "        for eq_id in list(network_area.typed_catalog[eq_type].keys()):\n",
    "            name = network_area.typed_catalog[eq_type][eq_id].name\n",
    "            addressable_equip['123.'+str(index)].append('RatioTapChanger.'+name)\n",
    "    if cim.BatteryUnit in network_area.typed_catalog.keys():\n",
    "        eq_type = cim.BatteryUnit\n",
    "        for eq_id in list(network_area.typed_catalog[eq_type].keys()):\n",
    "            name = network_area.typed_catalog[eq_type][eq_id].name\n",
    "            addressable_equip['123.'+str(index)].append('BatteryUnit.'+name)\n",
    "addressable_equip"
   ]
  },
  {
   "cell_type": "code",
   "execution_count": null,
   "id": "fa48c943",
   "metadata": {},
   "outputs": [],
   "source": [
    "node_list = []\n",
    "for node in network.switch_areas[2].typed_catalog[cim.ConnectivityNode].values():\n",
    "    node_list.append(node.name)"
   ]
  },
  {
   "cell_type": "code",
   "execution_count": null,
   "id": "481b0981",
   "metadata": {},
   "outputs": [],
   "source": [
    "node_list"
   ]
  },
  {
   "cell_type": "code",
   "execution_count": null,
   "id": "c02dfaed",
   "metadata": {},
   "outputs": [],
   "source": [
    "dist_eqip =\n",
    "\n"
   ]
  },
  {
   "cell_type": "code",
   "execution_count": null,
   "id": "bdb77d1a",
   "metadata": {},
   "outputs": [],
   "source": [
    "alt = {}\n",
    "alt['a1'] = {}\n",
    "alt['a1']['RatioTapChanger:reg1a'] =  -2\n",
    "alt['a1']['RatioTapChanger:reg2a'] =  -1\n",
    "alt['a1']['RatioTapChanger:reg3a'] =  4\n",
    "\n",
    "alt['a2'] = {}\n",
    "alt['a2']['RatioTapChanger:reg1a'] =  -1\n",
    "alt['a2']['RatioTapChanger:reg2a'] =  -1\n",
    "alt['a2']['RatioTapChanger:reg3a'] =  4\n",
    "\n",
    "alt['a3'] = {}\n",
    "alt['a3']['RatioTapChanger:reg1a'] =  -0\n",
    "alt['a3']['RatioTapChanger:reg2a'] =  -1\n",
    "alt['a3']['RatioTapChanger:reg3a'] =  4\n"
   ]
  },
  {
   "cell_type": "code",
   "execution_count": 5,
   "id": "0e75dfa9",
   "metadata": {},
   "outputs": [
    {
     "data": {
      "text/plain": [
       "''"
      ]
     },
     "execution_count": 5,
     "metadata": {},
     "output_type": "execute_result"
    }
   ],
   "source": [
    "dss.run_command('Redirect ./123Bus/Run_IEEE123Bus.dss')"
   ]
  },
  {
   "cell_type": "code",
   "execution_count": 6,
   "id": "e6d5aa64",
   "metadata": {},
   "outputs": [
    {
     "data": {
      "text/plain": [
       "''"
      ]
     },
     "execution_count": 6,
     "metadata": {},
     "output_type": "execute_result"
    }
   ],
   "source": [
    "dss.run_command('Compile ./123Bus/Run_IEEE123Bus.dss')"
   ]
  },
  {
   "cell_type": "code",
   "execution_count": 7,
   "id": "01571aff",
   "metadata": {},
   "outputs": [],
   "source": [
    "dss.Solution.Solve()\n"
   ]
  },
  {
   "cell_type": "code",
   "execution_count": 8,
   "id": "73e27a9e",
   "metadata": {},
   "outputs": [],
   "source": [
    "from dss import DSS"
   ]
  },
  {
   "cell_type": "code",
   "execution_count": 9,
   "id": "dc1bb473",
   "metadata": {},
   "outputs": [
    {
     "data": {
      "text/plain": [
       "<dss.IDSS.IDSS at 0x7f9cd2bdac00>"
      ]
     },
     "execution_count": 9,
     "metadata": {},
     "output_type": "execute_result"
    }
   ],
   "source": [
    "DSS.NewContext()"
   ]
  },
  {
   "cell_type": "code",
   "execution_count": null,
   "id": "237903d3",
   "metadata": {},
   "outputs": [],
   "source": []
  },
  {
   "cell_type": "code",
   "execution_count": null,
   "id": "5212730d",
   "metadata": {},
   "outputs": [],
   "source": []
  },
  {
   "cell_type": "code",
   "execution_count": null,
   "id": "a867e007",
   "metadata": {},
   "outputs": [],
   "source": []
  },
  {
   "cell_type": "code",
   "execution_count": 8,
   "id": "e2ca7e76",
   "metadata": {},
   "outputs": [
    {
     "name": "stdout",
     "output_type": "stream",
     "text": [
      "0.9799452732352611 1.0574482418074136\n",
      "0.0029417750000000353\n"
     ]
    }
   ],
   "source": [
    "StartTime = time.process_time()\n",
    "\n",
    "violations = False\n",
    "\n",
    "bus_volt = dss.Circuit.AllBusMagPu()\n",
    "print(min(bus_volt), max(bus_volt))\n",
    "if min(bus_volt) < 0.95:\n",
    "    violations = True\n",
    "    print(\"violations!\")\n",
    "elif max(bus_volt) > 1.10:\n",
    "    violations = True\n",
    "    print(\"violations!\")\n",
    "\n",
    "sub = dss.Circuit.TotalPower()\n",
    "sub_kva = math.sqrt((sub[0]*sub[0]) + (sub[1]*sub[1]))\n",
    "if sub_kva > 5000 or sub_kva < -5000:\n",
    "    violations = True\n",
    "    \n",
    "dss.Circuit.SetActiveClass('Transformer')\n",
    "device = dss.Circuit.FirstElement()\n",
    "while device:\n",
    "    a = dss.CktElement.CurrentsMagAng()\n",
    "    if a[0] > 668:\n",
    "        violations = True\n",
    "        \n",
    "    device = dss.Circuit.NextElement()\n",
    "print(time.process_time() - StartTime)\n",
    "    "
   ]
  },
  {
   "cell_type": "code",
   "execution_count": 9,
   "id": "10060c42",
   "metadata": {},
   "outputs": [
    {
     "name": "stdout",
     "output_type": "stream",
     "text": [
      "0.004366355000000155\n",
      "38.21347104306829\n",
      "48.600097801201144\n",
      "2012.4441098550458\n"
     ]
    }
   ],
   "source": [
    "StartTime = time.process_time()\n",
    "\n",
    "c_t = 0.02817 #transmission price $/kWh\n",
    "c_r = 0.1090 #retail rate\n",
    "c_n = 0.01786 #feed-in tariff\n",
    "c_dies = 0.34 #diesel fuel cost\n",
    "c_lng = 0.25 #lng fuel cost\n",
    "\n",
    "e_t = 1.205 #grid co2 lb/kWh\n",
    "e_dies = 2.44\n",
    "e_lng = 0.97\n",
    "\n",
    "\n",
    "bus_shunt_p = {}\n",
    "total_load = 0\n",
    "total_pv = 0\n",
    "total_dg = 0\n",
    "profit = 0\n",
    "emissions = 0\n",
    "\n",
    "sub = dss.Circuit.TotalPower()\n",
    "p_sub = sub[0]\n",
    "\n",
    "loss = dss.Circuit.Losses()\n",
    "p_loss = loss[0]/1000\n",
    "\n",
    "dss.Circuit.SetActiveClass('Load')\n",
    "device = dss.Circuit.FirstElement()\n",
    "\n",
    "while device:\n",
    "    output = dss.CktElement.TotalPowers()\n",
    "    bus = dss.CktElement.BusNames()\n",
    "    bus_shunt_p[bus[0]] = output[0]\n",
    "    total_load = total_load + output[0]\n",
    "    device = dss.Circuit.NextElement()\n",
    "    \n",
    "dss.Circuit.SetActiveClass('PVSystem')\n",
    "device = dss.Circuit.FirstElement()\n",
    "while device:\n",
    "    output = dss.CktElement.TotalPowers()\n",
    "    bus = dss.CktElement.BusNames()\n",
    "    total_pv = total_pv + output[0]\n",
    "    if bus[0] in bus_shunt_p.keys():\n",
    "        bus_shunt_p[bus[0]] = bus_shunt_p[bus[0]] + output[0]\n",
    "    else:\n",
    "        bus_shunt_p[bus[0]] = output[0]\n",
    "    device = dss.Circuit.NextElement()\n",
    "    \n",
    "dss.Circuit.SetActiveClass('Generator')\n",
    "device = dss.Circuit.FirstElement()\n",
    "while device:\n",
    "    output = dss.CktElement.TotalPowers()\n",
    "    p_dg = output[0]\n",
    "    total_dg = total_dg + p_dg\n",
    "    if 'dies' in dss.CktElement.Name():\n",
    "        profit = profit + p_dg*c_dies\n",
    "        emissions = emissions - p_dg*e_dies\n",
    "    elif 'lng' in dss.CktElement.Name():\n",
    "        profit = profit + p_dg*c_lng\n",
    "        emissions = emissions - p_dg*e_lng\n",
    "    device = dss.Circuit.NextElement()\n",
    "\n",
    "emissions = emissions - p_sub*e_t\n",
    "profit = profit + p_sub*c_t\n",
    "for bus in list(bus_shunt_p.keys()):\n",
    "    p = bus_shunt_p[bus]\n",
    "    if  p > 0:\n",
    "        profit = profit + p*c_r\n",
    "    else:\n",
    "        profit = profit + p*c_n\n",
    "        \n",
    "\n",
    "    \n",
    "print(time.process_time() - StartTime)\n",
    "print(profit)\n",
    "print(p_loss)\n",
    "print(emissions)"
   ]
  },
  {
   "cell_type": "code",
   "execution_count": null,
   "id": "54696ea8",
   "metadata": {},
   "outputs": [],
   "source": [
    "dss.Circuit.SetActiveClass('Storage')\n",
    "device = dss.Circuit.FirstElement()\n",
    "total_batt = 0\n",
    "while device:\n",
    "    output = dss.CktElement.TotalPowers()\n",
    "    total_batt = total_batt + output[0]\n",
    "    device = dss.Circuit.NextElement()\n",
    "print(total_batt)"
   ]
  },
  {
   "cell_type": "code",
   "execution_count": null,
   "id": "7ad092d3",
   "metadata": {},
   "outputs": [],
   "source": [
    "max([-50, -100])"
   ]
  },
  {
   "cell_type": "code",
   "execution_count": null,
   "id": "2b507017",
   "metadata": {},
   "outputs": [],
   "source": []
  },
  {
   "cell_type": "code",
   "execution_count": null,
   "id": "155a7c00",
   "metadata": {},
   "outputs": [],
   "source": [
    "bus_volt = dss.Circuit.AllBusMagPu()\n",
    "print(min(bus_volt), max(bus_volt))\n",
    "if min(bus_volt) < 0.95:\n",
    "    print(\"violations!\")\n",
    "elif max(bus_volt) > 1.10:\n",
    "    print(\"violations!\")"
   ]
  },
  {
   "cell_type": "code",
   "execution_count": null,
   "id": "57821ada",
   "metadata": {},
   "outputs": [],
   "source": [
    "dss.Circuit.AllBusMagPu()"
   ]
  },
  {
   "cell_type": "code",
   "execution_count": null,
   "id": "b8d9f5f8",
   "metadata": {},
   "outputs": [],
   "source": [
    "dss.Transformers.AllNames()"
   ]
  },
  {
   "cell_type": "code",
   "execution_count": null,
   "id": "6dc3f8a8",
   "metadata": {},
   "outputs": [],
   "source": [
    "\n",
    "    "
   ]
  },
  {
   "cell_type": "code",
   "execution_count": null,
   "id": "e989f6ca",
   "metadata": {},
   "outputs": [],
   "source": []
  },
  {
   "cell_type": "code",
   "execution_count": null,
   "id": "355df631",
   "metadata": {},
   "outputs": [],
   "source": []
  },
  {
   "cell_type": "code",
   "execution_count": null,
   "id": "d304dbd8",
   "metadata": {},
   "outputs": [],
   "source": []
  },
  {
   "cell_type": "code",
   "execution_count": null,
   "id": "8a03ac48",
   "metadata": {},
   "outputs": [],
   "source": [
    "xfmr_id = dss.Transformers.First()\n",
    "print(dss.Transformers.NumTaps())\n",
    "print(dss.Transformers.MinTap())\n",
    "print(dss.Transformers.MaxTap())"
   ]
  },
  {
   "cell_type": "code",
   "execution_count": null,
   "id": "81ce0a17",
   "metadata": {},
   "outputs": [],
   "source": [
    "dss.Circuit.Losses()"
   ]
  },
  {
   "cell_type": "code",
   "execution_count": null,
   "id": "05d2f9d6",
   "metadata": {},
   "outputs": [],
   "source": [
    "dss.Circuit.TotalPower()"
   ]
  },
  {
   "cell_type": "code",
   "execution_count": null,
   "id": "801b2fa1",
   "metadata": {},
   "outputs": [],
   "source": [
    "dss.Capacitors.AllNames()"
   ]
  },
  {
   "cell_type": "code",
   "execution_count": null,
   "id": "0460f4a5",
   "metadata": {},
   "outputs": [],
   "source": [
    "cap_id = dss.Capacitors.First()\n",
    "cap_vals = {}\n",
    "while cap_id:\n",
    "    cap_vals[dss.Capacitors.Name()] = dss.Capacitors.States()\n",
    "    cap_id = dss.Capacitors.Next()"
   ]
  },
  {
   "cell_type": "code",
   "execution_count": null,
   "id": "a262efde",
   "metadata": {},
   "outputs": [],
   "source": [
    "dss.Capacitors."
   ]
  },
  {
   "cell_type": "code",
   "execution_count": null,
   "id": "f84bd73d",
   "metadata": {},
   "outputs": [],
   "source": [
    "StartTime = time.process_time()\n",
    "load_id = dss.Loads.First()\n",
    "load_vals = {}\n",
    "total_load = 0\n",
    "while load_id:\n",
    "    load = dss.Loads.kW()\n",
    "    load_vals[dss.Loads.Name()] = load\n",
    "    load_id = dss.Loads.Next()\n",
    "    total_load = total_load + load\n",
    "print(time.process_time() - StartTime)"
   ]
  },
  {
   "cell_type": "code",
   "execution_count": null,
   "id": "7f0e0048",
   "metadata": {},
   "outputs": [],
   "source": [
    "dss.Ckt.Name()"
   ]
  },
  {
   "cell_type": "code",
   "execution_count": null,
   "id": "6ef58f3a",
   "metadata": {},
   "outputs": [],
   "source": [
    "dss.run_command('Export Loads')"
   ]
  },
  {
   "cell_type": "code",
   "execution_count": null,
   "id": "d9d3587a",
   "metadata": {},
   "outputs": [],
   "source": [
    "dss.Circuit.SetActiveClass('Capacitor')\n",
    "device = dss.Circuit.FirstElement()\n",
    "total_load = 0\n",
    "bus_shunt_p = {}\n",
    "while device:\n",
    "    output = dss.CktElement.VoltagesMagAng()\n",
    "    print(output)\n",
    "#     bus = dss.CktElement.BusNames()\n",
    "#     bus_shunt_p[bus[0]] = output[0]\n",
    "    device = dss.Circuit.NextElement()\n",
    "# print(bus_shunt_p)"
   ]
  },
  {
   "cell_type": "code",
   "execution_count": null,
   "id": "fcd706d6",
   "metadata": {},
   "outputs": [],
   "source": [
    "dss.Circuit.SetActiveClass('Transformer')\n",
    "\n",
    "dss.CktElement.Name()"
   ]
  },
  {
   "cell_type": "code",
   "execution_count": null,
   "id": "ae10ffeb",
   "metadata": {},
   "outputs": [],
   "source": [
    "dss.Circuit.SetActiveClass('Transformer')\n",
    "device = dss.Circuit.FirstElement()\n",
    "total_load = 0\n",
    "bus_shunt_p = {}\n",
    "while device:\n",
    "    s = dss.CktElement.TotalPowers()\n",
    "    a = dss.CktElement.CurrentsMagAng()\n",
    "    print(a[0])\n",
    "    kva = math.sqrt((s[0]*s[0]) + (s[1]*s[1]))\n",
    "    print(dss.CktElement.Name())\n",
    "#     print(kva)\n",
    "#     bus = dss.CktElement.BusNames()\n",
    "#     bus_shunt_p[bus[0]] = output[0]\n",
    "    device = dss.Circuit.NextElement()\n",
    "# print(bus_shunt_p)"
   ]
  },
  {
   "cell_type": "code",
   "execution_count": null,
   "id": "8503fbd4",
   "metadata": {},
   "outputs": [],
   "source": [
    "a = dss.Circuit.SetActiveElement('PVSystem.')"
   ]
  },
  {
   "cell_type": "code",
   "execution_count": null,
   "id": "e6ddd662",
   "metadata": {},
   "outputs": [],
   "source": [
    "dss.CktElement.BusNames("
   ]
  },
  {
   "cell_type": "code",
   "execution_count": null,
   "id": "0c18f23c",
   "metadata": {},
   "outputs": [],
   "source": [
    "dss.dss_lib.ActiveClass_Get_First()"
   ]
  },
  {
   "cell_type": "code",
   "execution_count": null,
   "id": "ea1c2aa1",
   "metadata": {},
   "outputs": [],
   "source": [
    "(dss.dss_lib.Bus_Get_Next())\n",
    "ffi.string(dss.dss_lib.Bus_Get_Name())"
   ]
  },
  {
   "cell_type": "code",
   "execution_count": null,
   "id": "3d3b1a82",
   "metadata": {},
   "outputs": [],
   "source": [
    "tap = 1\n",
    "val = 1 + tap/160\n",
    "StartTime = time.process_time()\n",
    "dss.run_command('BatchEdit PVsystem..* irradiance=1')\n",
    "dss.run_command('Transformer.reg4a.Taps=[1.0 %s]'%val)\n",
    "dss.Solution.SolveNoControl()\n",
    "print(time.process_time() - StartTime)\n"
   ]
  },
  {
   "cell_type": "code",
   "execution_count": null,
   "id": "2505868c",
   "metadata": {},
   "outputs": [],
   "source": [
    "dss.run_command(\"BatteryUnit.battery1.kW = 125.0\")\n",
    "dss.run_command(\"BatteryUnit.battery2.kW= 100\")\n",
    "dss.run_command(\"BatteryUnit.battery3.kW= 100\")\n",
    "dss.run_command(\"BatteryUnit.battery4.kW = 150\")\n",
    "dss.run_command(\"BatteryUnit.battery5.kW= -250\")\n",
    "dss.Solution.SolveNoControl()\n"
   ]
  },
  {
   "cell_type": "code",
   "execution_count": null,
   "id": "6f285766",
   "metadata": {},
   "outputs": [],
   "source": [
    "from opendssdirect.utils import Iterator\n",
    "import cffi"
   ]
  },
  {
   "cell_type": "code",
   "execution_count": null,
   "id": "1c770c57",
   "metadata": {},
   "outputs": [],
   "source": [
    "[i() for i in Iterator(dss.Bus, \"name\")]"
   ]
  },
  {
   "cell_type": "code",
   "execution_count": null,
   "id": "c947aea9",
   "metadata": {},
   "outputs": [],
   "source": [
    "from cffi import FFI\n",
    "ffi = FFI()"
   ]
  },
  {
   "cell_type": "code",
   "execution_count": null,
   "id": "8f7f0cc0",
   "metadata": {},
   "outputs": [],
   "source": [
    "a = dss.Bus.AllPCEatBus()"
   ]
  },
  {
   "cell_type": "code",
   "execution_count": null,
   "id": "d1b9c104",
   "metadata": {},
   "outputs": [],
   "source": [
    "dss.Circuit.SetActiveElement(a[0])"
   ]
  },
  {
   "cell_type": "code",
   "execution_count": null,
   "id": "a4b0b9a8",
   "metadata": {},
   "outputs": [],
   "source": [
    "sub = dss.Circuit.TotalPower()\n",
    "math.sqrt((sub[0]*sub[0]) + (sub[1]*sub[1]))"
   ]
  },
  {
   "cell_type": "code",
   "execution_count": null,
   "id": "e94d3d9a",
   "metadata": {},
   "outputs": [],
   "source": [
    "sub"
   ]
  },
  {
   "cell_type": "code",
   "execution_count": null,
   "id": "8914b425",
   "metadata": {},
   "outputs": [],
   "source": [
    "import math"
   ]
  },
  {
   "cell_type": "code",
   "execution_count": 2,
   "id": "dd54c1a8",
   "metadata": {},
   "outputs": [
    {
     "ename": "JSONDecodeError",
     "evalue": "Expecting value: line 1 column 1 (char 0)",
     "output_type": "error",
     "traceback": [
      "\u001b[0;31m---------------------------------------------------------------------------\u001b[0m",
      "\u001b[0;31mJSONDecodeError\u001b[0m                           Traceback (most recent call last)",
      "\u001b[0;32m/tmp/ipykernel_513138/2479405160.py\u001b[0m in \u001b[0;36m<module>\u001b[0;34m\u001b[0m\n\u001b[1;32m      1\u001b[0m \u001b[0;32mimport\u001b[0m \u001b[0mjson\u001b[0m\u001b[0;34m\u001b[0m\u001b[0;34m\u001b[0m\u001b[0m\n\u001b[1;32m      2\u001b[0m \u001b[0;32mwith\u001b[0m \u001b[0mopen\u001b[0m\u001b[0;34m(\u001b[0m\u001b[0;34m'resolutionResults.json'\u001b[0m\u001b[0;34m,\u001b[0m \u001b[0mencoding\u001b[0m\u001b[0;34m=\u001b[0m\u001b[0;34m'utf-8'\u001b[0m\u001b[0;34m)\u001b[0m \u001b[0;32mas\u001b[0m \u001b[0minputfile\u001b[0m\u001b[0;34m:\u001b[0m\u001b[0;34m\u001b[0m\u001b[0;34m\u001b[0m\u001b[0m\n\u001b[0;32m----> 3\u001b[0;31m     \u001b[0mresolutionResult\u001b[0m \u001b[0;34m=\u001b[0m \u001b[0mjson\u001b[0m\u001b[0;34m.\u001b[0m\u001b[0mload\u001b[0m\u001b[0;34m(\u001b[0m\u001b[0minputfile\u001b[0m\u001b[0;34m)\u001b[0m\u001b[0;34m\u001b[0m\u001b[0;34m\u001b[0m\u001b[0m\n\u001b[0m",
      "\u001b[0;32m/usr/lib/python3.10/json/__init__.py\u001b[0m in \u001b[0;36mload\u001b[0;34m(fp, cls, object_hook, parse_float, parse_int, parse_constant, object_pairs_hook, **kw)\u001b[0m\n\u001b[1;32m    291\u001b[0m     \u001b[0mkwarg\u001b[0m\u001b[0;34m;\u001b[0m \u001b[0motherwise\u001b[0m\u001b[0;31m \u001b[0m\u001b[0;31m`\u001b[0m\u001b[0;31m`\u001b[0m\u001b[0mJSONDecoder\u001b[0m\u001b[0;31m`\u001b[0m\u001b[0;31m`\u001b[0m \u001b[0;32mis\u001b[0m \u001b[0mused\u001b[0m\u001b[0;34m.\u001b[0m\u001b[0;34m\u001b[0m\u001b[0;34m\u001b[0m\u001b[0m\n\u001b[1;32m    292\u001b[0m     \"\"\"\n\u001b[0;32m--> 293\u001b[0;31m     return loads(fp.read(),\n\u001b[0m\u001b[1;32m    294\u001b[0m         \u001b[0mcls\u001b[0m\u001b[0;34m=\u001b[0m\u001b[0mcls\u001b[0m\u001b[0;34m,\u001b[0m \u001b[0mobject_hook\u001b[0m\u001b[0;34m=\u001b[0m\u001b[0mobject_hook\u001b[0m\u001b[0;34m,\u001b[0m\u001b[0;34m\u001b[0m\u001b[0;34m\u001b[0m\u001b[0m\n\u001b[1;32m    295\u001b[0m         \u001b[0mparse_float\u001b[0m\u001b[0;34m=\u001b[0m\u001b[0mparse_float\u001b[0m\u001b[0;34m,\u001b[0m \u001b[0mparse_int\u001b[0m\u001b[0;34m=\u001b[0m\u001b[0mparse_int\u001b[0m\u001b[0;34m,\u001b[0m\u001b[0;34m\u001b[0m\u001b[0;34m\u001b[0m\u001b[0m\n",
      "\u001b[0;32m/usr/lib/python3.10/json/__init__.py\u001b[0m in \u001b[0;36mloads\u001b[0;34m(s, cls, object_hook, parse_float, parse_int, parse_constant, object_pairs_hook, **kw)\u001b[0m\n\u001b[1;32m    344\u001b[0m             \u001b[0mparse_int\u001b[0m \u001b[0;32mis\u001b[0m \u001b[0;32mNone\u001b[0m \u001b[0;32mand\u001b[0m \u001b[0mparse_float\u001b[0m \u001b[0;32mis\u001b[0m \u001b[0;32mNone\u001b[0m \u001b[0;32mand\u001b[0m\u001b[0;34m\u001b[0m\u001b[0;34m\u001b[0m\u001b[0m\n\u001b[1;32m    345\u001b[0m             parse_constant is None and object_pairs_hook is None and not kw):\n\u001b[0;32m--> 346\u001b[0;31m         \u001b[0;32mreturn\u001b[0m \u001b[0m_default_decoder\u001b[0m\u001b[0;34m.\u001b[0m\u001b[0mdecode\u001b[0m\u001b[0;34m(\u001b[0m\u001b[0ms\u001b[0m\u001b[0;34m)\u001b[0m\u001b[0;34m\u001b[0m\u001b[0;34m\u001b[0m\u001b[0m\n\u001b[0m\u001b[1;32m    347\u001b[0m     \u001b[0;32mif\u001b[0m \u001b[0mcls\u001b[0m \u001b[0;32mis\u001b[0m \u001b[0;32mNone\u001b[0m\u001b[0;34m:\u001b[0m\u001b[0;34m\u001b[0m\u001b[0;34m\u001b[0m\u001b[0m\n\u001b[1;32m    348\u001b[0m         \u001b[0mcls\u001b[0m \u001b[0;34m=\u001b[0m \u001b[0mJSONDecoder\u001b[0m\u001b[0;34m\u001b[0m\u001b[0;34m\u001b[0m\u001b[0m\n",
      "\u001b[0;32m/usr/lib/python3.10/json/decoder.py\u001b[0m in \u001b[0;36mdecode\u001b[0;34m(self, s, _w)\u001b[0m\n\u001b[1;32m    335\u001b[0m \u001b[0;34m\u001b[0m\u001b[0m\n\u001b[1;32m    336\u001b[0m         \"\"\"\n\u001b[0;32m--> 337\u001b[0;31m         \u001b[0mobj\u001b[0m\u001b[0;34m,\u001b[0m \u001b[0mend\u001b[0m \u001b[0;34m=\u001b[0m \u001b[0mself\u001b[0m\u001b[0;34m.\u001b[0m\u001b[0mraw_decode\u001b[0m\u001b[0;34m(\u001b[0m\u001b[0ms\u001b[0m\u001b[0;34m,\u001b[0m \u001b[0midx\u001b[0m\u001b[0;34m=\u001b[0m\u001b[0m_w\u001b[0m\u001b[0;34m(\u001b[0m\u001b[0ms\u001b[0m\u001b[0;34m,\u001b[0m \u001b[0;36m0\u001b[0m\u001b[0;34m)\u001b[0m\u001b[0;34m.\u001b[0m\u001b[0mend\u001b[0m\u001b[0;34m(\u001b[0m\u001b[0;34m)\u001b[0m\u001b[0;34m)\u001b[0m\u001b[0;34m\u001b[0m\u001b[0;34m\u001b[0m\u001b[0m\n\u001b[0m\u001b[1;32m    338\u001b[0m         \u001b[0mend\u001b[0m \u001b[0;34m=\u001b[0m \u001b[0m_w\u001b[0m\u001b[0;34m(\u001b[0m\u001b[0ms\u001b[0m\u001b[0;34m,\u001b[0m \u001b[0mend\u001b[0m\u001b[0;34m)\u001b[0m\u001b[0;34m.\u001b[0m\u001b[0mend\u001b[0m\u001b[0;34m(\u001b[0m\u001b[0;34m)\u001b[0m\u001b[0;34m\u001b[0m\u001b[0;34m\u001b[0m\u001b[0m\n\u001b[1;32m    339\u001b[0m         \u001b[0;32mif\u001b[0m \u001b[0mend\u001b[0m \u001b[0;34m!=\u001b[0m \u001b[0mlen\u001b[0m\u001b[0;34m(\u001b[0m\u001b[0ms\u001b[0m\u001b[0;34m)\u001b[0m\u001b[0;34m:\u001b[0m\u001b[0;34m\u001b[0m\u001b[0;34m\u001b[0m\u001b[0m\n",
      "\u001b[0;32m/usr/lib/python3.10/json/decoder.py\u001b[0m in \u001b[0;36mraw_decode\u001b[0;34m(self, s, idx)\u001b[0m\n\u001b[1;32m    353\u001b[0m             \u001b[0mobj\u001b[0m\u001b[0;34m,\u001b[0m \u001b[0mend\u001b[0m \u001b[0;34m=\u001b[0m \u001b[0mself\u001b[0m\u001b[0;34m.\u001b[0m\u001b[0mscan_once\u001b[0m\u001b[0;34m(\u001b[0m\u001b[0ms\u001b[0m\u001b[0;34m,\u001b[0m \u001b[0midx\u001b[0m\u001b[0;34m)\u001b[0m\u001b[0;34m\u001b[0m\u001b[0;34m\u001b[0m\u001b[0m\n\u001b[1;32m    354\u001b[0m         \u001b[0;32mexcept\u001b[0m \u001b[0mStopIteration\u001b[0m \u001b[0;32mas\u001b[0m \u001b[0merr\u001b[0m\u001b[0;34m:\u001b[0m\u001b[0;34m\u001b[0m\u001b[0;34m\u001b[0m\u001b[0m\n\u001b[0;32m--> 355\u001b[0;31m             \u001b[0;32mraise\u001b[0m \u001b[0mJSONDecodeError\u001b[0m\u001b[0;34m(\u001b[0m\u001b[0;34m\"Expecting value\"\u001b[0m\u001b[0;34m,\u001b[0m \u001b[0ms\u001b[0m\u001b[0;34m,\u001b[0m \u001b[0merr\u001b[0m\u001b[0;34m.\u001b[0m\u001b[0mvalue\u001b[0m\u001b[0;34m)\u001b[0m \u001b[0;32mfrom\u001b[0m \u001b[0;32mNone\u001b[0m\u001b[0;34m\u001b[0m\u001b[0;34m\u001b[0m\u001b[0m\n\u001b[0m\u001b[1;32m    356\u001b[0m         \u001b[0;32mreturn\u001b[0m \u001b[0mobj\u001b[0m\u001b[0;34m,\u001b[0m \u001b[0mend\u001b[0m\u001b[0;34m\u001b[0m\u001b[0;34m\u001b[0m\u001b[0m\n",
      "\u001b[0;31mJSONDecodeError\u001b[0m: Expecting value: line 1 column 1 (char 0)"
     ]
    }
   ],
   "source": [
    "import json\n",
    "with open('resolutionResults.json', encoding='utf-8') as inputfile:\n",
    "    resolutionResult = json.load(inputfile)"
   ]
  },
  {
   "cell_type": "code",
   "execution_count": 2,
   "id": "47936684",
   "metadata": {},
   "outputs": [],
   "source": [
    "rheader = ['time','solver', 'failed', 'BatteryUnit.battery1', 'BatteryUnit.battery2', 'BatteryUnit.battery3',\n",
    "   'BatteryUnit.battery4',\n",
    "   'BatteryUnit.battery5',\n",
    "   'RatioTapChanger.reg1a',\n",
    "   'RatioTapChanger.reg2a',\n",
    "   'RatioTapChanger.reg3a',\n",
    "   'RatioTapChanger.reg3c',\n",
    "   'RatioTapChanger.reg4a',\n",
    "   'RatioTapChanger.reg4c']\n",
    "\n",
    "with open('results.csv', 'w') as csv_file:\n",
    "    r = \",\".join(rheader)\n",
    "    csv_file.write(f\"{r}\\n\")"
   ]
  },
  {
   "cell_type": "code",
   "execution_count": 3,
   "id": "d6a57ed2",
   "metadata": {},
   "outputs": [],
   "source": [
    "for time in list(resolutionResult.keys()):\n",
    "    row = ['']*14\n",
    "\n",
    "    row[0] = str(time)\n",
    "    row[1] = str(resolutionResult[time]['deconflictTime'])\n",
    "    row[2] = str(resolutionResult[time]['deconflictionFailed'])\n",
    "    for index in range(3, len(rheader)):\n",
    "        if rheader[index] in resolutionResult[time]['setpoints']:\n",
    "            row[index] = str(resolutionResult[time]['setpoints'][rheader[index]])\n",
    "    with open('results.csv', 'a') as csv_file:\n",
    "        r = \",\".join(row)\n",
    "        csv_file.write(f\"{r}\\n\")"
   ]
  },
  {
   "cell_type": "code",
   "execution_count": 3,
   "id": "91a62600",
   "metadata": {},
   "outputs": [],
   "source": [
    "with open('../conflictResults.json', encoding='utf-8') as inputfile:\n",
    "    conflictResult = json.load(inputfile)"
   ]
  },
  {
   "cell_type": "code",
   "execution_count": 4,
   "id": "b1f772c7",
   "metadata": {},
   "outputs": [],
   "source": [
    "header = ['time',\n",
    "          'BatteryUnit.battery1',\"decarbonization-app\", \"profit_cvr-app\", \"resilience-app\",\n",
    "          'BatteryUnit.battery2',\"decarbonization-app\", \"profit_cvr-app\", \"resilience-app\",\n",
    "          'BatteryUnit.battery3',\"decarbonization-app\", \"profit_cvr-app\", \"resilience-app\",\n",
    "   'BatteryUnit.battery4',\"decarbonization-app\", \"profit_cvr-app\", \"resilience-app\",\n",
    "   'BatteryUnit.battery5',\"decarbonization-app\", \"profit_cvr-app\", \"resilience-app\",\n",
    "   'RatioTapChanger.reg1a',\"decarbonization-app\", \"profit_cvr-app\", \"resilience-app\",\n",
    "   'RatioTapChanger.reg2a',\"decarbonization-app\", \"profit_cvr-app\", \"resilience-app\",\n",
    "   'RatioTapChanger.reg3a',\"decarbonization-app\", \"profit_cvr-app\", \"resilience-app\",\n",
    "   'RatioTapChanger.reg3c',\"decarbonization-app\", \"profit_cvr-app\", \"resilience-app\",\n",
    "   'RatioTapChanger.reg4a',\"decarbonization-app\", \"profit_cvr-app\", \"resilience-app\",\n",
    "   'RatioTapChanger.reg4c', \"decarbonization-app\", \"profit_cvr-app\", \"resilience-app\"]"
   ]
  },
  {
   "cell_type": "code",
   "execution_count": 5,
   "id": "c339432b",
   "metadata": {},
   "outputs": [],
   "source": [
    "with open('conflicts.csv', 'w') as csv_file:\n",
    "    r = \",\".join(header)\n",
    "    csv_file.write(f\"{r}\\n\")"
   ]
  },
  {
   "cell_type": "code",
   "execution_count": 6,
   "id": "662771a8",
   "metadata": {},
   "outputs": [
    {
     "ename": "NameError",
     "evalue": "name 'resolutionResult' is not defined",
     "output_type": "error",
     "traceback": [
      "\u001b[0;31m---------------------------------------------------------------------------\u001b[0m",
      "\u001b[0;31mNameError\u001b[0m                                 Traceback (most recent call last)",
      "\u001b[0;32m/tmp/ipykernel_513138/2267511203.py\u001b[0m in \u001b[0;36m<module>\u001b[0;34m\u001b[0m\n\u001b[1;32m      5\u001b[0m     \u001b[0;32mfor\u001b[0m \u001b[0mindex\u001b[0m \u001b[0;32min\u001b[0m \u001b[0mrange\u001b[0m\u001b[0;34m(\u001b[0m\u001b[0;36m1\u001b[0m\u001b[0;34m,\u001b[0m \u001b[0mlen\u001b[0m\u001b[0;34m(\u001b[0m\u001b[0mheader\u001b[0m\u001b[0;34m)\u001b[0m\u001b[0;34m,\u001b[0m\u001b[0;36m4\u001b[0m\u001b[0;34m)\u001b[0m\u001b[0;34m:\u001b[0m\u001b[0;34m\u001b[0m\u001b[0;34m\u001b[0m\u001b[0m\n\u001b[1;32m      6\u001b[0m         \u001b[0;32mif\u001b[0m \u001b[0mheader\u001b[0m\u001b[0;34m[\u001b[0m\u001b[0mindex\u001b[0m\u001b[0;34m]\u001b[0m \u001b[0;32min\u001b[0m \u001b[0mconflictResult\u001b[0m\u001b[0;34m[\u001b[0m\u001b[0mtime\u001b[0m\u001b[0;34m]\u001b[0m\u001b[0;34m[\u001b[0m\u001b[0;34m'setpoints'\u001b[0m\u001b[0;34m]\u001b[0m\u001b[0;34m:\u001b[0m\u001b[0;34m\u001b[0m\u001b[0;34m\u001b[0m\u001b[0m\n\u001b[0;32m----> 7\u001b[0;31m             \u001b[0mrow\u001b[0m\u001b[0;34m[\u001b[0m\u001b[0mindex\u001b[0m\u001b[0;34m]\u001b[0m \u001b[0;34m=\u001b[0m \u001b[0mstr\u001b[0m\u001b[0;34m(\u001b[0m\u001b[0mresolutionResult\u001b[0m\u001b[0;34m[\u001b[0m\u001b[0mtime\u001b[0m\u001b[0;34m]\u001b[0m\u001b[0;34m[\u001b[0m\u001b[0;34m'setpoints'\u001b[0m\u001b[0;34m]\u001b[0m\u001b[0;34m[\u001b[0m\u001b[0mrheader\u001b[0m\u001b[0;34m[\u001b[0m\u001b[0;34m(\u001b[0m\u001b[0mround\u001b[0m\u001b[0;34m(\u001b[0m\u001b[0mindex\u001b[0m\u001b[0;34m/\u001b[0m\u001b[0;36m4\u001b[0m\u001b[0;34m)\u001b[0m\u001b[0;34m+\u001b[0m\u001b[0;36m3\u001b[0m\u001b[0;34m)\u001b[0m\u001b[0;34m]\u001b[0m\u001b[0;34m]\u001b[0m\u001b[0;34m)\u001b[0m\u001b[0;34m\u001b[0m\u001b[0;34m\u001b[0m\u001b[0m\n\u001b[0m\u001b[1;32m      8\u001b[0m             \u001b[0mrow\u001b[0m\u001b[0;34m[\u001b[0m\u001b[0mindex\u001b[0m\u001b[0;34m+\u001b[0m\u001b[0;36m1\u001b[0m\u001b[0;34m]\u001b[0m \u001b[0;34m=\u001b[0m \u001b[0mstr\u001b[0m\u001b[0;34m(\u001b[0m\u001b[0mconflictResult\u001b[0m\u001b[0;34m[\u001b[0m\u001b[0mtime\u001b[0m\u001b[0;34m]\u001b[0m\u001b[0;34m[\u001b[0m\u001b[0;34m'setpoints'\u001b[0m\u001b[0;34m]\u001b[0m\u001b[0;34m[\u001b[0m\u001b[0mheader\u001b[0m\u001b[0;34m[\u001b[0m\u001b[0mindex\u001b[0m\u001b[0;34m]\u001b[0m\u001b[0;34m]\u001b[0m\u001b[0;34m[\u001b[0m\u001b[0mheader\u001b[0m\u001b[0;34m[\u001b[0m\u001b[0mindex\u001b[0m\u001b[0;34m+\u001b[0m\u001b[0;36m1\u001b[0m\u001b[0;34m]\u001b[0m\u001b[0;34m]\u001b[0m\u001b[0;34m)\u001b[0m\u001b[0;34m\u001b[0m\u001b[0;34m\u001b[0m\u001b[0m\n\u001b[1;32m      9\u001b[0m             \u001b[0mrow\u001b[0m\u001b[0;34m[\u001b[0m\u001b[0mindex\u001b[0m\u001b[0;34m+\u001b[0m\u001b[0;36m2\u001b[0m\u001b[0;34m]\u001b[0m \u001b[0;34m=\u001b[0m \u001b[0mstr\u001b[0m\u001b[0;34m(\u001b[0m\u001b[0mconflictResult\u001b[0m\u001b[0;34m[\u001b[0m\u001b[0mtime\u001b[0m\u001b[0;34m]\u001b[0m\u001b[0;34m[\u001b[0m\u001b[0;34m'setpoints'\u001b[0m\u001b[0;34m]\u001b[0m\u001b[0;34m[\u001b[0m\u001b[0mheader\u001b[0m\u001b[0;34m[\u001b[0m\u001b[0mindex\u001b[0m\u001b[0;34m]\u001b[0m\u001b[0;34m]\u001b[0m\u001b[0;34m[\u001b[0m\u001b[0mheader\u001b[0m\u001b[0;34m[\u001b[0m\u001b[0mindex\u001b[0m\u001b[0;34m+\u001b[0m\u001b[0;36m2\u001b[0m\u001b[0;34m]\u001b[0m\u001b[0;34m]\u001b[0m\u001b[0;34m)\u001b[0m\u001b[0;34m\u001b[0m\u001b[0;34m\u001b[0m\u001b[0m\n",
      "\u001b[0;31mNameError\u001b[0m: name 'resolutionResult' is not defined"
     ]
    }
   ],
   "source": [
    "for time in list(conflictResult.keys()):\n",
    "    row = ['']*45\n",
    "\n",
    "    row[0] = str(time)\n",
    "    for index in range(1, len(header),4):\n",
    "        if header[index] in conflictResult[time]['setpoints']:\n",
    "            row[index] = str(resolutionResult[time]['setpoints'][rheader[(round(index/4)+3)]])\n",
    "            row[index+1] = str(conflictResult[time]['setpoints'][header[index]][header[index+1]])\n",
    "            row[index+2] = str(conflictResult[time]['setpoints'][header[index]][header[index+2]])\n",
    "            row[index+3] = str(conflictResult[time]['setpoints'][header[index]][header[index+3]])\n",
    "            \n",
    "    with open('conflicts.csv', 'a') as csv_file:\n",
    "        r = \",\".join(row)\n",
    "        csv_file.write(f\"{r}\\n\")"
   ]
  },
  {
   "cell_type": "code",
   "execution_count": null,
   "id": "302dd090",
   "metadata": {},
   "outputs": [],
   "source": []
  },
  {
   "cell_type": "code",
   "execution_count": 8,
   "id": "bd77887a",
   "metadata": {},
   "outputs": [
    {
     "data": {
      "text/plain": [
       "{'setpoints': {'RatioTapChanger.reg1a': {'decarbonization-app': 7,\n",
       "   'resilience-app': 7,\n",
       "   'profit_cvr-app': -4},\n",
       "  'RatioTapChanger.reg2a': {'decarbonization-app': 0,\n",
       "   'resilience-app': -4,\n",
       "   'profit_cvr-app': 0},\n",
       "  'RatioTapChanger.reg3a': {'decarbonization-app': 1,\n",
       "   'resilience-app': 0,\n",
       "   'profit_cvr-app': 0},\n",
       "  'RatioTapChanger.reg3c': {'decarbonization-app': -5,\n",
       "   'resilience-app': -1,\n",
       "   'profit_cvr-app': -1},\n",
       "  'RatioTapChanger.reg4a': {'decarbonization-app': 2,\n",
       "   'resilience-app': -8,\n",
       "   'profit_cvr-app': -1},\n",
       "  'RatioTapChanger.reg4b': {'decarbonization-app': 1,\n",
       "   'resilience-app': -3,\n",
       "   'profit_cvr-app': -2},\n",
       "  'RatioTapChanger.reg4c': {'decarbonization-app': -3,\n",
       "   'resilience-app': -4,\n",
       "   'profit_cvr-app': -1},\n",
       "  'BatteryUnit.battery1': {'decarbonization-app': 125000.0,\n",
       "   'resilience-app': 125000.0,\n",
       "   'profit_cvr-app': 125000.0},\n",
       "  'BatteryUnit.battery2': {'decarbonization-app': 200000.0,\n",
       "   'resilience-app': 200000.0,\n",
       "   'profit_cvr-app': 200000.0},\n",
       "  'BatteryUnit.battery3': {'decarbonization-app': 100000.0,\n",
       "   'resilience-app': 100000.0,\n",
       "   'profit_cvr-app': 100000.0},\n",
       "  'BatteryUnit.battery4': {'decarbonization-app': 150000.0,\n",
       "   'resilience-app': 150000.0,\n",
       "   'profit_cvr-app': 150000.0},\n",
       "  'BatteryUnit.battery5': {'decarbonization-app': 135901.0,\n",
       "   'resilience-app': 250000.0,\n",
       "   'profit_cvr-app': 50806.425}},\n",
       " 'timestamps': {'resilience-app': 41,\n",
       "  'profit_cvr-app': 41,\n",
       "  'decarbonization-app': 41}}"
      ]
     },
     "execution_count": 8,
     "metadata": {},
     "output_type": "execute_result"
    }
   ],
   "source": [
    "{'setpoints': {'RatioTapChanger.reg1a': {'decarbonization-app': 7, 'resilience-app': 7, 'profit_cvr-app': -4}, 'RatioTapChanger.reg2a': {'decarbonization-app': 0, 'resilience-app': -4, 'profit_cvr-app': 0}, 'RatioTapChanger.reg3a': {'decarbonization-app': 1, 'resilience-app': 0, 'profit_cvr-app': 0}, 'RatioTapChanger.reg3c': {'decarbonization-app': -5, 'resilience-app': -1, 'profit_cvr-app': -1}, 'RatioTapChanger.reg4a': {'decarbonization-app': 2, 'resilience-app': -8, 'profit_cvr-app': -1}, 'RatioTapChanger.reg4b': {'decarbonization-app': 1, 'resilience-app': -3, 'profit_cvr-app': -2}, 'RatioTapChanger.reg4c': {'decarbonization-app': -3, 'resilience-app': -4, 'profit_cvr-app': -1}, 'BatteryUnit.battery1': {'decarbonization-app': 125000.0, 'resilience-app': 125000.0, 'profit_cvr-app': 125000.0}, 'BatteryUnit.battery2': {'decarbonization-app': 200000.0, 'resilience-app': 200000.0, 'profit_cvr-app': 200000.0}, 'BatteryUnit.battery3': {'decarbonization-app': 100000.0, 'resilience-app': 100000.0, 'profit_cvr-app': 100000.0}, 'BatteryUnit.battery4': {'decarbonization-app': 150000.0, 'resilience-app': 150000.0, 'profit_cvr-app': 150000.0}, 'BatteryUnit.battery5': {'decarbonization-app': 135901.0, 'resilience-app': 250000.0, 'profit_cvr-app': 50806.425}}, 'timestamps': {'resilience-app': 41, 'profit_cvr-app': 41, 'decarbonization-app': 41}}\n"
   ]
  }
 ],
 "metadata": {
  "kernelspec": {
   "display_name": "Python 3 (ipykernel)",
   "language": "python",
   "name": "python3"
  },
  "language_info": {
   "codemirror_mode": {
    "name": "ipython",
    "version": 3
   },
   "file_extension": ".py",
   "mimetype": "text/x-python",
   "name": "python",
   "nbconvert_exporter": "python",
   "pygments_lexer": "ipython3",
   "version": "3.10.6"
  }
 },
 "nbformat": 4,
 "nbformat_minor": 5
}
